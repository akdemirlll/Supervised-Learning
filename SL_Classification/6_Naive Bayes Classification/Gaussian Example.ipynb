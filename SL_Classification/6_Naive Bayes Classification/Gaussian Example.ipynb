{
 "cells": [
  {
   "cell_type": "code",
   "execution_count": 1,
   "metadata": {},
   "outputs": [],
   "source": [
    "import numpy as np"
   ]
  },
  {
   "cell_type": "code",
   "execution_count": 2,
   "metadata": {},
   "outputs": [],
   "source": [
    "def gaussian_prob(x,mu,sigma):\n",
    "     return  (1/(sigma*(2*np.pi)**(1/2)))*np.exp((-(x-mu)**2)/(2*sigma**2))"
   ]
  },
  {
   "cell_type": "code",
   "execution_count": 3,
   "metadata": {},
   "outputs": [
    {
     "data": {
      "text/plain": [
       "0.12098536225957168"
      ]
     },
     "execution_count": 3,
     "metadata": {},
     "output_type": "execute_result"
    }
   ],
   "source": [
    "gaussian_prob(2,0,2)"
   ]
  },
  {
   "cell_type": "code",
   "execution_count": 4,
   "metadata": {},
   "outputs": [
    {
     "data": {
      "text/plain": [
       "0.0044318484119380075"
      ]
     },
     "execution_count": 4,
     "metadata": {},
     "output_type": "execute_result"
    }
   ],
   "source": [
    "gaussian_prob(3,0,1)"
   ]
  },
  {
   "cell_type": "code",
   "execution_count": 5,
   "metadata": {},
   "outputs": [],
   "source": [
    "t=[6,7,5,4,6,7]"
   ]
  },
  {
   "cell_type": "code",
   "execution_count": 6,
   "metadata": {},
   "outputs": [
    {
     "data": {
      "text/plain": [
       "1.0671873729054748"
      ]
     },
     "execution_count": 6,
     "metadata": {},
     "output_type": "execute_result"
    }
   ],
   "source": [
    "(sum([(i-sum(t)/len(t))**2 for i in t])/len(t))**(1/2)"
   ]
  },
  {
   "cell_type": "code",
   "execution_count": 7,
   "metadata": {},
   "outputs": [
    {
     "data": {
      "text/plain": [
       "1.0671873729054748"
      ]
     },
     "execution_count": 7,
     "metadata": {},
     "output_type": "execute_result"
    }
   ],
   "source": [
    "np.std(t)"
   ]
  },
  {
   "cell_type": "code",
   "execution_count": 8,
   "metadata": {},
   "outputs": [
    {
     "data": {
      "text/plain": [
       "5.833333333333333"
      ]
     },
     "execution_count": 8,
     "metadata": {},
     "output_type": "execute_result"
    }
   ],
   "source": [
    "sum(t)/len(t)"
   ]
  },
  {
   "cell_type": "code",
   "execution_count": 9,
   "metadata": {},
   "outputs": [],
   "source": [
    "def somun1(tip1, tip2, yeni):\n",
    "    \"\"\"Args:\n",
    "    tip1 : array of type 1 class values, e.g. [6,7,5,4,6,7]\n",
    "    tip2 : array of type 2 class values, e.g. [8,6,3,7,9,6,5]\n",
    "    yeni : new value, e.g. 5\n",
    "    \"\"\"\n",
    "    mu1 = sum(tip1)/len(tip1)\n",
    "    std1 = (sum([(i-mu1)**2 for i in tip1])/len(tip1))**(1/2)\n",
    "\n",
    "    mu2 = sum(tip2)/len(tip2)\n",
    "    std2 = (sum([(i-mu2)**2 for i in tip2])/len(tip2))**(1/2)\n",
    "\n",
    "    prior1 = len(tip1)/(len(tip1)+len(tip2))\n",
    "    prior2 = len(tip2)/(len(tip1)+len(tip2))\n",
    "\n",
    "    p1 = gaussian_prob(yeni, mu1, std1) * prior1\n",
    "    p2 = gaussian_prob(yeni, mu2, std2) * prior2\n",
    "\n",
    "    return p1/(p1 + p2), p2/(p1 + p2)"
   ]
  },
  {
   "cell_type": "code",
   "execution_count": 10,
   "metadata": {},
   "outputs": [
    {
     "data": {
      "text/plain": [
       "(0.5810095317525742, 0.41899046824742575)"
      ]
     },
     "execution_count": 10,
     "metadata": {},
     "output_type": "execute_result"
    }
   ],
   "source": [
    "somun1([6,7,5,4,6,7],[8,6,3,7,9,6,5],5)"
   ]
  },
  {
   "cell_type": "code",
   "execution_count": 11,
   "metadata": {},
   "outputs": [],
   "source": [
    "def somun(tip1, tip2, yeni):\n",
    "    \"\"\"Args:\n",
    "    tip1 : array of type 1 class values, e.g. [6,7,5,4,6,7]\n",
    "    tip2 : array of type 2 class values, e.g. [8,6,3,7,9,6,5]\n",
    "    yeni : new value, e.g. 5\n",
    "    \"\"\"\n",
    "    mu1 = np.mean(tip1)\n",
    "    std1 = np.std(tip1)\n",
    "\n",
    "    mu2 = np.mean(tip2)\n",
    "    std2 = np.std(tip2)\n",
    "\n",
    "    prior1 = len(tip1)/(len(tip1)+len(tip2))\n",
    "    prior2 = len(tip2)/(len(tip1)+len(tip2))\n",
    "\n",
    "    p1 = gaussian_prob(yeni, mu1, std1) * prior1\n",
    "    p2 = gaussian_prob(yeni, mu2, std2) * prior2\n",
    "\n",
    "    return p1/(p1 + p2), p2/(p1 + p2)"
   ]
  },
  {
   "cell_type": "code",
   "execution_count": 12,
   "metadata": {},
   "outputs": [
    {
     "data": {
      "text/plain": [
       "(0.5810095317525742, 0.41899046824742575)"
      ]
     },
     "execution_count": 12,
     "metadata": {},
     "output_type": "execute_result"
    }
   ],
   "source": [
    "somun([6,7,5,4,6,7],[8,6,3,7,9,6,5],5)"
   ]
  },
  {
   "cell_type": "code",
   "execution_count": 13,
   "metadata": {},
   "outputs": [
    {
     "data": {
      "text/plain": [
       "(0.034808287169596636, 0.9651917128304034)"
      ]
     },
     "execution_count": 13,
     "metadata": {},
     "output_type": "execute_result"
    }
   ],
   "source": [
    "somun([6,7,5,4,6,7],[8,6,3,7,9,6,5],2)"
   ]
  },
  {
   "cell_type": "code",
   "execution_count": 14,
   "metadata": {},
   "outputs": [
    {
     "data": {
      "text/plain": [
       "(0.35105797915456094, 0.6489420208454391)"
      ]
     },
     "execution_count": 14,
     "metadata": {},
     "output_type": "execute_result"
    }
   ],
   "source": [
    "somun([6,7,5,4,6,7],[8,6,3,7,9,6,5],7.5)"
   ]
  }
 ],
 "metadata": {
  "kernelspec": {
   "display_name": "Python 3",
   "language": "python",
   "name": "python3"
  },
  "language_info": {
   "codemirror_mode": {
    "name": "ipython",
    "version": 3
   },
   "file_extension": ".py",
   "mimetype": "text/x-python",
   "name": "python",
   "nbconvert_exporter": "python",
   "pygments_lexer": "ipython3",
   "version": "3.7.4"
  }
 },
 "nbformat": 4,
 "nbformat_minor": 4
}
