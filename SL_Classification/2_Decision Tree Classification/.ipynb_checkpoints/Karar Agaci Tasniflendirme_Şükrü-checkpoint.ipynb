{
 "cells": [
  {
   "cell_type": "code",
   "execution_count": 1,
   "metadata": {},
   "outputs": [],
   "source": [
    "import matplotlib.pyplot as plt\n",
    "import numpy as np\n",
    "import pandas as pd"
   ]
  },
  {
   "cell_type": "code",
   "execution_count": 2,
   "metadata": {},
   "outputs": [],
   "source": [
    "from sklearn.datasets import make_checkerboard, make_classification"
   ]
  },
  {
   "cell_type": "code",
   "execution_count": 9,
   "metadata": {},
   "outputs": [],
   "source": [
    "X_all, y_all = make_classification(\n",
    "    n_samples=120,\n",
    "    n_features=2,\n",
    "    n_classes=2, \n",
    "    n_informative=2,\n",
    "    n_redundant=0,\n",
    "    random_state=42)"
   ]
  },
  {
   "cell_type": "code",
   "execution_count": 10,
   "metadata": {},
   "outputs": [],
   "source": [
    "from sklearn.model_selection import train_test_split"
   ]
  },
  {
   "cell_type": "code",
   "execution_count": 11,
   "metadata": {},
   "outputs": [],
   "source": [
    "X, X_reserve, y, y_reserve = train_test_split(X_all, y_all, test_size=20, random_state=42)"
   ]
  },
  {
   "cell_type": "code",
   "execution_count": 12,
   "metadata": {},
   "outputs": [
    {
     "data": {
      "text/plain": [
       "(100, 2)"
      ]
     },
     "execution_count": 12,
     "metadata": {},
     "output_type": "execute_result"
    }
   ],
   "source": [
    "X.shape"
   ]
  },
  {
   "cell_type": "code",
   "execution_count": 13,
   "metadata": {},
   "outputs": [
    {
     "data": {
      "text/plain": [
       "(100,)"
      ]
     },
     "execution_count": 13,
     "metadata": {},
     "output_type": "execute_result"
    }
   ],
   "source": [
    "y.shape"
   ]
  },
  {
   "cell_type": "code",
   "execution_count": 18,
   "metadata": {},
   "outputs": [
    {
     "data": {
      "text/plain": [
       "numpy.ndarray"
      ]
     },
     "execution_count": 18,
     "metadata": {},
     "output_type": "execute_result"
    }
   ],
   "source": [
    "type(X)"
   ]
  },
  {
   "cell_type": "code",
   "execution_count": 14,
   "metadata": {},
   "outputs": [
    {
     "data": {
      "text/plain": [
       "array([1, 1, 1, 0, 1, 0, 0, 1, 0, 1, 0, 1, 0, 0, 0, 1, 0, 0, 1, 1, 0, 0,\n",
       "       0, 1, 0, 1, 1, 0, 1, 1, 0, 0, 1, 0, 0, 0, 0, 0, 1, 0, 1, 0, 1, 1,\n",
       "       1, 1, 0, 0, 1, 0, 0, 0, 0, 1, 1, 1, 0, 0, 1, 1, 1, 1, 1, 0, 0, 1,\n",
       "       0, 0, 0, 1, 0, 1, 0, 0, 1, 1, 0, 0, 0, 1, 1, 1, 0, 1, 0, 1, 1, 1,\n",
       "       1, 1, 1, 0, 0, 1, 1, 0, 1, 0, 0, 1])"
      ]
     },
     "execution_count": 14,
     "metadata": {},
     "output_type": "execute_result"
    }
   ],
   "source": [
    "y"
   ]
  },
  {
   "cell_type": "code",
   "execution_count": 20,
   "metadata": {},
   "outputs": [
    {
     "data": {
      "text/html": [
       "<div>\n",
       "<style scoped>\n",
       "    .dataframe tbody tr th:only-of-type {\n",
       "        vertical-align: middle;\n",
       "    }\n",
       "\n",
       "    .dataframe tbody tr th {\n",
       "        vertical-align: top;\n",
       "    }\n",
       "\n",
       "    .dataframe thead th {\n",
       "        text-align: right;\n",
       "    }\n",
       "</style>\n",
       "<table border=\"1\" class=\"dataframe\">\n",
       "  <thead>\n",
       "    <tr style=\"text-align: right;\">\n",
       "      <th></th>\n",
       "      <th>0</th>\n",
       "      <th>1</th>\n",
       "      <th>y</th>\n",
       "    </tr>\n",
       "  </thead>\n",
       "  <tbody>\n",
       "    <tr>\n",
       "      <th>0</th>\n",
       "      <td>1.638177</td>\n",
       "      <td>1.389071</td>\n",
       "      <td>1</td>\n",
       "    </tr>\n",
       "    <tr>\n",
       "      <th>1</th>\n",
       "      <td>1.802591</td>\n",
       "      <td>-0.996984</td>\n",
       "      <td>1</td>\n",
       "    </tr>\n",
       "    <tr>\n",
       "      <th>2</th>\n",
       "      <td>0.680559</td>\n",
       "      <td>-1.212639</td>\n",
       "      <td>1</td>\n",
       "    </tr>\n",
       "    <tr>\n",
       "      <th>3</th>\n",
       "      <td>-2.823120</td>\n",
       "      <td>0.058548</td>\n",
       "      <td>0</td>\n",
       "    </tr>\n",
       "    <tr>\n",
       "      <th>4</th>\n",
       "      <td>1.424448</td>\n",
       "      <td>0.962913</td>\n",
       "      <td>1</td>\n",
       "    </tr>\n",
       "    <tr>\n",
       "      <th>...</th>\n",
       "      <td>...</td>\n",
       "      <td>...</td>\n",
       "      <td>...</td>\n",
       "    </tr>\n",
       "    <tr>\n",
       "      <th>95</th>\n",
       "      <td>0.299674</td>\n",
       "      <td>1.449662</td>\n",
       "      <td>0</td>\n",
       "    </tr>\n",
       "    <tr>\n",
       "      <th>96</th>\n",
       "      <td>1.010966</td>\n",
       "      <td>-1.451909</td>\n",
       "      <td>1</td>\n",
       "    </tr>\n",
       "    <tr>\n",
       "      <th>97</th>\n",
       "      <td>-1.019234</td>\n",
       "      <td>-0.749154</td>\n",
       "      <td>0</td>\n",
       "    </tr>\n",
       "    <tr>\n",
       "      <th>98</th>\n",
       "      <td>-0.066027</td>\n",
       "      <td>-0.255683</td>\n",
       "      <td>0</td>\n",
       "    </tr>\n",
       "    <tr>\n",
       "      <th>99</th>\n",
       "      <td>1.980044</td>\n",
       "      <td>0.520778</td>\n",
       "      <td>1</td>\n",
       "    </tr>\n",
       "  </tbody>\n",
       "</table>\n",
       "<p>100 rows × 3 columns</p>\n",
       "</div>"
      ],
      "text/plain": [
       "           0         1  y\n",
       "0   1.638177  1.389071  1\n",
       "1   1.802591 -0.996984  1\n",
       "2   0.680559 -1.212639  1\n",
       "3  -2.823120  0.058548  0\n",
       "4   1.424448  0.962913  1\n",
       "..       ...       ... ..\n",
       "95  0.299674  1.449662  0\n",
       "96  1.010966 -1.451909  1\n",
       "97 -1.019234 -0.749154  0\n",
       "98 -0.066027 -0.255683  0\n",
       "99  1.980044  0.520778  1\n",
       "\n",
       "[100 rows x 3 columns]"
      ]
     },
     "execution_count": 20,
     "metadata": {},
     "output_type": "execute_result"
    }
   ],
   "source": [
    "pd.DataFrame(X).assign(y=y)"
   ]
  },
  {
   "cell_type": "code",
   "execution_count": 21,
   "metadata": {},
   "outputs": [
    {
     "data": {
      "text/plain": [
       "array([ 1.63817662,  1.80259112,  0.68055854, -2.82311988,  1.42444754,\n",
       "       -1.30405785, -2.97434745,  0.9335001 , -1.46402522,  1.10934408,\n",
       "       -0.55260446,  1.60399488, -0.10216305, -0.11779595, -2.44457987,\n",
       "        1.62521644, -0.7482634 , -0.17532237,  0.45698656,  1.15528611,\n",
       "       -0.79426315, -1.20092257, -1.45298767,  1.56327124,  0.30193178,\n",
       "       -0.56384537,  0.31605595, -2.30237873,  0.94548739, -0.0363979 ,\n",
       "       -0.78319068,  0.14467705,  1.75002228, -0.76351249, -0.81506696,\n",
       "       -2.98936678, -0.59654265, -1.62954647,  1.46215558,  0.31802018,\n",
       "        0.43056225,  0.12448467,  1.14959027,  1.72582839,  1.70089168,\n",
       "        2.3346656 , -1.26586492, -1.04023672,  0.65194622, -0.37661516,\n",
       "       -0.12313953, -1.62130925, -0.19599492,  0.93892957,  1.49987302,\n",
       "        2.60641681, -1.54125663, -0.90581403,  1.34798876,  1.38989067,\n",
       "        1.16014529,  0.89004104,  0.13667787, -1.93096511, -1.54670888,\n",
       "        0.40512575, -0.41954654,  0.36651051, -0.43840155,  0.31305562,\n",
       "       -1.13325383,  1.02470678, -1.78543337,  1.2211983 ,  0.6727729 ,\n",
       "        0.45892397,  0.13668643, -0.57857965, -1.93464033,  0.35799592,\n",
       "        0.956606  ,  1.01777258, -0.74698003, -0.06936548, -0.2661022 ,\n",
       "        0.72756997,  0.26526514,  0.31679337,  0.66991494,  0.43228556,\n",
       "        1.1439807 , -0.38264966, -0.13680324,  1.4380702 , -0.58590324,\n",
       "        0.29967427,  1.01096597, -1.01923446, -0.06602666,  1.98004429])"
      ]
     },
     "execution_count": 21,
     "metadata": {},
     "output_type": "execute_result"
    }
   ],
   "source": [
    "X.T[0]  # --> X[:, 0]"
   ]
  },
  {
   "cell_type": "code",
   "execution_count": 22,
   "metadata": {},
   "outputs": [
    {
     "data": {
      "text/plain": [
       "Text(0, 0.5, 'Hacim')"
      ]
     },
     "execution_count": 22,
     "metadata": {},
     "output_type": "execute_result"
    },
    {
     "data": {
      "image/png": "[encoded data removed]",
      "text/plain": [
       "<Figure size 432x288 with 2 Axes>"
      ]
     },
     "metadata": {
      "needs_background": "light"
     },
     "output_type": "display_data"
    }
   ],
   "source": [
    "plt.scatter(X.T[0], X.T[1], c=y)\n",
    "plt.colorbar()\n",
    "plt.xlabel('Agirlik')\n",
    "plt.ylabel('Hacim')"
   ]
  },
  {
   "cell_type": "code",
   "execution_count": 24,
   "metadata": {},
   "outputs": [],
   "source": [
    "X_train, X_test, y_train, y_test = train_test_split(X, y, test_size=0.2, random_state=42)"
   ]
  },
  {
   "cell_type": "code",
   "execution_count": 25,
   "metadata": {},
   "outputs": [],
   "source": [
    "from sklearn.tree import DecisionTreeClassifier"
   ]
  },
  {
   "cell_type": "code",
   "execution_count": 26,
   "metadata": {},
   "outputs": [
    {
     "data": {
      "text/plain": [
       "'0.22.1'"
      ]
     },
     "execution_count": 26,
     "metadata": {},
     "output_type": "execute_result"
    }
   ],
   "source": [
    "import sklearn\n",
    "sklearn.__version__"
   ]
  },
  {
   "cell_type": "code",
   "execution_count": 27,
   "metadata": {},
   "outputs": [],
   "source": [
    "model = DecisionTreeClassifier(random_state=42)"
   ]
  },
  {
   "cell_type": "code",
   "execution_count": 28,
   "metadata": {},
   "outputs": [
    {
     "data": {
      "text/plain": [
       "DecisionTreeClassifier(ccp_alpha=0.0, class_weight=None, criterion='gini',\n",
       "                       max_depth=None, max_features=None, max_leaf_nodes=None,\n",
       "                       min_impurity_decrease=0.0, min_impurity_split=None,\n",
       "                       min_samples_leaf=1, min_samples_split=2,\n",
       "                       min_weight_fraction_leaf=0.0, presort='deprecated',\n",
       "                       random_state=42, splitter='best')"
      ]
     },
     "execution_count": 28,
     "metadata": {},
     "output_type": "execute_result"
    }
   ],
   "source": [
    "model.fit(X_train, y_train)"
   ]
  },
  {
   "cell_type": "code",
   "execution_count": 29,
   "metadata": {},
   "outputs": [
    {
     "data": {
      "text/plain": [
       "1.0"
      ]
     },
     "execution_count": 29,
     "metadata": {},
     "output_type": "execute_result"
    }
   ],
   "source": [
    "model.score(X_train, y_train)"
   ]
  },
  {
   "cell_type": "code",
   "execution_count": 30,
   "metadata": {},
   "outputs": [
    {
     "data": {
      "text/plain": [
       "0.75"
      ]
     },
     "execution_count": 30,
     "metadata": {},
     "output_type": "execute_result"
    }
   ],
   "source": [
    "model.score(X_test, y_test)"
   ]
  },
  {
   "cell_type": "markdown",
   "metadata": {},
   "source": [
    "Tek bir train-test seti icin sonuclar:"
   ]
  },
  {
   "cell_type": "code",
   "execution_count": 31,
   "metadata": {},
   "outputs": [],
   "source": [
    "depths = range(1, 14)\n",
    "test_scores = []\n",
    "train_scores = []\n",
    "\n",
    "for d in depths:\n",
    "    model = DecisionTreeClassifier(max_depth=d)\n",
    "    model.fit(X_train, y_train)\n",
    "    train_scores.append(model.score(X_train, y_train))\n",
    "    test_scores.append(model.score(X_test, y_test))\n"
   ]
  },
  {
   "cell_type": "code",
   "execution_count": 32,
   "metadata": {},
   "outputs": [
    {
     "data": {
      "text/plain": [
       "<matplotlib.legend.Legend at 0x2f3adb76108>"
      ]
     },
     "execution_count": 32,
     "metadata": {},
     "output_type": "execute_result"
    },
    {
     "data": {
      "image/png": "[encoded data removed]",
      "text/plain": [
       "<Figure size 432x288 with 1 Axes>"
      ]
     },
     "metadata": {
      "needs_background": "light"
     },
     "output_type": "display_data"
    }
   ],
   "source": [
    "plt.plot(depths, train_scores, label='train')\n",
    "plt.plot(depths, test_scores, label='test')\n",
    "plt.legend()"
   ]
  },
  {
   "cell_type": "markdown",
   "metadata": {},
   "source": [
    "Cross-validation icin sonuclar:"
   ]
  },
  {
   "cell_type": "code",
   "execution_count": 33,
   "metadata": {},
   "outputs": [],
   "source": [
    "from sklearn.model_selection import cross_validate"
   ]
  },
  {
   "cell_type": "code",
   "execution_count": 34,
   "metadata": {},
   "outputs": [
    {
     "data": {
      "text/plain": [
       "{'fit_time': array([0.00199819, 0.00099778, 0.        , 0.00099921, 0.        ,\n",
       "        0.        , 0.00099826, 0.        , 0.        , 0.00099993]),\n",
       " 'score_time': array([0.        , 0.        , 0.00099802, 0.        , 0.        ,\n",
       "        0.00099969, 0.        , 0.        , 0.00099921, 0.        ]),\n",
       " 'test_score': array([0.9, 1. , 0.7, 0.9, 0.9, 0.8, 0.9, 0.6, 0.9, 0.6])}"
      ]
     },
     "execution_count": 34,
     "metadata": {},
     "output_type": "execute_result"
    }
   ],
   "source": [
    "cross_validate(model, X, y, cv=10)"
   ]
  },
  {
   "cell_type": "code",
   "execution_count": 35,
   "metadata": {},
   "outputs": [],
   "source": [
    "depths = range(1, 19)\n",
    "test_scores = []\n",
    "train_scores = []\n",
    "\n",
    "for d in depths:\n",
    "    model = DecisionTreeClassifier(max_depth=d)\n",
    "    \n",
    "    results = cross_validate(model, X_train, y_train, return_train_score=True, cv=10)\n",
    "    \n",
    "    train_scores.append(results['train_score'].mean())\n",
    "    test_scores.append(results['test_score'].mean())\n"
   ]
  },
  {
   "cell_type": "code",
   "execution_count": 36,
   "metadata": {},
   "outputs": [
    {
     "data": {
      "text/plain": [
       "<matplotlib.legend.Legend at 0x2f3adbf3dc8>"
      ]
     },
     "execution_count": 36,
     "metadata": {},
     "output_type": "execute_result"
    },
    {
     "data": {
      "image/png": "[encoded data removed]",
      "text/plain": [
       "<Figure size 432x288 with 1 Axes>"
      ]
     },
     "metadata": {
      "needs_background": "light"
     },
     "output_type": "display_data"
    }
   ],
   "source": [
    "plt.plot(depths, train_scores, label='train')\n",
    "plt.plot(depths, test_scores, label='test')\n",
    "plt.legend()"
   ]
  },
  {
   "cell_type": "code",
   "execution_count": 37,
   "metadata": {},
   "outputs": [],
   "source": [
    "model = DecisionTreeClassifier(max_depth=1)"
   ]
  },
  {
   "cell_type": "code",
   "execution_count": 38,
   "metadata": {},
   "outputs": [
    {
     "data": {
      "text/plain": [
       "DecisionTreeClassifier(ccp_alpha=0.0, class_weight=None, criterion='gini',\n",
       "                       max_depth=1, max_features=None, max_leaf_nodes=None,\n",
       "                       min_impurity_decrease=0.0, min_impurity_split=None,\n",
       "                       min_samples_leaf=1, min_samples_split=2,\n",
       "                       min_weight_fraction_leaf=0.0, presort='deprecated',\n",
       "                       random_state=None, splitter='best')"
      ]
     },
     "execution_count": 38,
     "metadata": {},
     "output_type": "execute_result"
    }
   ],
   "source": [
    "model.fit(X_train, y_train)"
   ]
  },
  {
   "cell_type": "code",
   "execution_count": 39,
   "metadata": {},
   "outputs": [
    {
     "data": {
      "text/plain": [
       "0.85"
      ]
     },
     "execution_count": 39,
     "metadata": {},
     "output_type": "execute_result"
    }
   ],
   "source": [
    "model.score(X_test, y_test)"
   ]
  },
  {
   "cell_type": "code",
   "execution_count": 40,
   "metadata": {},
   "outputs": [],
   "source": [
    "y_pred = model.predict(X)"
   ]
  },
  {
   "cell_type": "code",
   "execution_count": 153,
   "metadata": {},
   "outputs": [
    {
     "data": {
      "text/plain": [
       "Text(0, 0.5, 'Hacim')"
      ]
     },
     "execution_count": 153,
     "metadata": {},
     "output_type": "execute_result"
    },
    {
     "data": {
      "image/png": "[encoded data removed]",
      "text/plain": [
       "<Figure size 576x288 with 2 Axes>"
      ]
     },
     "metadata": {
      "needs_background": "light"
     },
     "output_type": "display_data"
    }
   ],
   "source": [
    "x0range = np.linspace(X.T[0].min() - 1, X.T[0].max() + 1, 1000)\n",
    "x1range = np.linspace(X.T[1].min() - 1, X.T[1].max() + 1, 1000)\n",
    "\n",
    "xx, yy = np.meshgrid(x0range, x1range)\n",
    "\n",
    "plt.figure(figsize=(8, 4))\n",
    "plt.contourf(xx,\n",
    "             yy,\n",
    "             model.predict(np.array([xx.ravel(), yy.ravel()]).T).reshape(xx.shape),\n",
    "             alpha=0.5\n",
    "            )\n",
    "plt.scatter(X.T[0], X.T[1], c=(y!=y_pred), linewidths=2, edgecolors='black', cmap='jet')\n",
    "plt.colorbar()\n",
    "plt.xlabel('Agirlik')\n",
    "plt.ylabel('Hacim')"
   ]
  },
  {
   "cell_type": "code",
   "execution_count": 41,
   "metadata": {},
   "outputs": [],
   "source": [
    "from sklearn.metrics import confusion_matrix"
   ]
  },
  {
   "cell_type": "markdown",
   "metadata": {},
   "source": [
    "Egitim seti icin confusion matrix"
   ]
  },
  {
   "cell_type": "code",
   "execution_count": 42,
   "metadata": {},
   "outputs": [
    {
     "data": {
      "text/html": [
       "<div>\n",
       "<style scoped>\n",
       "    .dataframe tbody tr th:only-of-type {\n",
       "        vertical-align: middle;\n",
       "    }\n",
       "\n",
       "    .dataframe tbody tr th {\n",
       "        vertical-align: top;\n",
       "    }\n",
       "\n",
       "    .dataframe thead th {\n",
       "        text-align: right;\n",
       "    }\n",
       "</style>\n",
       "<table border=\"1\" class=\"dataframe\">\n",
       "  <thead>\n",
       "    <tr style=\"text-align: right;\">\n",
       "      <th></th>\n",
       "      <th>0</th>\n",
       "      <th>1</th>\n",
       "    </tr>\n",
       "  </thead>\n",
       "  <tbody>\n",
       "    <tr>\n",
       "      <th>0</th>\n",
       "      <td>38</td>\n",
       "      <td>1</td>\n",
       "    </tr>\n",
       "    <tr>\n",
       "      <th>1</th>\n",
       "      <td>5</td>\n",
       "      <td>36</td>\n",
       "    </tr>\n",
       "  </tbody>\n",
       "</table>\n",
       "</div>"
      ],
      "text/plain": [
       "    0   1\n",
       "0  38   1\n",
       "1   5  36"
      ]
     },
     "execution_count": 42,
     "metadata": {},
     "output_type": "execute_result"
    }
   ],
   "source": [
    "y_pred = model.predict(X_train)\n",
    "pd.DataFrame(confusion_matrix(y_train, y_pred))"
   ]
  },
  {
   "cell_type": "markdown",
   "metadata": {},
   "source": [
    "Test seti icin confusion matrix"
   ]
  },
  {
   "cell_type": "code",
   "execution_count": 43,
   "metadata": {},
   "outputs": [
    {
     "data": {
      "text/html": [
       "<div>\n",
       "<style scoped>\n",
       "    .dataframe tbody tr th:only-of-type {\n",
       "        vertical-align: middle;\n",
       "    }\n",
       "\n",
       "    .dataframe tbody tr th {\n",
       "        vertical-align: top;\n",
       "    }\n",
       "\n",
       "    .dataframe thead th {\n",
       "        text-align: right;\n",
       "    }\n",
       "</style>\n",
       "<table border=\"1\" class=\"dataframe\">\n",
       "  <thead>\n",
       "    <tr style=\"text-align: right;\">\n",
       "      <th></th>\n",
       "      <th>0</th>\n",
       "      <th>1</th>\n",
       "    </tr>\n",
       "  </thead>\n",
       "  <tbody>\n",
       "    <tr>\n",
       "      <th>0</th>\n",
       "      <td>9</td>\n",
       "      <td>2</td>\n",
       "    </tr>\n",
       "    <tr>\n",
       "      <th>1</th>\n",
       "      <td>1</td>\n",
       "      <td>8</td>\n",
       "    </tr>\n",
       "  </tbody>\n",
       "</table>\n",
       "</div>"
      ],
      "text/plain": [
       "   0  1\n",
       "0  9  2\n",
       "1  1  8"
      ]
     },
     "execution_count": 43,
     "metadata": {},
     "output_type": "execute_result"
    }
   ],
   "source": [
    "y_pred = model.predict(X_test)\n",
    "pd.DataFrame(confusion_matrix(y_test, y_pred))"
   ]
  },
  {
   "cell_type": "code",
   "execution_count": 44,
   "metadata": {},
   "outputs": [],
   "source": [
    "from sklearn.metrics import precision_score, recall_score"
   ]
  },
  {
   "cell_type": "markdown",
   "metadata": {},
   "source": [
    "Test precision ve recall"
   ]
  },
  {
   "cell_type": "code",
   "execution_count": 45,
   "metadata": {},
   "outputs": [
    {
     "data": {
      "text/plain": [
       "0.8"
      ]
     },
     "execution_count": 45,
     "metadata": {},
     "output_type": "execute_result"
    }
   ],
   "source": [
    "precision_score(y_test, y_pred)"
   ]
  },
  {
   "cell_type": "code",
   "execution_count": 46,
   "metadata": {},
   "outputs": [
    {
     "data": {
      "text/plain": [
       "0.8888888888888888"
      ]
     },
     "execution_count": 46,
     "metadata": {},
     "output_type": "execute_result"
    }
   ],
   "source": [
    "recall_score(y_test, y_pred)"
   ]
  },
  {
   "cell_type": "code",
   "execution_count": 47,
   "metadata": {},
   "outputs": [
    {
     "data": {
      "text/plain": [
       "array([[0.02702703, 0.97297297],\n",
       "       [0.02702703, 0.97297297],\n",
       "       [0.02702703, 0.97297297],\n",
       "       [0.88372093, 0.11627907],\n",
       "       [0.02702703, 0.97297297],\n",
       "       [0.88372093, 0.11627907],\n",
       "       [0.88372093, 0.11627907],\n",
       "       [0.02702703, 0.97297297],\n",
       "       [0.88372093, 0.11627907],\n",
       "       [0.02702703, 0.97297297],\n",
       "       [0.88372093, 0.11627907],\n",
       "       [0.02702703, 0.97297297],\n",
       "       [0.88372093, 0.11627907],\n",
       "       [0.88372093, 0.11627907],\n",
       "       [0.88372093, 0.11627907],\n",
       "       [0.02702703, 0.97297297],\n",
       "       [0.88372093, 0.11627907],\n",
       "       [0.88372093, 0.11627907],\n",
       "       [0.02702703, 0.97297297],\n",
       "       [0.02702703, 0.97297297],\n",
       "       [0.88372093, 0.11627907],\n",
       "       [0.88372093, 0.11627907],\n",
       "       [0.88372093, 0.11627907],\n",
       "       [0.02702703, 0.97297297],\n",
       "       [0.88372093, 0.11627907],\n",
       "       [0.88372093, 0.11627907],\n",
       "       [0.02702703, 0.97297297],\n",
       "       [0.88372093, 0.11627907],\n",
       "       [0.02702703, 0.97297297],\n",
       "       [0.88372093, 0.11627907],\n",
       "       [0.88372093, 0.11627907],\n",
       "       [0.88372093, 0.11627907],\n",
       "       [0.02702703, 0.97297297],\n",
       "       [0.88372093, 0.11627907],\n",
       "       [0.88372093, 0.11627907],\n",
       "       [0.88372093, 0.11627907],\n",
       "       [0.88372093, 0.11627907],\n",
       "       [0.88372093, 0.11627907],\n",
       "       [0.02702703, 0.97297297],\n",
       "       [0.02702703, 0.97297297],\n",
       "       [0.02702703, 0.97297297],\n",
       "       [0.88372093, 0.11627907],\n",
       "       [0.02702703, 0.97297297],\n",
       "       [0.02702703, 0.97297297],\n",
       "       [0.02702703, 0.97297297],\n",
       "       [0.02702703, 0.97297297],\n",
       "       [0.88372093, 0.11627907],\n",
       "       [0.88372093, 0.11627907],\n",
       "       [0.02702703, 0.97297297],\n",
       "       [0.88372093, 0.11627907],\n",
       "       [0.88372093, 0.11627907],\n",
       "       [0.88372093, 0.11627907],\n",
       "       [0.88372093, 0.11627907],\n",
       "       [0.02702703, 0.97297297],\n",
       "       [0.02702703, 0.97297297],\n",
       "       [0.02702703, 0.97297297],\n",
       "       [0.88372093, 0.11627907],\n",
       "       [0.88372093, 0.11627907],\n",
       "       [0.02702703, 0.97297297],\n",
       "       [0.02702703, 0.97297297],\n",
       "       [0.02702703, 0.97297297],\n",
       "       [0.02702703, 0.97297297],\n",
       "       [0.88372093, 0.11627907],\n",
       "       [0.88372093, 0.11627907],\n",
       "       [0.88372093, 0.11627907],\n",
       "       [0.02702703, 0.97297297],\n",
       "       [0.88372093, 0.11627907],\n",
       "       [0.02702703, 0.97297297],\n",
       "       [0.88372093, 0.11627907],\n",
       "       [0.02702703, 0.97297297],\n",
       "       [0.88372093, 0.11627907],\n",
       "       [0.02702703, 0.97297297],\n",
       "       [0.88372093, 0.11627907],\n",
       "       [0.02702703, 0.97297297],\n",
       "       [0.02702703, 0.97297297],\n",
       "       [0.02702703, 0.97297297],\n",
       "       [0.88372093, 0.11627907],\n",
       "       [0.88372093, 0.11627907],\n",
       "       [0.88372093, 0.11627907],\n",
       "       [0.02702703, 0.97297297],\n",
       "       [0.02702703, 0.97297297],\n",
       "       [0.02702703, 0.97297297],\n",
       "       [0.88372093, 0.11627907],\n",
       "       [0.88372093, 0.11627907],\n",
       "       [0.88372093, 0.11627907],\n",
       "       [0.02702703, 0.97297297],\n",
       "       [0.88372093, 0.11627907],\n",
       "       [0.02702703, 0.97297297],\n",
       "       [0.02702703, 0.97297297],\n",
       "       [0.02702703, 0.97297297],\n",
       "       [0.02702703, 0.97297297],\n",
       "       [0.88372093, 0.11627907],\n",
       "       [0.88372093, 0.11627907],\n",
       "       [0.02702703, 0.97297297],\n",
       "       [0.88372093, 0.11627907],\n",
       "       [0.88372093, 0.11627907],\n",
       "       [0.02702703, 0.97297297],\n",
       "       [0.88372093, 0.11627907],\n",
       "       [0.88372093, 0.11627907],\n",
       "       [0.02702703, 0.97297297]])"
      ]
     },
     "execution_count": 47,
     "metadata": {},
     "output_type": "execute_result"
    }
   ],
   "source": [
    "model.predict_proba(X)"
   ]
  },
  {
   "cell_type": "code",
   "execution_count": 49,
   "metadata": {},
   "outputs": [
    {
     "data": {
      "text/plain": [
       "Text(0, 0.5, 'Hacim')"
      ]
     },
     "execution_count": 49,
     "metadata": {},
     "output_type": "execute_result"
    },
    {
     "data": {
      "image/png": "[encoded data removed]",
      "text/plain": [
       "<Figure size 576x288 with 2 Axes>"
      ]
     },
     "metadata": {
      "needs_background": "light"
     },
     "output_type": "display_data"
    }
   ],
   "source": [
    "model = DecisionTreeClassifier(max_depth=1)\n",
    "model.fit(X_train, y_train)\n",
    "\n",
    "x0range = np.linspace(X.T[0].min() - 1, X.T[0].max() + 1, 1000)\n",
    "x1range = np.linspace(X.T[1].min() - 1, X.T[1].max() + 1, 1000)\n",
    "\n",
    "xx, yy = np.meshgrid(x0range, x1range)\n",
    "\n",
    "plt.figure(figsize=(8, 4))\n",
    "plt.contourf(xx,\n",
    "             yy,\n",
    "             model.predict_proba(np.array([xx.ravel(), yy.ravel()]).T)[:,1].reshape(xx.shape),\n",
    "             alpha=0.5\n",
    "            )\n",
    "plt.scatter(X.T[0], X.T[1], c=(y!=model.predict(X)), linewidths=2, edgecolors='black', cmap='jet')\n",
    "plt.colorbar()\n",
    "plt.xlabel('Agirlik')\n",
    "plt.ylabel('Hacim')"
   ]
  },
  {
   "cell_type": "code",
   "execution_count": 50,
   "metadata": {},
   "outputs": [
    {
     "data": {
      "text/plain": [
       "Text(0, 0.5, 'Hacim')"
      ]
     },
     "execution_count": 50,
     "metadata": {},
     "output_type": "execute_result"
    },
    {
     "data": {
      "image/png": "[encoded data removed]",
      "text/plain": [
       "<Figure size 576x288 with 2 Axes>"
      ]
     },
     "metadata": {
      "needs_background": "light"
     },
     "output_type": "display_data"
    }
   ],
   "source": [
    "model = DecisionTreeClassifier(class_weight={0:2, 1:50}, max_depth=1)\n",
    "\n",
    "model.fit(X, y)\n",
    "\n",
    "x0range = np.linspace(X.T[0].min() - 1, X.T[0].max() + 1, 1000)\n",
    "x1range = np.linspace(X.T[1].min() - 1, X.T[1].max() + 1, 1000)\n",
    "\n",
    "xx, yy = np.meshgrid(x0range, x1range)\n",
    "\n",
    "plt.figure(figsize=(8, 4))\n",
    "plt.contourf(xx,\n",
    "             yy,\n",
    "             model.predict_proba(np.array([xx.ravel(), yy.ravel()]).T)[:,1].reshape(xx.shape),\n",
    "             alpha=0.5\n",
    "            )\n",
    "plt.scatter(X.T[0], X.T[1], c=(y!=model.predict(X)), linewidths=2, edgecolors='black', cmap='jet')\n",
    "plt.colorbar()\n",
    "plt.xlabel('Agirlik')\n",
    "plt.ylabel('Hacim')"
   ]
  },
  {
   "cell_type": "code",
   "execution_count": 51,
   "metadata": {},
   "outputs": [
    {
     "data": {
      "text/plain": [
       "1.0"
      ]
     },
     "execution_count": 51,
     "metadata": {},
     "output_type": "execute_result"
    }
   ],
   "source": [
    "recall_score(y, model.predict(X))"
   ]
  },
  {
   "cell_type": "code",
   "execution_count": 52,
   "metadata": {},
   "outputs": [
    {
     "data": {
      "text/plain": [
       "0.6944444444444444"
      ]
     },
     "execution_count": 52,
     "metadata": {},
     "output_type": "execute_result"
    }
   ],
   "source": [
    "precision_score(y, model.predict(X))"
   ]
  },
  {
   "cell_type": "code",
   "execution_count": 89,
   "metadata": {},
   "outputs": [],
   "source": [
    "a = [1, 1, 1, 1, 1, 1]\n",
    "b = [1, 0, 1, 0, 1, 1]\n",
    "b2 = [1, 1, 1, 0, 1, 1]\n",
    "c = [0, 0, 0, 0, 0, 0]"
   ]
  },
  {
   "cell_type": "code",
   "execution_count": null,
   "metadata": {},
   "outputs": [],
   "source": []
  },
  {
   "cell_type": "code",
   "execution_count": 100,
   "metadata": {},
   "outputs": [],
   "source": [
    "b = np.array(b)"
   ]
  },
  {
   "cell_type": "code",
   "execution_count": 104,
   "metadata": {},
   "outputs": [
    {
     "data": {
      "text/plain": [
       "4"
      ]
     },
     "execution_count": 104,
     "metadata": {},
     "output_type": "execute_result"
    }
   ],
   "source": [
    "len(b[b==1])"
   ]
  },
  {
   "cell_type": "code",
   "execution_count": 101,
   "metadata": {},
   "outputs": [
    {
     "data": {
      "text/plain": [
       "0.6666666666666666"
      ]
     },
     "execution_count": 101,
     "metadata": {},
     "output_type": "execute_result"
    }
   ],
   "source": [
    "gelme_olasiligi(b,1)"
   ]
  },
  {
   "cell_type": "code",
   "execution_count": null,
   "metadata": {},
   "outputs": [],
   "source": []
  },
  {
   "cell_type": "code",
   "execution_count": 83,
   "metadata": {},
   "outputs": [],
   "source": [
    "def gelme_olasiligi(l, sayi):\n",
    "    return (len(l[l==sayi]) / len(l))"
   ]
  },
  {
   "cell_type": "code",
   "execution_count": 84,
   "metadata": {},
   "outputs": [],
   "source": [
    "def gini_impurity(x):\n",
    "    x = np.array(x)\n",
    "    return 1 - gelme_olasiligi(x, 0)**2 - gelme_olasiligi(x, 1)**2"
   ]
  },
  {
   "cell_type": "code",
   "execution_count": 74,
   "metadata": {},
   "outputs": [
    {
     "data": {
      "text/plain": [
       "0.0"
      ]
     },
     "execution_count": 74,
     "metadata": {},
     "output_type": "execute_result"
    }
   ],
   "source": [
    "gini_impurity(a)"
   ]
  },
  {
   "cell_type": "code",
   "execution_count": 75,
   "metadata": {},
   "outputs": [
    {
     "data": {
      "text/plain": [
       "0.4444444444444444"
      ]
     },
     "execution_count": 75,
     "metadata": {},
     "output_type": "execute_result"
    }
   ],
   "source": [
    "gini_impurity(b)"
   ]
  },
  {
   "cell_type": "code",
   "execution_count": 76,
   "metadata": {},
   "outputs": [
    {
     "data": {
      "text/plain": [
       "0.2777777777777777"
      ]
     },
     "execution_count": 76,
     "metadata": {},
     "output_type": "execute_result"
    }
   ],
   "source": [
    "gini_impurity(b2)"
   ]
  },
  {
   "cell_type": "code",
   "execution_count": 68,
   "metadata": {},
   "outputs": [
    {
     "data": {
      "text/plain": [
       "0.0"
      ]
     },
     "execution_count": 68,
     "metadata": {},
     "output_type": "execute_result"
    }
   ],
   "source": [
    "gini_impurity(c)"
   ]
  },
  {
   "cell_type": "code",
   "execution_count": 69,
   "metadata": {},
   "outputs": [
    {
     "ename": "SyntaxError",
     "evalue": "invalid syntax (<ipython-input-69-57058e7cbc0c>, line 1)",
     "output_type": "error",
     "traceback": [
      "\u001b[1;36m  File \u001b[1;32m\"<ipython-input-69-57058e7cbc0c>\"\u001b[1;36m, line \u001b[1;32m1\u001b[0m\n\u001b[1;33m    a a a a a a a a a a\u001b[0m\n\u001b[1;37m      ^\u001b[0m\n\u001b[1;31mSyntaxError\u001b[0m\u001b[1;31m:\u001b[0m invalid syntax\n"
     ]
    }
   ],
   "source": [
    "a a a a a a a a a a\n",
    "\n",
    "a a a a a a a a  -> train\n",
    "|\n",
    "|_ cross validation -> en iyi derinlik\n",
    "\n",
    "\n",
    "\n",
    "\n",
    "a a -> test en iyi derinligi burada test et"
   ]
  },
  {
   "cell_type": "code",
   "execution_count": null,
   "metadata": {},
   "outputs": [],
   "source": []
  },
  {
   "cell_type": "code",
   "execution_count": null,
   "metadata": {},
   "outputs": [],
   "source": []
  },
  {
   "cell_type": "code",
   "execution_count": 70,
   "metadata": {},
   "outputs": [
    {
     "data": {
      "text/plain": [
       "DecisionTreeClassifier(ccp_alpha=0.0, class_weight=None, criterion='gini',\n",
       "                       max_depth=1, max_features=None, max_leaf_nodes=None,\n",
       "                       min_impurity_decrease=0.0, min_impurity_split=None,\n",
       "                       min_samples_leaf=1, min_samples_split=2,\n",
       "                       min_weight_fraction_leaf=0.0, presort='deprecated',\n",
       "                       random_state=None, splitter='best')"
      ]
     },
     "execution_count": 70,
     "metadata": {},
     "output_type": "execute_result"
    }
   ],
   "source": [
    "model = DecisionTreeClassifier(max_depth=1)\n",
    "model.fit(X, y)"
   ]
  },
  {
   "cell_type": "code",
   "execution_count": 219,
   "metadata": {},
   "outputs": [
    {
     "data": {
      "text/plain": [
       "0.95"
      ]
     },
     "execution_count": 219,
     "metadata": {},
     "output_type": "execute_result"
    }
   ],
   "source": [
    "model.score(X_reserve, y_reserve)"
   ]
  },
  {
   "cell_type": "code",
   "execution_count": null,
   "metadata": {},
   "outputs": [],
   "source": []
  }
 ],
 "metadata": {
  "kernelspec": {
   "display_name": "Python 3",
   "language": "python",
   "name": "python3"
  },
  "language_info": {
   "codemirror_mode": {
    "name": "ipython",
    "version": 3
   },
   "file_extension": ".py",
   "mimetype": "text/x-python",
   "name": "python",
   "nbconvert_exporter": "python",
   "pygments_lexer": "ipython3",
   "version": "3.7.4"
  }
 },
 "nbformat": 4,
 "nbformat_minor": 2
}
