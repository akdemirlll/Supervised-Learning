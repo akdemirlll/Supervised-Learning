{
 "cells": [
  {
   "cell_type": "code",
   "execution_count": 5,
   "metadata": {},
   "outputs": [],
   "source": [
    "import pandas as pd\n",
    "import numpy as np\n",
    "import matplotlib.pyplot as plt\n",
    "from sklearn.preprocessing import PolynomialFeatures"
   ]
  },
  {
   "cell_type": "code",
   "execution_count": 6,
   "metadata": {},
   "outputs": [],
   "source": [
    "X = np.random.uniform(-2, 2, (200, 1))"
   ]
  },
  {
   "cell_type": "code",
   "execution_count": 11,
   "metadata": {},
   "outputs": [
    {
     "data": {
      "text/plain": [
       "array([[ 1.60907342],\n",
       "       [-0.59909747],\n",
       "       [ 0.17479845],\n",
       "       [ 0.97079446],\n",
       "       [ 0.2525579 ],\n",
       "       [-1.91397165],\n",
       "       [-1.88043579],\n",
       "       [ 1.35199451],\n",
       "       [ 0.39346669],\n",
       "       [ 0.09324645],\n",
       "       [ 1.9150135 ],\n",
       "       [ 0.32617156],\n",
       "       [ 1.58467647],\n",
       "       [ 1.34151822],\n",
       "       [ 0.6820638 ],\n",
       "       [-1.66319609],\n",
       "       [-0.86764545],\n",
       "       [ 1.894367  ],\n",
       "       [ 1.55022651],\n",
       "       [-0.33662753],\n",
       "       [-1.43615315],\n",
       "       [ 0.52580355],\n",
       "       [-0.20043323],\n",
       "       [-1.60384294],\n",
       "       [ 0.4977179 ],\n",
       "       [ 0.10644589],\n",
       "       [-1.77032654],\n",
       "       [-0.49210424],\n",
       "       [-0.56713515],\n",
       "       [ 1.47420263],\n",
       "       [ 1.41406354],\n",
       "       [-0.48957258],\n",
       "       [ 0.23763952],\n",
       "       [ 0.60717256],\n",
       "       [ 0.89585967],\n",
       "       [ 1.89297418],\n",
       "       [ 1.10286321],\n",
       "       [-0.1246917 ],\n",
       "       [ 0.49535227],\n",
       "       [ 0.41592297],\n",
       "       [ 0.48631512],\n",
       "       [ 1.99998821],\n",
       "       [ 0.44876878],\n",
       "       [-1.3432174 ],\n",
       "       [ 1.63481715],\n",
       "       [-0.28153348],\n",
       "       [-0.03496038],\n",
       "       [ 0.57919835],\n",
       "       [ 1.74204316],\n",
       "       [ 1.33516795],\n",
       "       [-0.89465548],\n",
       "       [ 0.04451944],\n",
       "       [-1.81810278],\n",
       "       [ 0.56757956],\n",
       "       [-0.09351312],\n",
       "       [ 0.50553877],\n",
       "       [-0.65872864],\n",
       "       [-0.18842958],\n",
       "       [ 1.03638648],\n",
       "       [ 0.75123835],\n",
       "       [-1.19920951],\n",
       "       [-0.81837173],\n",
       "       [ 1.74333595],\n",
       "       [ 1.52360632],\n",
       "       [ 1.09889193],\n",
       "       [ 1.4051616 ],\n",
       "       [ 0.13616688],\n",
       "       [-1.68938419],\n",
       "       [-1.49776397],\n",
       "       [-1.81616045],\n",
       "       [-0.188937  ],\n",
       "       [-1.36123918],\n",
       "       [ 0.94989647],\n",
       "       [ 1.5035642 ],\n",
       "       [-0.72176077],\n",
       "       [-0.12161225],\n",
       "       [ 1.78646117],\n",
       "       [-1.20560741],\n",
       "       [ 1.12993115],\n",
       "       [-1.69831212],\n",
       "       [-0.12389987],\n",
       "       [ 1.55902654],\n",
       "       [ 0.07803592],\n",
       "       [ 0.65798973],\n",
       "       [-0.07815338],\n",
       "       [-0.34109614],\n",
       "       [ 1.74085389],\n",
       "       [-0.366721  ],\n",
       "       [ 1.40249689],\n",
       "       [ 0.47432304],\n",
       "       [-1.73169471],\n",
       "       [-1.21052804],\n",
       "       [-0.64623492],\n",
       "       [-0.82305113],\n",
       "       [ 1.56407564],\n",
       "       [-1.55194101],\n",
       "       [-0.4699649 ],\n",
       "       [ 0.12020734],\n",
       "       [-1.9753011 ],\n",
       "       [-0.50547516],\n",
       "       [ 0.82183271],\n",
       "       [-0.88118531],\n",
       "       [ 1.73299281],\n",
       "       [-0.75604137],\n",
       "       [-0.97970798],\n",
       "       [ 1.90427022],\n",
       "       [ 0.52781615],\n",
       "       [ 0.30916663],\n",
       "       [ 1.52791053],\n",
       "       [-1.63099584],\n",
       "       [ 1.27682849],\n",
       "       [ 1.20538078],\n",
       "       [ 1.0909076 ],\n",
       "       [-1.49039124],\n",
       "       [ 0.96951432],\n",
       "       [ 0.11657367],\n",
       "       [ 0.75169444],\n",
       "       [-1.98816476],\n",
       "       [-1.93368025],\n",
       "       [-1.70908198],\n",
       "       [-1.0748529 ],\n",
       "       [ 0.78281843],\n",
       "       [ 1.61300501],\n",
       "       [-0.06337652],\n",
       "       [-0.38032462],\n",
       "       [-0.20868678],\n",
       "       [-0.23021131],\n",
       "       [-1.41224287],\n",
       "       [ 1.42108321],\n",
       "       [ 0.69725796],\n",
       "       [ 1.84463534],\n",
       "       [-1.43575918],\n",
       "       [ 1.08648589],\n",
       "       [-1.82632012],\n",
       "       [-0.70301224],\n",
       "       [ 1.91056329],\n",
       "       [-0.64968281],\n",
       "       [-0.32791892],\n",
       "       [ 1.94367411],\n",
       "       [ 0.24899005],\n",
       "       [-0.10388536],\n",
       "       [ 0.09176013],\n",
       "       [ 0.85282078],\n",
       "       [-1.89433631],\n",
       "       [ 0.12206432],\n",
       "       [-1.78202347],\n",
       "       [-0.93233022],\n",
       "       [-0.04685489],\n",
       "       [-0.46603419],\n",
       "       [-1.15222272],\n",
       "       [-1.01405749],\n",
       "       [-1.46646405],\n",
       "       [-1.62868096],\n",
       "       [-0.02027595],\n",
       "       [ 1.22616628],\n",
       "       [ 0.45547779],\n",
       "       [-1.72107395],\n",
       "       [ 0.10276086],\n",
       "       [ 1.47990021],\n",
       "       [-0.19925133],\n",
       "       [-1.98290705],\n",
       "       [-0.00697834],\n",
       "       [-0.60582001],\n",
       "       [-0.54109928],\n",
       "       [ 0.73174755],\n",
       "       [-1.09025187],\n",
       "       [-0.15765184],\n",
       "       [ 1.10087962],\n",
       "       [-0.65048533],\n",
       "       [ 0.88541204],\n",
       "       [-1.69809584],\n",
       "       [ 0.96009925],\n",
       "       [-1.33995675],\n",
       "       [ 0.27761271],\n",
       "       [-0.74139791],\n",
       "       [ 1.86224896],\n",
       "       [-0.35444431],\n",
       "       [-0.7299526 ],\n",
       "       [ 0.38471411],\n",
       "       [ 0.58448834],\n",
       "       [ 0.90082214],\n",
       "       [ 1.05162537],\n",
       "       [-1.35465703],\n",
       "       [-1.05375444],\n",
       "       [ 1.33712028],\n",
       "       [-0.57231318],\n",
       "       [-1.36243277],\n",
       "       [ 0.49345655],\n",
       "       [-1.3867808 ],\n",
       "       [-0.51580301],\n",
       "       [-1.51039441],\n",
       "       [ 1.13959709],\n",
       "       [ 0.0197967 ],\n",
       "       [ 1.26902769],\n",
       "       [-1.94581318],\n",
       "       [-1.37006939],\n",
       "       [-0.2406888 ],\n",
       "       [-1.78251151],\n",
       "       [ 0.25485837],\n",
       "       [-0.71229821]])"
      ]
     },
     "execution_count": 11,
     "metadata": {},
     "output_type": "execute_result"
    }
   ],
   "source": [
    "X"
   ]
  },
  {
   "cell_type": "code",
   "execution_count": 3,
   "metadata": {},
   "outputs": [],
   "source": [
    "xp = PolynomialFeatures(6).fit_transform(X)"
   ]
  },
  {
   "cell_type": "code",
   "execution_count": 10,
   "metadata": {},
   "outputs": [
    {
     "data": {
      "text/plain": [
       "(200, 7)"
      ]
     },
     "execution_count": 10,
     "metadata": {},
     "output_type": "execute_result"
    }
   ],
   "source": [
    "xp.shape"
   ]
  },
  {
   "cell_type": "code",
   "execution_count": 487,
   "metadata": {},
   "outputs": [
    {
     "data": {
      "text/plain": [
       "array([[-0.26550067]])"
      ]
     },
     "execution_count": 487,
     "metadata": {},
     "output_type": "execute_result"
    }
   ],
   "source": [
    "xp[0:1] @ beta + np.random.randn()"
   ]
  },
  {
   "cell_type": "code",
   "execution_count": 287,
   "metadata": {},
   "outputs": [],
   "source": [
    "beta = np.reshape([0.1, -.8, .3, 0.4, 0.11, 0.01, -0.006], (7, 1))"
   ]
  },
  {
   "cell_type": "code",
   "execution_count": 496,
   "metadata": {},
   "outputs": [],
   "source": [
    "y = xp @ beta + np.random.randn(200, 1) "
   ]
  },
  {
   "cell_type": "code",
   "execution_count": 497,
   "metadata": {},
   "outputs": [],
   "source": [
    "xtest = np.random.normal(0, 1, (50, 1))\n",
    "ytest = PolynomialFeatures(6).fit_transform(xtest) @ beta + np.random.randn(50, 1) / 2"
   ]
  },
  {
   "cell_type": "code",
   "execution_count": 498,
   "metadata": {},
   "outputs": [],
   "source": [
    "dftrain = pd.DataFrame({'x':X.ravel(), 'y':y.ravel()})\n",
    "dftest = pd.DataFrame({'x':xtest.ravel()})\n"
   ]
  },
  {
   "cell_type": "code",
   "execution_count": 499,
   "metadata": {},
   "outputs": [
    {
     "data": {
      "text/plain": [
       "<matplotlib.collections.PathCollection at 0x17b5b1bc860>"
      ]
     },
     "execution_count": 499,
     "metadata": {},
     "output_type": "execute_result"
    },
    {
     "data": {
      "image/png": "[encoded data removed]",
      "text/plain": [
       "<Figure size 432x288 with 1 Axes>"
      ]
     },
     "metadata": {
      "needs_background": "light"
     },
     "output_type": "display_data"
    }
   ],
   "source": [
    "plt.scatter(X, y)"
   ]
  },
  {
   "cell_type": "code",
   "execution_count": 305,
   "metadata": {},
   "outputs": [
    {
     "data": {
      "text/plain": [
       "<matplotlib.collections.PathCollection at 0x17b59417470>"
      ]
     },
     "execution_count": 305,
     "metadata": {},
     "output_type": "execute_result"
    },
    {
     "data": {
      "image/png": "[encoded data removed]",
      "text/plain": [
       "<Figure size 432x288 with 1 Axes>"
      ]
     },
     "metadata": {
      "needs_background": "light"
     },
     "output_type": "display_data"
    }
   ],
   "source": [
    "plt.scatter(xtest, ytest)"
   ]
  },
  {
   "cell_type": "code",
   "execution_count": 293,
   "metadata": {},
   "outputs": [],
   "source": [
    "dftrain.to_csv('polytrain.csv', index=False)"
   ]
  },
  {
   "cell_type": "code",
   "execution_count": 306,
   "metadata": {},
   "outputs": [],
   "source": [
    "dftest.to_csv('polytest.csv', index=False)"
   ]
  },
  {
   "cell_type": "code",
   "execution_count": 307,
   "metadata": {},
   "outputs": [],
   "source": [
    "dfres = pd.DataFrame({'y': ytest.ravel()})"
   ]
  },
  {
   "cell_type": "code",
   "execution_count": 308,
   "metadata": {},
   "outputs": [],
   "source": [
    "dfres.to_csv('polyresult.csv', index=False)"
   ]
  },
  {
   "cell_type": "code",
   "execution_count": 295,
   "metadata": {},
   "outputs": [],
   "source": [
    "from sklearn.linear_model import LinearRegression"
   ]
  },
  {
   "cell_type": "code",
   "execution_count": 352,
   "metadata": {},
   "outputs": [],
   "source": [
    "trainscores = []\n",
    "testcores = []\n",
    "pols = range(1, 6)\n",
    "for i in pols:\n",
    "    xpp = PolynomialFeatures(i).fit_transform(X)\n",
    "    model = LinearRegression()\n",
    "    model.fit(xpp, y)\n",
    "    trainscores.append(model.score(xpp, y))\n",
    "    testcores.append(model.score(PolynomialFeatures(i).fit_transform(xtest2), ytest2))\n",
    "    "
   ]
  },
  {
   "cell_type": "code",
   "execution_count": 353,
   "metadata": {},
   "outputs": [
    {
     "data": {
      "text/plain": [
       "[<matplotlib.lines.Line2D at 0x17b594bff60>]"
      ]
     },
     "execution_count": 353,
     "metadata": {},
     "output_type": "execute_result"
    },
    {
     "data": {
      "image/png": "[encoded data removed]",
      "text/plain": [
       "<Figure size 432x288 with 1 Axes>"
      ]
     },
     "metadata": {
      "needs_background": "light"
     },
     "output_type": "display_data"
    }
   ],
   "source": [
    "plt.plot(pols, trainscores)\n",
    "plt.plot(pols, testcores)"
   ]
  },
  {
   "cell_type": "code",
   "execution_count": 298,
   "metadata": {},
   "outputs": [],
   "source": [
    "xtest = pd.read_csv('polytest.csv')['x'].values.reshape(-1, 1)"
   ]
  },
  {
   "cell_type": "code",
   "execution_count": 300,
   "metadata": {},
   "outputs": [
    {
     "ename": "ValueError",
     "evalue": "operands could not be broadcast together with shapes (50,1) (200,1) ",
     "output_type": "error",
     "traceback": [
      "\u001b[1;31m---------------------------------------------------------------------------\u001b[0m",
      "\u001b[1;31mValueError\u001b[0m                                Traceback (most recent call last)",
      "\u001b[1;32m<ipython-input-300-af3097e61507>\u001b[0m in \u001b[0;36m<module>\u001b[1;34m\u001b[0m\n\u001b[1;32m----> 1\u001b[1;33m \u001b[0mytest\u001b[0m \u001b[1;33m=\u001b[0m \u001b[0mPolynomialFeatures\u001b[0m\u001b[1;33m(\u001b[0m\u001b[1;36m6\u001b[0m\u001b[1;33m)\u001b[0m\u001b[1;33m.\u001b[0m\u001b[0mfit_transform\u001b[0m\u001b[1;33m(\u001b[0m\u001b[0mxtest\u001b[0m\u001b[1;33m)\u001b[0m \u001b[1;33m@\u001b[0m \u001b[0mbeta\u001b[0m \u001b[1;33m+\u001b[0m \u001b[0mnp\u001b[0m\u001b[1;33m.\u001b[0m\u001b[0mrandom\u001b[0m\u001b[1;33m.\u001b[0m\u001b[0mrandn\u001b[0m\u001b[1;33m(\u001b[0m\u001b[1;36m200\u001b[0m\u001b[1;33m,\u001b[0m \u001b[1;36m1\u001b[0m\u001b[1;33m)\u001b[0m \u001b[1;33m/\u001b[0m \u001b[1;36m2\u001b[0m\u001b[1;33m\u001b[0m\u001b[0m\n\u001b[0m",
      "\u001b[1;31mValueError\u001b[0m: operands could not be broadcast together with shapes (50,1) (200,1) "
     ]
    }
   ],
   "source": [
    "ytest = PolynomialFeatures(6).fit_transform(xtest) @ beta + np.random.randn(200, 1) / 2"
   ]
  },
  {
   "cell_type": "code",
   "execution_count": 309,
   "metadata": {},
   "outputs": [],
   "source": [
    "xtest2 = np.random.normal(0, 2, (50, 1))\n",
    "ytest2 = PolynomialFeatures(6).fit_transform(xtest2) @ beta + np.random.randn(50, 1)"
   ]
  },
  {
   "cell_type": "code",
   "execution_count": 310,
   "metadata": {},
   "outputs": [
    {
     "data": {
      "text/plain": [
       "<matplotlib.collections.PathCollection at 0x17b58cebfd0>"
      ]
     },
     "execution_count": 310,
     "metadata": {},
     "output_type": "execute_result"
    },
    {
     "data": {
      "image/png": "[encoded data removed]",
      "text/plain": [
       "<Figure size 432x288 with 1 Axes>"
      ]
     },
     "metadata": {
      "needs_background": "light"
     },
     "output_type": "display_data"
    }
   ],
   "source": [
    "plt.scatter(xtest2, ytest2)"
   ]
  },
  {
   "cell_type": "code",
   "execution_count": 384,
   "metadata": {},
   "outputs": [
    {
     "data": {
      "text/plain": [
       "LinearRegression(copy_X=True, fit_intercept=True, n_jobs=None,\n",
       "         normalize=False)"
      ]
     },
     "execution_count": 384,
     "metadata": {},
     "output_type": "execute_result"
    }
   ],
   "source": [
    "model = LinearRegression()\n",
    "model.fit(PolynomialFeatures(6).fit_transform(X), y)"
   ]
  },
  {
   "cell_type": "code",
   "execution_count": 385,
   "metadata": {},
   "outputs": [
    {
     "data": {
      "text/plain": [
       "0.807070614771607"
      ]
     },
     "execution_count": 385,
     "metadata": {},
     "output_type": "execute_result"
    }
   ],
   "source": [
    "# model = LinearRegression()\n",
    "model.score(PolynomialFeatures(6).fit_transform(X), y)"
   ]
  },
  {
   "cell_type": "code",
   "execution_count": 386,
   "metadata": {},
   "outputs": [
    {
     "data": {
      "text/plain": [
       "0.8532254286440961"
      ]
     },
     "execution_count": 386,
     "metadata": {},
     "output_type": "execute_result"
    }
   ],
   "source": [
    "model.score(PolynomialFeatures(6).fit_transform(pd.read_csv('polytest.csv')['x'].values.reshape(-1, 1)),\n",
    "            pd.read_csv('polyresult.csv')['y'].values)"
   ]
  },
  {
   "cell_type": "code",
   "execution_count": 361,
   "metadata": {},
   "outputs": [
    {
     "data": {
      "text/plain": [
       "(50, 1)"
      ]
     },
     "execution_count": 361,
     "metadata": {},
     "output_type": "execute_result"
    }
   ],
   "source": [
    "xtest.shape"
   ]
  },
  {
   "cell_type": "code",
   "execution_count": 382,
   "metadata": {},
   "outputs": [
    {
     "data": {
      "text/plain": [
       "0.4374080773825222"
      ]
     },
     "execution_count": 382,
     "metadata": {},
     "output_type": "execute_result"
    }
   ],
   "source": [
    "model.score(PolynomialFeatures(3).fit_transform(xtest2), ytest2)"
   ]
  },
  {
   "cell_type": "code",
   "execution_count": 347,
   "metadata": {},
   "outputs": [],
   "source": [
    "pd.DataFrame({'x':xtest2.ravel(), 'y':ytest2.ravel()}).to_csv('polytest+result2.csv', index=False)"
   ]
  },
  {
   "cell_type": "code",
   "execution_count": 354,
   "metadata": {},
   "outputs": [
    {
     "data": {
      "text/plain": [
       "(200, 1)"
      ]
     },
     "execution_count": 354,
     "metadata": {},
     "output_type": "execute_result"
    }
   ],
   "source": [
    "X.shape"
   ]
  },
  {
   "cell_type": "code",
   "execution_count": 355,
   "metadata": {},
   "outputs": [
    {
     "data": {
      "text/plain": [
       "(50, 1)"
      ]
     },
     "execution_count": 355,
     "metadata": {},
     "output_type": "execute_result"
    }
   ],
   "source": [
    "xtest2.shape"
   ]
  },
  {
   "cell_type": "code",
   "execution_count": 356,
   "metadata": {},
   "outputs": [
    {
     "data": {
      "text/plain": [
       "(50, 1)"
      ]
     },
     "execution_count": 356,
     "metadata": {},
     "output_type": "execute_result"
    }
   ],
   "source": [
    "xtest.shape"
   ]
  },
  {
   "cell_type": "code",
   "execution_count": 365,
   "metadata": {},
   "outputs": [],
   "source": [
    "xtest3 = np.random.uniform(-6, -2, size=(50, 1))\n",
    "ytest3 = PolynomialFeatures(6).fit_transform(xtest3) @ beta + np.random.randn(50, 1) / 2"
   ]
  },
  {
   "cell_type": "code",
   "execution_count": 366,
   "metadata": {},
   "outputs": [],
   "source": [
    "pd.DataFrame({'x':xtest3.ravel(), 'y':ytest3.ravel()}).to_csv('polytest3.csv', index=False)"
   ]
  },
  {
   "cell_type": "code",
   "execution_count": 368,
   "metadata": {},
   "outputs": [],
   "source": [
    "xg = np.concatenate([X, xtest, xtest2, xtest3])"
   ]
  },
  {
   "cell_type": "code",
   "execution_count": 369,
   "metadata": {},
   "outputs": [],
   "source": [
    "yg = np.concatenate([y, ytest, ytest2, ytest3])"
   ]
  },
  {
   "cell_type": "code",
   "execution_count": 387,
   "metadata": {},
   "outputs": [
    {
     "data": {
      "text/plain": [
       "LinearRegression(copy_X=True, fit_intercept=True, n_jobs=None,\n",
       "         normalize=False)"
      ]
     },
     "execution_count": 387,
     "metadata": {},
     "output_type": "execute_result"
    }
   ],
   "source": [
    "model.fit(PolynomialFeatures(6).fit_transform(xg), yg)"
   ]
  },
  {
   "cell_type": "code",
   "execution_count": 388,
   "metadata": {},
   "outputs": [
    {
     "data": {
      "text/plain": [
       "0.9997706019294004"
      ]
     },
     "execution_count": 388,
     "metadata": {},
     "output_type": "execute_result"
    }
   ],
   "source": [
    "model.score(PolynomialFeatures(6).fit_transform(xg), yg)"
   ]
  },
  {
   "cell_type": "code",
   "execution_count": null,
   "metadata": {},
   "outputs": [],
   "source": []
  },
  {
   "cell_type": "code",
   "execution_count": null,
   "metadata": {},
   "outputs": [],
   "source": []
  },
  {
   "cell_type": "code",
   "execution_count": null,
   "metadata": {},
   "outputs": [],
   "source": []
  },
  {
   "cell_type": "code",
   "execution_count": 389,
   "metadata": {},
   "outputs": [],
   "source": [
    "df = pd.read_csv('en_guncel_data.csv')"
   ]
  },
  {
   "cell_type": "code",
   "execution_count": 391,
   "metadata": {},
   "outputs": [],
   "source": [
    "df = df.iloc[:, 1:]"
   ]
  },
  {
   "cell_type": "code",
   "execution_count": 392,
   "metadata": {},
   "outputs": [
    {
     "data": {
      "text/html": [
       "<div>\n",
       "<style scoped>\n",
       "    .dataframe tbody tr th:only-of-type {\n",
       "        vertical-align: middle;\n",
       "    }\n",
       "\n",
       "    .dataframe tbody tr th {\n",
       "        vertical-align: top;\n",
       "    }\n",
       "\n",
       "    .dataframe thead th {\n",
       "        text-align: right;\n",
       "    }\n",
       "</style>\n",
       "<table border=\"1\" class=\"dataframe\">\n",
       "  <thead>\n",
       "    <tr style=\"text-align: right;\">\n",
       "      <th></th>\n",
       "      <th>x</th>\n",
       "      <th>y</th>\n",
       "    </tr>\n",
       "  </thead>\n",
       "  <tbody>\n",
       "    <tr>\n",
       "      <th>0</th>\n",
       "      <td>1.879082</td>\n",
       "      <td>4.018441</td>\n",
       "    </tr>\n",
       "    <tr>\n",
       "      <th>1</th>\n",
       "      <td>-0.349478</td>\n",
       "      <td>0.328516</td>\n",
       "    </tr>\n",
       "    <tr>\n",
       "      <th>2</th>\n",
       "      <td>1.253709</td>\n",
       "      <td>-0.043347</td>\n",
       "    </tr>\n",
       "    <tr>\n",
       "      <th>3</th>\n",
       "      <td>0.867197</td>\n",
       "      <td>-0.528033</td>\n",
       "    </tr>\n",
       "    <tr>\n",
       "      <th>4</th>\n",
       "      <td>1.051625</td>\n",
       "      <td>0.361812</td>\n",
       "    </tr>\n",
       "  </tbody>\n",
       "</table>\n",
       "</div>"
      ],
      "text/plain": [
       "          x         y\n",
       "0  1.879082  4.018441\n",
       "1 -0.349478  0.328516\n",
       "2  1.253709 -0.043347\n",
       "3  0.867197 -0.528033\n",
       "4  1.051625  0.361812"
      ]
     },
     "execution_count": 392,
     "metadata": {},
     "output_type": "execute_result"
    }
   ],
   "source": [
    "df.head()"
   ]
  },
  {
   "cell_type": "code",
   "execution_count": 501,
   "metadata": {},
   "outputs": [],
   "source": [
    "X = df['x']\n",
    "y = df['y']"
   ]
  },
  {
   "cell_type": "code",
   "execution_count": 502,
   "metadata": {},
   "outputs": [
    {
     "data": {
      "text/plain": [
       "(350, 2)"
      ]
     },
     "execution_count": 502,
     "metadata": {},
     "output_type": "execute_result"
    }
   ],
   "source": [
    "df.shape"
   ]
  },
  {
   "cell_type": "code",
   "execution_count": null,
   "metadata": {},
   "outputs": [],
   "source": []
  },
  {
   "cell_type": "code",
   "execution_count": 503,
   "metadata": {},
   "outputs": [],
   "source": [
    "from sklearn.model_selection import train_test_split"
   ]
  },
  {
   "cell_type": "code",
   "execution_count": null,
   "metadata": {},
   "outputs": [],
   "source": []
  },
  {
   "cell_type": "code",
   "execution_count": 504,
   "metadata": {},
   "outputs": [],
   "source": [
    "X_train, X_test, y_train, y_test = train_test_split(X, y, test_size=.1)"
   ]
  },
  {
   "cell_type": "code",
   "execution_count": 505,
   "metadata": {},
   "outputs": [
    {
     "data": {
      "text/plain": [
       "(315,)"
      ]
     },
     "execution_count": 505,
     "metadata": {},
     "output_type": "execute_result"
    }
   ],
   "source": [
    "X_train.shape"
   ]
  },
  {
   "cell_type": "code",
   "execution_count": 506,
   "metadata": {},
   "outputs": [
    {
     "data": {
      "text/plain": [
       "(315,)"
      ]
     },
     "execution_count": 506,
     "metadata": {},
     "output_type": "execute_result"
    }
   ],
   "source": [
    "y_train.shape"
   ]
  },
  {
   "cell_type": "code",
   "execution_count": null,
   "metadata": {},
   "outputs": [],
   "source": []
  },
  {
   "cell_type": "code",
   "execution_count": 507,
   "metadata": {},
   "outputs": [],
   "source": [
    "poly = PolynomialFeatures(3)\n",
    "model = LinearRegression()"
   ]
  },
  {
   "cell_type": "code",
   "execution_count": 508,
   "metadata": {},
   "outputs": [
    {
     "name": "stdout",
     "output_type": "stream",
     "text": [
      "Train score:\n"
     ]
    },
    {
     "data": {
      "text/plain": [
       "0.9053865486853923"
      ]
     },
     "execution_count": 508,
     "metadata": {},
     "output_type": "execute_result"
    }
   ],
   "source": [
    "model.fit(poly.fit_transform(X_train.values.reshape(-1, 1)), y_train)\n",
    "print('Train score:')\n",
    "model.score(poly.fit_transform(X_train.values.reshape(-1, 1)), y_train)"
   ]
  },
  {
   "cell_type": "code",
   "execution_count": 509,
   "metadata": {},
   "outputs": [
    {
     "name": "stdout",
     "output_type": "stream",
     "text": [
      "Test score:\n"
     ]
    },
    {
     "data": {
      "text/plain": [
       "0.876985306814684"
      ]
     },
     "execution_count": 509,
     "metadata": {},
     "output_type": "execute_result"
    }
   ],
   "source": [
    "print('Test score:')\n",
    "model.score(poly.transform(X_test.values.reshape(-1, 1)), y_test)"
   ]
  },
  {
   "cell_type": "code",
   "execution_count": 510,
   "metadata": {},
   "outputs": [],
   "source": [
    "from sklearn.model_selection import cross_validate"
   ]
  },
  {
   "cell_type": "code",
   "execution_count": 511,
   "metadata": {},
   "outputs": [],
   "source": [
    "sonuc = cross_validate(model, poly.transform(X.values.reshape(-1, 1)), y, cv=30, return_train_score=True)"
   ]
  },
  {
   "cell_type": "code",
   "execution_count": 512,
   "metadata": {},
   "outputs": [
    {
     "data": {
      "text/plain": [
       "{'fit_time': array([0.00699544, 0.00099969, 0.00100327, 0.00199151, 0.00100183,\n",
       "        0.00100207, 0.00100183, 0.00299716, 0.00100255, 0.00200915,\n",
       "        0.00198746, 0.00199366, 0.00100613, 0.00099587, 0.0009973 ,\n",
       "        0.00200891, 0.00099015, 0.00199819, 0.00100207, 0.00199437,\n",
       "        0.00100112, 0.00099659, 0.00200057, 0.00100684, 0.00098729,\n",
       "        0.00100136, 0.00199866, 0.00097919, 0.        , 0.00099993]),\n",
       " 'score_time': array([0.0019989 , 0.00200057, 0.        , 0.00099802, 0.        ,\n",
       "        0.00099897, 0.00099826, 0.        , 0.00099826, 0.00099134,\n",
       "        0.00099802, 0.00100565, 0.00100923, 0.00099969, 0.        ,\n",
       "        0.        , 0.00100207, 0.        , 0.00099826, 0.        ,\n",
       "        0.        , 0.00099349, 0.00099897, 0.        , 0.        ,\n",
       "        0.00099802, 0.        , 0.00100017, 0.00099945, 0.        ]),\n",
       " 'test_score': array([ -9.00655353, -15.21994222, -18.12828758, -14.39067021,\n",
       "        -10.8938368 ,  -7.29957815, -20.77371478, -67.53036135,\n",
       "        -40.46300009, -23.75336695, -26.60744644, -24.60233233,\n",
       "        -13.82862658, -42.3543936 , -96.46680418, -62.22818158,\n",
       "         -6.92573306, -35.10130672, -32.8493328 ,  -3.76714142,\n",
       "        -10.08255309,  -2.09375455,  -0.19045883,  -2.46278148,\n",
       "          0.91782842,   0.87982698,   0.8626454 ,   0.86904379,\n",
       "          0.84830239,   0.74343234]),\n",
       " 'train_score': array([0.90369703, 0.90384774, 0.90381915, 0.90399558, 0.90399901,\n",
       "        0.90369873, 0.90393096, 0.90396785, 0.90382983, 0.90393796,\n",
       "        0.90375054, 0.90388912, 0.90381258, 0.90384183, 0.90384559,\n",
       "        0.90373811, 0.904141  , 0.90374175, 0.9038255 , 0.90361691,\n",
       "        0.9038883 , 0.90433296, 0.94657274, 0.90505703, 0.90232982,\n",
       "        0.90425805, 0.90038921, 0.8869995 , 0.9060825 , 0.90109128])}"
      ]
     },
     "execution_count": 512,
     "metadata": {},
     "output_type": "execute_result"
    }
   ],
   "source": [
    "sonuc"
   ]
  },
  {
   "cell_type": "code",
   "execution_count": 513,
   "metadata": {},
   "outputs": [
    {
     "data": {
      "text/plain": [
       "0.9045976049128693"
      ]
     },
     "execution_count": 513,
     "metadata": {},
     "output_type": "execute_result"
    }
   ],
   "source": [
    "np.mean(sonuc['train_score'])"
   ]
  },
  {
   "cell_type": "code",
   "execution_count": 514,
   "metadata": {},
   "outputs": [
    {
     "data": {
      "text/plain": [
       "-19.396635966785677"
      ]
     },
     "execution_count": 514,
     "metadata": {},
     "output_type": "execute_result"
    }
   ],
   "source": [
    "np.mean(sonuc['test_score'])"
   ]
  },
  {
   "cell_type": "markdown",
   "metadata": {},
   "source": [
    "Hipotezimizi guncellemenin zzamani geldi:"
   ]
  },
  {
   "cell_type": "code",
   "execution_count": 515,
   "metadata": {},
   "outputs": [],
   "source": [
    "sonuclar = []\n",
    "dereceler = [1,2,3,4,5,6,7,8,9,10]\n",
    "\n",
    "for d in dereceler:\n",
    "    poly = PolynomialFeatures(d)\n",
    "    model = LinearRegression()\n",
    "    sonuclar.append(cross_validate(model, poly.fit_transform(X.values.reshape(-1, 1)), y, cv=10, return_train_score=True))"
   ]
  },
  {
   "cell_type": "code",
   "execution_count": 516,
   "metadata": {},
   "outputs": [],
   "source": [
    "tests = [np.mean(i['test_score']) for i in sonuclar]\n",
    "trains = [np.mean(i['train_score']) for i in sonuclar]"
   ]
  },
  {
   "cell_type": "code",
   "execution_count": 517,
   "metadata": {},
   "outputs": [
    {
     "data": {
      "image/png": "[encoded data removed]",
      "text/plain": [
       "<Figure size 432x288 with 1 Axes>"
      ]
     },
     "metadata": {
      "needs_background": "light"
     },
     "output_type": "display_data"
    }
   ],
   "source": [
    "plt.plot(dereceler[3:], tests[3:], label='test')\n",
    "plt.plot(dereceler[3:], trains[3:], label='train')\n",
    "plt.xlabel('Polynomial Degree')\n",
    "plt.ylabel('$R^2$ Score')\n",
    "_=plt.legend()"
   ]
  },
  {
   "cell_type": "code",
   "execution_count": 518,
   "metadata": {},
   "outputs": [
    {
     "data": {
      "text/plain": [
       "LinearRegression(copy_X=True, fit_intercept=True, n_jobs=None,\n",
       "         normalize=False)"
      ]
     },
     "execution_count": 518,
     "metadata": {},
     "output_type": "execute_result"
    }
   ],
   "source": [
    "poly = PolynomialFeatures(6)\n",
    "model = LinearRegression()\n",
    "\n",
    "model.fit(poly.fit_transform(X.values.reshape(-1, 1)), y)"
   ]
  },
  {
   "cell_type": "code",
   "execution_count": 519,
   "metadata": {},
   "outputs": [
    {
     "name": "stderr",
     "output_type": "stream",
     "text": [
      "c:\\users\\berk_\\appdata\\local\\programs\\python\\python37\\lib\\site-packages\\sklearn\\utils\\deprecation.py:125: FutureWarning: You are accessing a training score ('train_score'), which will not be available by default any more in 0.21. If you need training scores, please set return_train_score=True\n",
      "  warnings.warn(*warn_args, **warn_kwargs)\n"
     ]
    },
    {
     "data": {
      "text/plain": [
       "{'fit_time': array([0.00199914, 0.00300288, 0.00201464, 0.00299025, 0.0019989 ,\n",
       "        0.00200105, 0.00199747, 0.00200391, 0.00199819, 0.002002  ]),\n",
       " 'score_time': array([0.00100231, 0.        , 0.00099683, 0.00099945, 0.00100017,\n",
       "        0.00099802, 0.00201178, 0.00099897, 0.        , 0.        ]),\n",
       " 'test_score': array([0.84062903, 0.8787145 , 0.72103131, 0.67974893, 0.81138125,\n",
       "        0.8661854 , 0.85064054, 0.99821093, 0.99950494, 0.9999416 ]),\n",
       " 'train_score': array([0.9997774 , 0.99978069, 0.99977452, 0.99977898, 0.99977533,\n",
       "        0.99978208, 0.99977442, 0.99980106, 0.99979215, 0.99915646])}"
      ]
     },
     "execution_count": 519,
     "metadata": {},
     "output_type": "execute_result"
    }
   ],
   "source": [
    "cross_validate(model, poly.transform(X.values.reshape(-1, 1)), y, cv=10)"
   ]
  },
  {
   "cell_type": "code",
   "execution_count": 522,
   "metadata": {},
   "outputs": [
    {
     "data": {
      "text/plain": [
       "0.9996479807280267"
      ]
     },
     "execution_count": 522,
     "metadata": {},
     "output_type": "execute_result"
    }
   ],
   "source": [
    "model.score(poly.transform(X_test.values.reshape(-1, 1)), y_test)"
   ]
  },
  {
   "cell_type": "code",
   "execution_count": 520,
   "metadata": {},
   "outputs": [
    {
     "data": {
      "text/plain": [
       "0.15984674734059467"
      ]
     },
     "execution_count": 520,
     "metadata": {},
     "output_type": "execute_result"
    }
   ],
   "source": [
    "model.intercept_"
   ]
  },
  {
   "cell_type": "code",
   "execution_count": 478,
   "metadata": {},
   "outputs": [
    {
     "data": {
      "text/plain": [
       "[-0.7971748540211167,\n",
       " 0.25301781057604433,\n",
       " 0.40271120836063173,\n",
       " 0.11320228193519795,\n",
       " 0.009848681554769367,\n",
       " -0.0060636341580828645]"
      ]
     },
     "execution_count": 478,
     "metadata": {},
     "output_type": "execute_result"
    }
   ],
   "source": [
    "model.coef_[1:].tolist()"
   ]
  },
  {
   "cell_type": "code",
   "execution_count": 476,
   "metadata": {},
   "outputs": [
    {
     "data": {
      "text/plain": [
       "[[0.1], [-0.8], [0.3], [0.4], [0.11], [0.01], [-0.006]]"
      ]
     },
     "execution_count": 476,
     "metadata": {},
     "output_type": "execute_result"
    }
   ],
   "source": [
    "beta.tolist()"
   ]
  },
  {
   "cell_type": "code",
   "execution_count": 523,
   "metadata": {},
   "outputs": [
    {
     "ename": "TypeError",
     "evalue": "unsupported operand type(s) for +: 'int' and 'str'",
     "output_type": "error",
     "traceback": [
      "\u001b[1;31m---------------------------------------------------------------------------\u001b[0m",
      "\u001b[1;31mTypeError\u001b[0m                                 Traceback (most recent call last)",
      "\u001b[1;32m<ipython-input-523-093fe0f5b3ef>\u001b[0m in \u001b[0;36m<module>\u001b[1;34m\u001b[0m\n\u001b[0;32m      2\u001b[0m \u001b[0mb\u001b[0m \u001b[1;33m=\u001b[0m \u001b[1;34m'c'\u001b[0m\u001b[1;33m\u001b[0m\u001b[0m\n\u001b[0;32m      3\u001b[0m \u001b[1;33m\u001b[0m\u001b[0m\n\u001b[1;32m----> 4\u001b[1;33m \u001b[0ma\u001b[0m \u001b[1;33m+\u001b[0m \u001b[0mb\u001b[0m\u001b[1;33m\u001b[0m\u001b[0m\n\u001b[0m\u001b[0;32m      5\u001b[0m \u001b[1;33m\u001b[0m\u001b[0m\n\u001b[0;32m      6\u001b[0m \u001b[0mprint\u001b[0m\u001b[1;33m(\u001b[0m\u001b[1;34m'Hatayi gectim.'\u001b[0m\u001b[1;33m)\u001b[0m\u001b[1;33m\u001b[0m\u001b[0m\n",
      "\u001b[1;31mTypeError\u001b[0m: unsupported operand type(s) for +: 'int' and 'str'"
     ]
    }
   ],
   "source": [
    "a = 3\n",
    "b = 'c'\n",
    "\n",
    "a + b\n",
    "\n",
    "print('Hatayi gectim.')"
   ]
  },
  {
   "cell_type": "code",
   "execution_count": 524,
   "metadata": {},
   "outputs": [
    {
     "name": "stdout",
     "output_type": "stream",
     "text": [
      "Hatayi gectim.\n"
     ]
    }
   ],
   "source": [
    "a = 3\n",
    "b = 'c'\n",
    "\n",
    "try:\n",
    "    a + b\n",
    "except TypeError:\n",
    "    pass\n",
    "\n",
    "print('Hatayi gectim.')"
   ]
  },
  {
   "cell_type": "code",
   "execution_count": 526,
   "metadata": {},
   "outputs": [
    {
     "name": "stdout",
     "output_type": "stream",
     "text": [
      "unsupported operand type(s) for +: 'int' and 'str'\n"
     ]
    },
    {
     "ename": "TypeError",
     "evalue": "unsupported operand type(s) for +: 'int' and 'str'",
     "output_type": "error",
     "traceback": [
      "\u001b[1;31m---------------------------------------------------------------------------\u001b[0m",
      "\u001b[1;31mTypeError\u001b[0m                                 Traceback (most recent call last)",
      "\u001b[1;32m<ipython-input-526-8be1ac4005c8>\u001b[0m in \u001b[0;36m<module>\u001b[1;34m\u001b[0m\n\u001b[0;32m      7\u001b[0m     \u001b[0mprint\u001b[0m\u001b[1;33m(\u001b[0m\u001b[0me\u001b[0m\u001b[1;33m)\u001b[0m\u001b[1;33m\u001b[0m\u001b[0m\n\u001b[0;32m      8\u001b[0m     \u001b[1;32mif\u001b[0m \u001b[0misinstance\u001b[0m\u001b[1;33m(\u001b[0m\u001b[0ma\u001b[0m\u001b[1;33m,\u001b[0m \u001b[0mint\u001b[0m\u001b[1;33m)\u001b[0m\u001b[1;33m:\u001b[0m\u001b[1;33m\u001b[0m\u001b[0m\n\u001b[1;32m----> 9\u001b[1;33m         \u001b[1;32mraise\u001b[0m \u001b[0me\u001b[0m\u001b[1;33m\u001b[0m\u001b[0m\n\u001b[0m\u001b[0;32m     10\u001b[0m     \u001b[1;32mpass\u001b[0m\u001b[1;33m\u001b[0m\u001b[0m\n\u001b[0;32m     11\u001b[0m \u001b[1;33m\u001b[0m\u001b[0m\n",
      "\u001b[1;32m<ipython-input-526-8be1ac4005c8>\u001b[0m in \u001b[0;36m<module>\u001b[1;34m\u001b[0m\n\u001b[0;32m      3\u001b[0m \u001b[1;33m\u001b[0m\u001b[0m\n\u001b[0;32m      4\u001b[0m \u001b[1;32mtry\u001b[0m\u001b[1;33m:\u001b[0m\u001b[1;33m\u001b[0m\u001b[0m\n\u001b[1;32m----> 5\u001b[1;33m     \u001b[0ma\u001b[0m \u001b[1;33m+\u001b[0m \u001b[0mb\u001b[0m\u001b[1;33m\u001b[0m\u001b[0m\n\u001b[0m\u001b[0;32m      6\u001b[0m \u001b[1;32mexcept\u001b[0m \u001b[0mTypeError\u001b[0m \u001b[1;32mas\u001b[0m \u001b[0me\u001b[0m\u001b[1;33m:\u001b[0m\u001b[1;33m\u001b[0m\u001b[0m\n\u001b[0;32m      7\u001b[0m     \u001b[0mprint\u001b[0m\u001b[1;33m(\u001b[0m\u001b[0me\u001b[0m\u001b[1;33m)\u001b[0m\u001b[1;33m\u001b[0m\u001b[0m\n",
      "\u001b[1;31mTypeError\u001b[0m: unsupported operand type(s) for +: 'int' and 'str'"
     ]
    }
   ],
   "source": [
    "a = 3\n",
    "b = 'c'\n",
    "\n",
    "try:\n",
    "    a + b\n",
    "except TypeError as e:\n",
    "    print(e)\n",
    "    if isinstance(a, int):\n",
    "        raise e\n",
    "    pass\n",
    "\n",
    "print('Hatayi gectim.')"
   ]
  },
  {
   "cell_type": "code",
   "execution_count": null,
   "metadata": {},
   "outputs": [],
   "source": [
    "indirme = False\n",
    "while not indirme:\n",
    "    try:\n",
    "        indir()\n",
    "        indirme = True\n",
    "    except:\n",
    "        pass"
   ]
  },
  {
   "cell_type": "code",
   "execution_count": 529,
   "metadata": {},
   "outputs": [
    {
     "name": "stdout",
     "output_type": "stream",
     "text": [
      "bir sayi giriniz\n",
      "5\n",
      "aferin\n"
     ]
    }
   ],
   "source": [
    "valid_response = False\n",
    "\n",
    "while not valid_response:\n",
    "    try:\n",
    "        a = input('bir sayi giriniz\\n')\n",
    "        a = int(a)\n",
    "        valid_response = True\n",
    "    except ValueError:\n",
    "        print('gecersiz sayi')\n",
    "print('aferin')"
   ]
  },
  {
   "cell_type": "code",
   "execution_count": null,
   "metadata": {},
   "outputs": [],
   "source": []
  }
 ],
 "metadata": {
  "kernelspec": {
   "display_name": "Python 3",
   "language": "python",
   "name": "python3"
  },
  "language_info": {
   "codemirror_mode": {
    "name": "ipython",
    "version": 3
   },
   "file_extension": ".py",
   "mimetype": "text/x-python",
   "name": "python",
   "nbconvert_exporter": "python",
   "pygments_lexer": "ipython3",
   "version": "3.7.4"
  }
 },
 "nbformat": 4,
 "nbformat_minor": 2
}
