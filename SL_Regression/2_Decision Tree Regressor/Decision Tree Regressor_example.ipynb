{
 "cells": [
  {
   "cell_type": "code",
   "execution_count": 1,
   "metadata": {},
   "outputs": [],
   "source": [
    "from sklearn.datasets import make_regression"
   ]
  },
  {
   "cell_type": "code",
   "execution_count": 41,
   "metadata": {},
   "outputs": [
    {
     "name": "stdout",
     "output_type": "stream",
     "text": [
      "(2000, 30)\n",
      "(2000,)\n"
     ]
    }
   ],
   "source": [
    "X, y = make_regression(n_samples=2000, n_features=30, n_informative=10, n_targets=1, random_state=42)\n",
    "print(X.shape)\n",
    "print(y.shape)"
   ]
  },
  {
   "cell_type": "code",
   "execution_count": 43,
   "metadata": {},
   "outputs": [
    {
     "data": {
      "text/plain": [
       "3.6239580997379788"
      ]
     },
     "execution_count": 43,
     "metadata": {},
     "output_type": "execute_result"
    }
   ],
   "source": [
    "y.mean()"
   ]
  },
  {
   "cell_type": "code",
   "execution_count": 44,
   "metadata": {},
   "outputs": [],
   "source": [
    "import matplotlib.pyplot as plt"
   ]
  },
  {
   "cell_type": "code",
   "execution_count": 54,
   "metadata": {},
   "outputs": [
    {
     "name": "stderr",
     "output_type": "stream",
     "text": [
      "c:\\users\\berk_\\appdata\\local\\programs\\python\\python37\\lib\\importlib\\_bootstrap.py:219: RuntimeWarning: numpy.ufunc size changed, may indicate binary incompatibility. Expected 216, got 192\n",
      "  return f(*args, **kwds)\n",
      "c:\\users\\berk_\\appdata\\local\\programs\\python\\python37\\lib\\importlib\\_bootstrap.py:219: RuntimeWarning: numpy.ufunc size changed, may indicate binary incompatibility. Expected 192 from C header, got 216 from PyObject\n",
      "  return f(*args, **kwds)\n"
     ]
    }
   ],
   "source": [
    "import pandas as pd\n",
    "import seaborn as sns"
   ]
  },
  {
   "cell_type": "code",
   "execution_count": 55,
   "metadata": {},
   "outputs": [
    {
     "data": {
      "text/plain": [
       "<matplotlib.axes._subplots.AxesSubplot at 0x16beb905c18>"
      ]
     },
     "execution_count": 55,
     "metadata": {},
     "output_type": "execute_result"
    },
    {
     "data": {
      "image/png": "[encoded data removed]",
      "text/plain": [
       "<Figure size 432x288 with 2 Axes>"
      ]
     },
     "metadata": {
      "needs_background": "light"
     },
     "output_type": "display_data"
    }
   ],
   "source": [
    "df = pd.DataFrame(X)\n",
    "df['y'] = y\n",
    "\n",
    "sns.heatmap(df.corr())"
   ]
  },
  {
   "cell_type": "code",
   "execution_count": 58,
   "metadata": {},
   "outputs": [
    {
     "data": {
      "text/html": [
       "<div>\n",
       "<style scoped>\n",
       "    .dataframe tbody tr th:only-of-type {\n",
       "        vertical-align: middle;\n",
       "    }\n",
       "\n",
       "    .dataframe tbody tr th {\n",
       "        vertical-align: top;\n",
       "    }\n",
       "\n",
       "    .dataframe thead th {\n",
       "        text-align: right;\n",
       "    }\n",
       "</style>\n",
       "<table border=\"1\" class=\"dataframe\">\n",
       "  <thead>\n",
       "    <tr style=\"text-align: right;\">\n",
       "      <th></th>\n",
       "      <th>0</th>\n",
       "      <th>1</th>\n",
       "      <th>2</th>\n",
       "      <th>3</th>\n",
       "      <th>4</th>\n",
       "      <th>5</th>\n",
       "      <th>6</th>\n",
       "      <th>7</th>\n",
       "      <th>8</th>\n",
       "      <th>9</th>\n",
       "      <th>...</th>\n",
       "      <th>21</th>\n",
       "      <th>22</th>\n",
       "      <th>23</th>\n",
       "      <th>24</th>\n",
       "      <th>25</th>\n",
       "      <th>26</th>\n",
       "      <th>27</th>\n",
       "      <th>28</th>\n",
       "      <th>29</th>\n",
       "      <th>y</th>\n",
       "    </tr>\n",
       "  </thead>\n",
       "  <tbody>\n",
       "    <tr>\n",
       "      <th>0</th>\n",
       "      <td>1.000000</td>\n",
       "      <td>0.003398</td>\n",
       "      <td>0.014844</td>\n",
       "      <td>0.040653</td>\n",
       "      <td>0.003736</td>\n",
       "      <td>-0.030116</td>\n",
       "      <td>-0.068980</td>\n",
       "      <td>-0.009995</td>\n",
       "      <td>-0.020736</td>\n",
       "      <td>-0.028767</td>\n",
       "      <td>...</td>\n",
       "      <td>-0.026284</td>\n",
       "      <td>0.011251</td>\n",
       "      <td>-0.014718</td>\n",
       "      <td>0.040500</td>\n",
       "      <td>0.000471</td>\n",
       "      <td>-0.005976</td>\n",
       "      <td>0.013629</td>\n",
       "      <td>0.011788</td>\n",
       "      <td>0.014517</td>\n",
       "      <td>0.357786</td>\n",
       "    </tr>\n",
       "    <tr>\n",
       "      <th>1</th>\n",
       "      <td>0.003398</td>\n",
       "      <td>1.000000</td>\n",
       "      <td>-0.015704</td>\n",
       "      <td>-0.016865</td>\n",
       "      <td>-0.018942</td>\n",
       "      <td>0.007860</td>\n",
       "      <td>0.021531</td>\n",
       "      <td>-0.010649</td>\n",
       "      <td>-0.010605</td>\n",
       "      <td>0.018028</td>\n",
       "      <td>...</td>\n",
       "      <td>0.012620</td>\n",
       "      <td>-0.005308</td>\n",
       "      <td>0.022773</td>\n",
       "      <td>-0.014434</td>\n",
       "      <td>0.007451</td>\n",
       "      <td>-0.000361</td>\n",
       "      <td>-0.002009</td>\n",
       "      <td>0.005700</td>\n",
       "      <td>0.001593</td>\n",
       "      <td>0.027547</td>\n",
       "    </tr>\n",
       "    <tr>\n",
       "      <th>2</th>\n",
       "      <td>0.014844</td>\n",
       "      <td>-0.015704</td>\n",
       "      <td>1.000000</td>\n",
       "      <td>-0.004661</td>\n",
       "      <td>0.016471</td>\n",
       "      <td>0.009584</td>\n",
       "      <td>0.002478</td>\n",
       "      <td>0.006501</td>\n",
       "      <td>0.007246</td>\n",
       "      <td>0.017844</td>\n",
       "      <td>...</td>\n",
       "      <td>-0.025357</td>\n",
       "      <td>0.024085</td>\n",
       "      <td>0.029386</td>\n",
       "      <td>-0.001027</td>\n",
       "      <td>-0.000620</td>\n",
       "      <td>-0.024635</td>\n",
       "      <td>0.010322</td>\n",
       "      <td>-0.018677</td>\n",
       "      <td>0.018156</td>\n",
       "      <td>0.020472</td>\n",
       "    </tr>\n",
       "    <tr>\n",
       "      <th>3</th>\n",
       "      <td>0.040653</td>\n",
       "      <td>-0.016865</td>\n",
       "      <td>-0.004661</td>\n",
       "      <td>1.000000</td>\n",
       "      <td>-0.022350</td>\n",
       "      <td>-0.012447</td>\n",
       "      <td>-0.003326</td>\n",
       "      <td>-0.007109</td>\n",
       "      <td>-0.024410</td>\n",
       "      <td>0.013939</td>\n",
       "      <td>...</td>\n",
       "      <td>0.008746</td>\n",
       "      <td>-0.035392</td>\n",
       "      <td>-0.008936</td>\n",
       "      <td>-0.013739</td>\n",
       "      <td>0.008452</td>\n",
       "      <td>-0.015007</td>\n",
       "      <td>-0.016738</td>\n",
       "      <td>0.027287</td>\n",
       "      <td>-0.028417</td>\n",
       "      <td>0.000103</td>\n",
       "    </tr>\n",
       "    <tr>\n",
       "      <th>4</th>\n",
       "      <td>0.003736</td>\n",
       "      <td>-0.018942</td>\n",
       "      <td>0.016471</td>\n",
       "      <td>-0.022350</td>\n",
       "      <td>1.000000</td>\n",
       "      <td>0.007698</td>\n",
       "      <td>-0.020197</td>\n",
       "      <td>0.008767</td>\n",
       "      <td>0.004048</td>\n",
       "      <td>-0.019598</td>\n",
       "      <td>...</td>\n",
       "      <td>0.033352</td>\n",
       "      <td>-0.016289</td>\n",
       "      <td>-0.028551</td>\n",
       "      <td>0.039381</td>\n",
       "      <td>0.026187</td>\n",
       "      <td>-0.033838</td>\n",
       "      <td>-0.010302</td>\n",
       "      <td>-0.012189</td>\n",
       "      <td>-0.005560</td>\n",
       "      <td>-0.001690</td>\n",
       "    </tr>\n",
       "  </tbody>\n",
       "</table>\n",
       "<p>5 rows × 31 columns</p>\n",
       "</div>"
      ],
      "text/plain": [
       "          0         1         2         3         4         5         6  \\\n",
       "0  1.000000  0.003398  0.014844  0.040653  0.003736 -0.030116 -0.068980   \n",
       "1  0.003398  1.000000 -0.015704 -0.016865 -0.018942  0.007860  0.021531   \n",
       "2  0.014844 -0.015704  1.000000 -0.004661  0.016471  0.009584  0.002478   \n",
       "3  0.040653 -0.016865 -0.004661  1.000000 -0.022350 -0.012447 -0.003326   \n",
       "4  0.003736 -0.018942  0.016471 -0.022350  1.000000  0.007698 -0.020197   \n",
       "\n",
       "          7         8         9  ...        21        22        23        24  \\\n",
       "0 -0.009995 -0.020736 -0.028767  ... -0.026284  0.011251 -0.014718  0.040500   \n",
       "1 -0.010649 -0.010605  0.018028  ...  0.012620 -0.005308  0.022773 -0.014434   \n",
       "2  0.006501  0.007246  0.017844  ... -0.025357  0.024085  0.029386 -0.001027   \n",
       "3 -0.007109 -0.024410  0.013939  ...  0.008746 -0.035392 -0.008936 -0.013739   \n",
       "4  0.008767  0.004048 -0.019598  ...  0.033352 -0.016289 -0.028551  0.039381   \n",
       "\n",
       "         25        26        27        28        29         y  \n",
       "0  0.000471 -0.005976  0.013629  0.011788  0.014517  0.357786  \n",
       "1  0.007451 -0.000361 -0.002009  0.005700  0.001593  0.027547  \n",
       "2 -0.000620 -0.024635  0.010322 -0.018677  0.018156  0.020472  \n",
       "3  0.008452 -0.015007 -0.016738  0.027287 -0.028417  0.000103  \n",
       "4  0.026187 -0.033838 -0.010302 -0.012189 -0.005560 -0.001690  \n",
       "\n",
       "[5 rows x 31 columns]"
      ]
     },
     "execution_count": 58,
     "metadata": {},
     "output_type": "execute_result"
    }
   ],
   "source": [
    "df.corr().head()"
   ]
  },
  {
   "cell_type": "code",
   "execution_count": 67,
   "metadata": {},
   "outputs": [
    {
     "data": {
      "text/plain": [
       "array([[1.        , 0.07590268],\n",
       "       [0.07590268, 1.        ]])"
      ]
     },
     "execution_count": 67,
     "metadata": {},
     "output_type": "execute_result"
    }
   ],
   "source": [
    "import numpy as np\n",
    "\n",
    "np.corrcoef(df['y'], df['y']**2)"
   ]
  },
  {
   "cell_type": "code",
   "execution_count": 68,
   "metadata": {},
   "outputs": [
    {
     "data": {
      "text/plain": [
       "<matplotlib.collections.PathCollection at 0x16beb40e240>"
      ]
     },
     "execution_count": 68,
     "metadata": {},
     "output_type": "execute_result"
    },
    {
     "data": {
      "image/png": "[encoded data removed]",
      "text/plain": [
       "<Figure size 432x288 with 1 Axes>"
      ]
     },
     "metadata": {
      "needs_background": "light"
     },
     "output_type": "display_data"
    }
   ],
   "source": [
    "plt.scatter(df['y'], df['y']**2)"
   ]
  },
  {
   "cell_type": "code",
   "execution_count": 69,
   "metadata": {},
   "outputs": [],
   "source": [
    "from sklearn.model_selection import train_test_split"
   ]
  },
  {
   "cell_type": "code",
   "execution_count": 70,
   "metadata": {},
   "outputs": [],
   "source": [
    "X_train, X_test, y_train, y_test = train_test_split(X, y, test_size=0.2, random_state=42)"
   ]
  },
  {
   "cell_type": "code",
   "execution_count": null,
   "metadata": {},
   "outputs": [],
   "source": []
  },
  {
   "cell_type": "code",
   "execution_count": 71,
   "metadata": {},
   "outputs": [],
   "source": [
    "from sklearn.tree import DecisionTreeRegressor"
   ]
  },
  {
   "cell_type": "code",
   "execution_count": 72,
   "metadata": {},
   "outputs": [],
   "source": [
    "model = DecisionTreeRegressor()"
   ]
  },
  {
   "cell_type": "code",
   "execution_count": null,
   "metadata": {},
   "outputs": [],
   "source": []
  },
  {
   "cell_type": "code",
   "execution_count": 73,
   "metadata": {},
   "outputs": [
    {
     "data": {
      "text/plain": [
       "DecisionTreeRegressor(criterion='mse', max_depth=None, max_features=None,\n",
       "           max_leaf_nodes=None, min_impurity_decrease=0.0,\n",
       "           min_impurity_split=None, min_samples_leaf=1,\n",
       "           min_samples_split=2, min_weight_fraction_leaf=0.0,\n",
       "           presort=False, random_state=None, splitter='best')"
      ]
     },
     "execution_count": 73,
     "metadata": {},
     "output_type": "execute_result"
    }
   ],
   "source": [
    "model.fit(X_train, y_train)"
   ]
  },
  {
   "cell_type": "code",
   "execution_count": 74,
   "metadata": {},
   "outputs": [
    {
     "name": "stdout",
     "output_type": "stream",
     "text": [
      "Train score: 1.0\n"
     ]
    }
   ],
   "source": [
    "print('Train score:', model.score(X_train, y_train))"
   ]
  },
  {
   "cell_type": "code",
   "execution_count": 75,
   "metadata": {},
   "outputs": [
    {
     "name": "stdout",
     "output_type": "stream",
     "text": [
      "Test score: 0.46420527529902034\n"
     ]
    }
   ],
   "source": [
    "print('Test score:', model.score(X_test, y_test))"
   ]
  },
  {
   "cell_type": "markdown",
   "metadata": {},
   "source": [
    "**Overfit!**"
   ]
  },
  {
   "cell_type": "code",
   "execution_count": 76,
   "metadata": {},
   "outputs": [],
   "source": [
    "model = DecisionTreeRegressor(max_depth=7)"
   ]
  },
  {
   "cell_type": "code",
   "execution_count": 77,
   "metadata": {},
   "outputs": [
    {
     "data": {
      "text/plain": [
       "DecisionTreeRegressor(criterion='mse', max_depth=7, max_features=None,\n",
       "           max_leaf_nodes=None, min_impurity_decrease=0.0,\n",
       "           min_impurity_split=None, min_samples_leaf=1,\n",
       "           min_samples_split=2, min_weight_fraction_leaf=0.0,\n",
       "           presort=False, random_state=None, splitter='best')"
      ]
     },
     "execution_count": 77,
     "metadata": {},
     "output_type": "execute_result"
    }
   ],
   "source": [
    "model.fit(X_train, y_train)"
   ]
  },
  {
   "cell_type": "code",
   "execution_count": 78,
   "metadata": {},
   "outputs": [
    {
     "name": "stdout",
     "output_type": "stream",
     "text": [
      "Train score: 0.8261566368286887\n"
     ]
    }
   ],
   "source": [
    "print('Train score:', model.score(X_train, y_train))"
   ]
  },
  {
   "cell_type": "code",
   "execution_count": 79,
   "metadata": {},
   "outputs": [
    {
     "name": "stdout",
     "output_type": "stream",
     "text": [
      "Test score: 0.5328577320541432\n"
     ]
    }
   ],
   "source": [
    "print('Test score:', model.score(X_test, y_test))"
   ]
  },
  {
   "cell_type": "markdown",
   "metadata": {},
   "source": [
    "**Still overfit**"
   ]
  },
  {
   "cell_type": "code",
   "execution_count": 80,
   "metadata": {},
   "outputs": [],
   "source": [
    "model = DecisionTreeRegressor(max_depth=3)"
   ]
  },
  {
   "cell_type": "code",
   "execution_count": 81,
   "metadata": {},
   "outputs": [
    {
     "data": {
      "text/plain": [
       "DecisionTreeRegressor(criterion='mse', max_depth=3, max_features=None,\n",
       "           max_leaf_nodes=None, min_impurity_decrease=0.0,\n",
       "           min_impurity_split=None, min_samples_leaf=1,\n",
       "           min_samples_split=2, min_weight_fraction_leaf=0.0,\n",
       "           presort=False, random_state=None, splitter='best')"
      ]
     },
     "execution_count": 81,
     "metadata": {},
     "output_type": "execute_result"
    }
   ],
   "source": [
    "model.fit(X_train, y_train)"
   ]
  },
  {
   "cell_type": "code",
   "execution_count": 82,
   "metadata": {},
   "outputs": [
    {
     "name": "stdout",
     "output_type": "stream",
     "text": [
      "Train score: 0.44971367541124263\n"
     ]
    }
   ],
   "source": [
    "print('Train score:', model.score(X_train, y_train))"
   ]
  },
  {
   "cell_type": "code",
   "execution_count": 83,
   "metadata": {},
   "outputs": [
    {
     "name": "stdout",
     "output_type": "stream",
     "text": [
      "Test score: 0.3468747276189652\n"
     ]
    }
   ],
   "source": [
    "print('Test score:', model.score(X_test, y_test))"
   ]
  },
  {
   "cell_type": "markdown",
   "metadata": {},
   "source": [
    "**Both high bias and high variance**"
   ]
  },
  {
   "cell_type": "code",
   "execution_count": 84,
   "metadata": {},
   "outputs": [
    {
     "name": "stdout",
     "output_type": "stream",
     "text": [
      "Depth: 1\n",
      "Train score: 0.16933637932899825\n",
      "Test score: 0.11404050817326417\n",
      "\n",
      "\n",
      "Depth: 2\n",
      "Train score: 0.31445358242687504\n",
      "Test score: 0.224300065041957\n",
      "\n",
      "\n",
      "Depth: 3\n",
      "Train score: 0.44971367541124263\n",
      "Test score: 0.3468747276189652\n",
      "\n",
      "\n",
      "Depth: 4\n",
      "Train score: 0.5518780358746269\n",
      "Test score: 0.4170030100914113\n",
      "\n",
      "\n",
      "Depth: 5\n",
      "Train score: 0.6496886453079092\n",
      "Test score: 0.4613490481344027\n",
      "\n",
      "\n",
      "Depth: 6\n",
      "Train score: 0.7387601363785639\n",
      "Test score: 0.48899199710659447\n",
      "\n",
      "\n",
      "Depth: 7\n",
      "Train score: 0.8261566368286887\n",
      "Test score: 0.5235278836415149\n",
      "\n",
      "\n",
      "Depth: 8\n",
      "Train score: 0.8932642251918173\n",
      "Test score: 0.5190372742564106\n",
      "\n",
      "\n",
      "Depth: 9\n",
      "Train score: 0.9417381264697499\n",
      "Test score: 0.4694048301564908\n",
      "\n",
      "\n",
      "Depth: 10\n",
      "Train score: 0.9712633729150042\n",
      "Test score: 0.47553435914301057\n",
      "\n",
      "\n",
      "Depth: 11\n",
      "Train score: 0.9871656704377567\n",
      "Test score: 0.47152055200570786\n",
      "\n",
      "\n",
      "Depth: 12\n",
      "Train score: 0.9948353793261455\n",
      "Test score: 0.47752167532761514\n",
      "\n",
      "\n",
      "Depth: 13\n",
      "Train score: 0.9980913465389192\n",
      "Test score: 0.5250613563119829\n",
      "\n",
      "\n",
      "Depth: 14\n",
      "Train score: 0.9993006957125833\n",
      "Test score: 0.4633120595749408\n",
      "\n",
      "\n"
     ]
    }
   ],
   "source": [
    "depths = range(1,15)\n",
    "\n",
    "for d in depths:\n",
    "    print('Depth:', d)\n",
    "    model = DecisionTreeRegressor(max_depth=d)\n",
    "    model.fit(X_train, y_train)   \n",
    "    print('Train score:', model.score(X_train, y_train))\n",
    "    print('Test score:', model.score(X_test, y_test))\n",
    "    print('\\n')"
   ]
  },
  {
   "cell_type": "code",
   "execution_count": 89,
   "metadata": {},
   "outputs": [
    {
     "name": "stdout",
     "output_type": "stream",
     "text": [
      "Min samples leaf: 1\n",
      "Train score: 1.0\n",
      "Test score: 0.48517484237678093\n",
      "\n",
      "\n",
      "Min samples leaf: 2\n",
      "Train score: 0.9848679326548151\n",
      "Test score: 0.4947534660702292\n",
      "\n",
      "\n",
      "Min samples leaf: 3\n",
      "Train score: 0.9653842223977686\n",
      "Test score: 0.46446159600198356\n",
      "\n",
      "\n",
      "Min samples leaf: 4\n",
      "Train score: 0.938141801738765\n",
      "Test score: 0.5171763375472984\n",
      "\n",
      "\n",
      "Min samples leaf: 5\n",
      "Train score: 0.9184111591872632\n",
      "Test score: 0.5427730466593097\n",
      "\n",
      "\n",
      "Min samples leaf: 6\n",
      "Train score: 0.8965838523494796\n",
      "Test score: 0.5558338417513449\n",
      "\n",
      "\n",
      "Min samples leaf: 7\n",
      "Train score: 0.8749301966733115\n",
      "Test score: 0.5619290899294614\n",
      "\n",
      "\n",
      "Min samples leaf: 8\n",
      "Train score: 0.8610173595575751\n",
      "Test score: 0.562048764113865\n",
      "\n",
      "\n",
      "Min samples leaf: 9\n",
      "Train score: 0.8452421826768551\n",
      "Test score: 0.5559896181244037\n",
      "\n",
      "\n",
      "Min samples leaf: 10\n",
      "Train score: 0.8296168307721348\n",
      "Test score: 0.55778049690081\n",
      "\n",
      "\n",
      "Min samples leaf: 11\n",
      "Train score: 0.810761415506678\n",
      "Test score: 0.5755114873743921\n",
      "\n",
      "\n",
      "Min samples leaf: 12\n",
      "Train score: 0.8040096230095622\n",
      "Test score: 0.5689166032532111\n",
      "\n",
      "\n",
      "Min samples leaf: 13\n",
      "Train score: 0.7930526502158212\n",
      "Test score: 0.5505509034463151\n",
      "\n",
      "\n",
      "Min samples leaf: 14\n",
      "Train score: 0.7876827125467037\n",
      "Test score: 0.5553666519184952\n",
      "\n",
      "\n",
      "Min samples leaf: 15\n",
      "Train score: 0.7767579700637779\n",
      "Test score: 0.5292741170125055\n",
      "\n",
      "\n",
      "Min samples leaf: 16\n",
      "Train score: 0.7660915598623808\n",
      "Test score: 0.5378706999904403\n",
      "\n",
      "\n",
      "Min samples leaf: 17\n",
      "Train score: 0.7555562687554362\n",
      "Test score: 0.5536306018227081\n",
      "\n",
      "\n",
      "Min samples leaf: 18\n",
      "Train score: 0.7491820564666404\n",
      "Test score: 0.5425123194273618\n",
      "\n",
      "\n",
      "Min samples leaf: 19\n",
      "Train score: 0.7396712738202981\n",
      "Test score: 0.5286763005600219\n",
      "\n",
      "\n"
     ]
    }
   ],
   "source": [
    "min_samples_lef = range(1,20)\n",
    "\n",
    "for d in min_samples_lef:\n",
    "    print('Min samples leaf:', d)\n",
    "    model = DecisionTreeRegressor(min_samples_leaf=d)\n",
    "    model.fit(X_train, y_train)   \n",
    "    print('Train score:', model.score(X_train, y_train))\n",
    "    print('Test score:', model.score(X_test, y_test))\n",
    "    print('\\n')"
   ]
  },
  {
   "cell_type": "code",
   "execution_count": 88,
   "metadata": {},
   "outputs": [
    {
     "name": "stdout",
     "output_type": "stream",
     "text": [
      "Max leaf nodes: 60\n",
      "Train score: 0.7605025673977143\n",
      "Test score: 0.549377723079616\n",
      "\n",
      "\n",
      "Max leaf nodes: 61\n",
      "Train score: 0.7627988874186309\n",
      "Test score: 0.5467356613430973\n",
      "\n",
      "\n",
      "Max leaf nodes: 62\n",
      "Train score: 0.7650352871185477\n",
      "Test score: 0.5445861018073612\n",
      "\n",
      "\n",
      "Max leaf nodes: 63\n",
      "Train score: 0.767270719842701\n",
      "Test score: 0.545772320394625\n",
      "\n",
      "\n",
      "Max leaf nodes: 64\n",
      "Train score: 0.7694804345249243\n",
      "Test score: 0.5452868244322363\n",
      "\n",
      "\n",
      "Max leaf nodes: 65\n",
      "Train score: 0.7716096363097582\n",
      "Test score: 0.545533001770266\n",
      "\n",
      "\n",
      "Max leaf nodes: 66\n",
      "Train score: 0.7737104673078787\n",
      "Test score: 0.5450150201645599\n",
      "\n",
      "\n",
      "Max leaf nodes: 67\n",
      "Train score: 0.7757931681639492\n",
      "Test score: 0.5465263092298537\n",
      "\n",
      "\n",
      "Max leaf nodes: 68\n",
      "Train score: 0.7779933136897089\n",
      "Test score: 0.5470113250302902\n",
      "\n",
      "\n",
      "Max leaf nodes: 69\n",
      "Train score: 0.7800478316295386\n",
      "Test score: 0.5463706880547963\n",
      "\n",
      "\n",
      "Max leaf nodes: 70\n",
      "Train score: 0.7820763215506116\n",
      "Test score: 0.5519397464078337\n",
      "\n",
      "\n",
      "Max leaf nodes: 71\n",
      "Train score: 0.7840758654521678\n",
      "Test score: 0.5474489645960106\n",
      "\n",
      "\n",
      "Max leaf nodes: 72\n",
      "Train score: 0.786001192772214\n",
      "Test score: 0.542699517749721\n",
      "\n",
      "\n",
      "Max leaf nodes: 73\n",
      "Train score: 0.7879213078229647\n",
      "Test score: 0.539504914569668\n",
      "\n",
      "\n",
      "Max leaf nodes: 74\n",
      "Train score: 0.7898342999552974\n",
      "Test score: 0.5393083936148912\n",
      "\n",
      "\n",
      "Max leaf nodes: 75\n",
      "Train score: 0.7917407736582187\n",
      "Test score: 0.5379133337430282\n",
      "\n",
      "\n",
      "Max leaf nodes: 76\n",
      "Train score: 0.7936374898974746\n",
      "Test score: 0.5359408025666559\n",
      "\n",
      "\n",
      "Max leaf nodes: 77\n",
      "Train score: 0.7955214304810534\n",
      "Test score: 0.5351625653511711\n",
      "\n",
      "\n",
      "Max leaf nodes: 78\n",
      "Train score: 0.7974029382153602\n",
      "Test score: 0.5370364740363929\n",
      "\n",
      "\n",
      "Max leaf nodes: 79\n",
      "Train score: 0.7992372383702744\n",
      "Test score: 0.5321719722958265\n",
      "\n",
      "\n"
     ]
    }
   ],
   "source": [
    "max_nodes = range(60,80)\n",
    "\n",
    "for d in max_nodes:\n",
    "    print('Max leaf nodes:', d)\n",
    "    model = DecisionTreeRegressor(max_leaf_nodes=d)\n",
    "    model.fit(X_train, y_train)   \n",
    "    print('Train score:', model.score(X_train, y_train))\n",
    "    print('Test score:', model.score(X_test, y_test))\n",
    "    print('\\n')"
   ]
  },
  {
   "cell_type": "code",
   "execution_count": 91,
   "metadata": {},
   "outputs": [
    {
     "name": "stdout",
     "output_type": "stream",
     "text": [
      "Min impurity: 0\n",
      "Train score: 1.0\n",
      "Test score: 0.4622989297046899\n",
      "\n",
      "\n",
      "Min impurity: 1\n",
      "Train score: 0.9999987531567136\n",
      "Test score: 0.47071878285202173\n",
      "\n",
      "\n",
      "Min impurity: 2\n",
      "Train score: 0.9999965288336068\n",
      "Test score: 0.4570100320786378\n",
      "\n",
      "\n",
      "Min impurity: 3\n",
      "Train score: 0.9999935233349024\n",
      "Test score: 0.4700513900087093\n",
      "\n",
      "\n",
      "Min impurity: 4\n",
      "Train score: 0.9999910579295008\n",
      "Test score: 0.502391686620156\n",
      "\n",
      "\n",
      "Min impurity: 5\n",
      "Train score: 0.9999884944554\n",
      "Test score: 0.48184085607184657\n",
      "\n",
      "\n",
      "Min impurity: 6\n",
      "Train score: 0.9999850945461887\n",
      "Test score: 0.511420331255277\n",
      "\n",
      "\n",
      "Min impurity: 7\n",
      "Train score: 0.9999811627309748\n",
      "Test score: 0.4827362193764857\n",
      "\n",
      "\n",
      "Min impurity: 8\n",
      "Train score: 0.99997788760019\n",
      "Test score: 0.4899796174300266\n",
      "\n",
      "\n",
      "Min impurity: 9\n",
      "Train score: 0.9999733786029829\n",
      "Test score: 0.4777107072437781\n",
      "\n",
      "\n",
      "Min impurity: 10\n",
      "Train score: 0.9999695867193199\n",
      "Test score: 0.5018659903218481\n",
      "\n",
      "\n",
      "Min impurity: 11\n",
      "Train score: 0.9999662931373882\n",
      "Test score: 0.46205547213134457\n",
      "\n",
      "\n",
      "Min impurity: 12\n",
      "Train score: 0.9999627359204998\n",
      "Test score: 0.4800321711297991\n",
      "\n",
      "\n",
      "Min impurity: 13\n",
      "Train score: 0.999955981138056\n",
      "Test score: 0.48984229434380655\n",
      "\n",
      "\n",
      "Min impurity: 14\n",
      "Train score: 0.99994864900624\n",
      "Test score: 0.491960443991148\n",
      "\n",
      "\n",
      "Min impurity: 15\n",
      "Train score: 0.9999459534537365\n",
      "Test score: 0.5044835130190419\n",
      "\n",
      "\n",
      "Min impurity: 16\n",
      "Train score: 0.9999403717542783\n",
      "Test score: 0.4698521700513426\n",
      "\n",
      "\n",
      "Min impurity: 17\n",
      "Train score: 0.9999384125702078\n",
      "Test score: 0.47715009409476405\n",
      "\n",
      "\n",
      "Min impurity: 18\n",
      "Train score: 0.9999333833763084\n",
      "Test score: 0.4688457088183483\n",
      "\n",
      "\n",
      "Min impurity: 19\n",
      "Train score: 0.9999269520657942\n",
      "Test score: 0.4734130080356849\n",
      "\n",
      "\n"
     ]
    }
   ],
   "source": [
    "min_impurity = range(0, 20)\n",
    "\n",
    "for d in min_impurity:\n",
    "    print('Min impurity:', d)\n",
    "    model = DecisionTreeRegressor(min_impurity_split=d)\n",
    "    model.fit(X_train, y_train)   \n",
    "    print('Train score:', model.score(X_train, y_train))\n",
    "    print('Test score:', model.score(X_test, y_test))\n",
    "    print('\\n')"
   ]
  },
  {
   "cell_type": "markdown",
   "metadata": {},
   "source": [
    "## Feature Importances"
   ]
  },
  {
   "cell_type": "code",
   "execution_count": 92,
   "metadata": {},
   "outputs": [
    {
     "data": {
      "text/plain": [
       "DecisionTreeRegressor(criterion='mse', max_depth=None, max_features=None,\n",
       "           max_leaf_nodes=70, min_impurity_decrease=0.0,\n",
       "           min_impurity_split=None, min_samples_leaf=1,\n",
       "           min_samples_split=2, min_weight_fraction_leaf=0.0,\n",
       "           presort=False, random_state=None, splitter='best')"
      ]
     },
     "execution_count": 92,
     "metadata": {},
     "output_type": "execute_result"
    }
   ],
   "source": [
    "model = DecisionTreeRegressor(max_leaf_nodes=70)\n",
    "model.fit(X_train, y_train)"
   ]
  },
  {
   "cell_type": "code",
   "execution_count": 94,
   "metadata": {},
   "outputs": [
    {
     "data": {
      "text/plain": [
       "array([0.09785424, 0.        , 0.        , 0.        , 0.        ,\n",
       "       0.        , 0.        , 0.        , 0.        , 0.07854333,\n",
       "       0.20501428, 0.        , 0.280432  , 0.        , 0.        ,\n",
       "       0.        , 0.08022603, 0.        , 0.        , 0.        ,\n",
       "       0.        , 0.00320973, 0.00437508, 0.        , 0.01233064,\n",
       "       0.23801467, 0.        , 0.        , 0.        , 0.        ])"
      ]
     },
     "execution_count": 94,
     "metadata": {},
     "output_type": "execute_result"
    }
   ],
   "source": [
    "importances = model.feature_importances_\n",
    "importances"
   ]
  },
  {
   "cell_type": "code",
   "execution_count": 128,
   "metadata": {},
   "outputs": [],
   "source": [
    "filt = importances > 0.0"
   ]
  },
  {
   "cell_type": "code",
   "execution_count": 129,
   "metadata": {},
   "outputs": [],
   "source": [
    "def select(data, filtre):\n",
    "    return data.T[filtre].T"
   ]
  },
  {
   "cell_type": "code",
   "execution_count": 130,
   "metadata": {},
   "outputs": [],
   "source": [
    "model = DecisionTreeRegressor(max_leaf_nodes=70)"
   ]
  },
  {
   "cell_type": "code",
   "execution_count": 131,
   "metadata": {},
   "outputs": [
    {
     "data": {
      "text/plain": [
       "DecisionTreeRegressor(criterion='mse', max_depth=None, max_features=None,\n",
       "           max_leaf_nodes=70, min_impurity_decrease=0.0,\n",
       "           min_impurity_split=None, min_samples_leaf=1,\n",
       "           min_samples_split=2, min_weight_fraction_leaf=0.0,\n",
       "           presort=False, random_state=None, splitter='best')"
      ]
     },
     "execution_count": 131,
     "metadata": {},
     "output_type": "execute_result"
    }
   ],
   "source": [
    "model.fit(select(X_train, filt), y_train)"
   ]
  },
  {
   "cell_type": "code",
   "execution_count": 132,
   "metadata": {},
   "outputs": [
    {
     "data": {
      "text/plain": [
       "0.7820763215506116"
      ]
     },
     "execution_count": 132,
     "metadata": {},
     "output_type": "execute_result"
    }
   ],
   "source": [
    "model.score(select(X_train, filt), y_train)"
   ]
  },
  {
   "cell_type": "code",
   "execution_count": 133,
   "metadata": {},
   "outputs": [
    {
     "data": {
      "text/plain": [
       "0.5519397464078337"
      ]
     },
     "execution_count": 133,
     "metadata": {},
     "output_type": "execute_result"
    }
   ],
   "source": [
    "model.score(select(X_test, filt), y_test)"
   ]
  },
  {
   "cell_type": "code",
   "execution_count": null,
   "metadata": {},
   "outputs": [],
   "source": []
  },
  {
   "cell_type": "code",
   "execution_count": 134,
   "metadata": {},
   "outputs": [],
   "source": [
    "from sklearn.linear_model import LinearRegression"
   ]
  },
  {
   "cell_type": "code",
   "execution_count": 135,
   "metadata": {},
   "outputs": [],
   "source": [
    "l_model = LinearRegression()"
   ]
  },
  {
   "cell_type": "code",
   "execution_count": 136,
   "metadata": {},
   "outputs": [
    {
     "data": {
      "text/plain": [
       "LinearRegression(copy_X=True, fit_intercept=True, n_jobs=None,\n",
       "         normalize=False)"
      ]
     },
     "execution_count": 136,
     "metadata": {},
     "output_type": "execute_result"
    }
   ],
   "source": [
    "l_model.fit(X_train, y_train)"
   ]
  },
  {
   "cell_type": "code",
   "execution_count": 138,
   "metadata": {},
   "outputs": [
    {
     "data": {
      "text/plain": [
       "1.0"
      ]
     },
     "execution_count": 138,
     "metadata": {},
     "output_type": "execute_result"
    }
   ],
   "source": [
    "l_model.score(X_train, y_train)"
   ]
  },
  {
   "cell_type": "code",
   "execution_count": 139,
   "metadata": {},
   "outputs": [
    {
     "data": {
      "text/plain": [
       "1.0"
      ]
     },
     "execution_count": 139,
     "metadata": {},
     "output_type": "execute_result"
    }
   ],
   "source": [
    "l_model.score(X_test, y_test)"
   ]
  },
  {
   "cell_type": "code",
   "execution_count": 141,
   "metadata": {},
   "outputs": [
    {
     "data": {
      "text/plain": [
       "array([69.369,  0.   ,  0.   ,  0.   ,  0.   ,  0.   ,  0.   , -0.   ,\n",
       "       -0.   , 58.327, 92.85 , -0.   , 95.675,  0.   , 13.774,  0.   ,\n",
       "       56.397, -0.   , -0.   ,  0.   , -0.   , 18.805, 20.182,  0.   ,\n",
       "       37.776, 94.806,  0.   ,  0.   ,  0.   , -0.   ])"
      ]
     },
     "execution_count": 141,
     "metadata": {},
     "output_type": "execute_result"
    }
   ],
   "source": [
    "l_model.coef_.round(3)"
   ]
  },
  {
   "cell_type": "code",
   "execution_count": 144,
   "metadata": {},
   "outputs": [
    {
     "data": {
      "text/plain": [
       "array([0.098, 0.   , 0.   , 0.   , 0.   , 0.   , 0.   , 0.   , 0.   ,\n",
       "       0.079, 0.205, 0.   , 0.28 , 0.   , 0.   , 0.   , 0.08 , 0.   ,\n",
       "       0.   , 0.   , 0.   , 0.003, 0.004, 0.   , 0.012, 0.238, 0.   ,\n",
       "       0.   , 0.   , 0.   ])"
      ]
     },
     "execution_count": 144,
     "metadata": {},
     "output_type": "execute_result"
    }
   ],
   "source": [
    "importances.round(3)"
   ]
  },
  {
   "cell_type": "code",
   "execution_count": 147,
   "metadata": {},
   "outputs": [
    {
     "data": {
      "text/plain": [
       "array([ True,  True,  True,  True,  True,  True,  True,  True,  True,\n",
       "        True,  True,  True,  True,  True, False,  True,  True,  True,\n",
       "        True,  True,  True,  True,  True,  True,  True,  True,  True,\n",
       "        True,  True,  True])"
      ]
     },
     "execution_count": 147,
     "metadata": {},
     "output_type": "execute_result"
    }
   ],
   "source": [
    "(l_model.coef_.round(3) > 0) == (importances.round(3) > 0)"
   ]
  },
  {
   "cell_type": "code",
   "execution_count": null,
   "metadata": {},
   "outputs": [],
   "source": []
  }
 ],
 "metadata": {
  "kernelspec": {
   "display_name": "Python 3",
   "language": "python",
   "name": "python3"
  },
  "language_info": {
   "codemirror_mode": {
    "name": "ipython",
    "version": 3
   },
   "file_extension": ".py",
   "mimetype": "text/x-python",
   "name": "python",
   "nbconvert_exporter": "python",
   "pygments_lexer": "ipython3",
   "version": "3.7.0"
  }
 },
 "nbformat": 4,
 "nbformat_minor": 2
}
