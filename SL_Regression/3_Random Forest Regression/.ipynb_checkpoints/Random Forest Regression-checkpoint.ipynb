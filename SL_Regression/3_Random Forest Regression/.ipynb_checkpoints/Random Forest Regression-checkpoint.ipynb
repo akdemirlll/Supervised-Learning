{
 "cells": [
  {
   "cell_type": "markdown",
   "metadata": {},
   "source": [
    "# Random Forest Regression"
   ]
  },
  {
   "cell_type": "code",
   "execution_count": 1,
   "metadata": {},
   "outputs": [],
   "source": [
    "from sklearn.datasets import make_regression"
   ]
  },
  {
   "cell_type": "code",
   "execution_count": 2,
   "metadata": {},
   "outputs": [
    {
     "name": "stdout",
     "output_type": "stream",
     "text": [
      "(2000, 30)\n",
      "(2000,)\n"
     ]
    }
   ],
   "source": [
    "X, y = make_regression(n_samples=2000, n_features=30, n_informative=10, n_targets=1, random_state=42)\n",
    "print(X.shape)\n",
    "print(y.shape)"
   ]
  },
  {
   "cell_type": "code",
   "execution_count": 3,
   "metadata": {},
   "outputs": [
    {
     "data": {
      "text/plain": [
       "3.6239580997379797"
      ]
     },
     "execution_count": 3,
     "metadata": {},
     "output_type": "execute_result"
    }
   ],
   "source": [
    "y.mean()"
   ]
  },
  {
   "cell_type": "code",
   "execution_count": 4,
   "metadata": {},
   "outputs": [],
   "source": [
    "import matplotlib.pyplot as plt"
   ]
  },
  {
   "cell_type": "code",
   "execution_count": 5,
   "metadata": {},
   "outputs": [],
   "source": [
    "import pandas as pd\n",
    "import seaborn as sns"
   ]
  },
  {
   "cell_type": "code",
   "execution_count": 6,
   "metadata": {},
   "outputs": [
    {
     "data": {
      "text/plain": [
       "<matplotlib.axes._subplots.AxesSubplot at 0x29f75d00d08>"
      ]
     },
     "execution_count": 6,
     "metadata": {},
     "output_type": "execute_result"
    },
    {
     "data": {
      "image/png": "[encoded data removed]",
      "text/plain": [
       "<Figure size 432x288 with 2 Axes>"
      ]
     },
     "metadata": {
      "needs_background": "light"
     },
     "output_type": "display_data"
    }
   ],
   "source": [
    "df = pd.DataFrame(X)\n",
    "df['y'] = y\n",
    "\n",
    "sns.heatmap(df.corr())"
   ]
  },
  {
   "cell_type": "code",
   "execution_count": 7,
   "metadata": {},
   "outputs": [
    {
     "data": {
      "text/html": [
       "<div>\n",
       "<style scoped>\n",
       "    .dataframe tbody tr th:only-of-type {\n",
       "        vertical-align: middle;\n",
       "    }\n",
       "\n",
       "    .dataframe tbody tr th {\n",
       "        vertical-align: top;\n",
       "    }\n",
       "\n",
       "    .dataframe thead th {\n",
       "        text-align: right;\n",
       "    }\n",
       "</style>\n",
       "<table border=\"1\" class=\"dataframe\">\n",
       "  <thead>\n",
       "    <tr style=\"text-align: right;\">\n",
       "      <th></th>\n",
       "      <th>0</th>\n",
       "      <th>1</th>\n",
       "      <th>2</th>\n",
       "      <th>3</th>\n",
       "      <th>4</th>\n",
       "      <th>5</th>\n",
       "      <th>6</th>\n",
       "      <th>7</th>\n",
       "      <th>8</th>\n",
       "      <th>9</th>\n",
       "      <th>...</th>\n",
       "      <th>21</th>\n",
       "      <th>22</th>\n",
       "      <th>23</th>\n",
       "      <th>24</th>\n",
       "      <th>25</th>\n",
       "      <th>26</th>\n",
       "      <th>27</th>\n",
       "      <th>28</th>\n",
       "      <th>29</th>\n",
       "      <th>y</th>\n",
       "    </tr>\n",
       "  </thead>\n",
       "  <tbody>\n",
       "    <tr>\n",
       "      <th>0</th>\n",
       "      <td>1.000000</td>\n",
       "      <td>0.003398</td>\n",
       "      <td>0.014844</td>\n",
       "      <td>0.040653</td>\n",
       "      <td>0.003736</td>\n",
       "      <td>-0.030116</td>\n",
       "      <td>-0.068980</td>\n",
       "      <td>-0.009995</td>\n",
       "      <td>-0.020736</td>\n",
       "      <td>-0.028767</td>\n",
       "      <td>...</td>\n",
       "      <td>-0.026284</td>\n",
       "      <td>0.011251</td>\n",
       "      <td>-0.014718</td>\n",
       "      <td>0.040500</td>\n",
       "      <td>0.000471</td>\n",
       "      <td>-0.005976</td>\n",
       "      <td>0.013629</td>\n",
       "      <td>0.011788</td>\n",
       "      <td>0.014517</td>\n",
       "      <td>0.357786</td>\n",
       "    </tr>\n",
       "    <tr>\n",
       "      <th>1</th>\n",
       "      <td>0.003398</td>\n",
       "      <td>1.000000</td>\n",
       "      <td>-0.015704</td>\n",
       "      <td>-0.016865</td>\n",
       "      <td>-0.018942</td>\n",
       "      <td>0.007860</td>\n",
       "      <td>0.021531</td>\n",
       "      <td>-0.010649</td>\n",
       "      <td>-0.010605</td>\n",
       "      <td>0.018028</td>\n",
       "      <td>...</td>\n",
       "      <td>0.012620</td>\n",
       "      <td>-0.005308</td>\n",
       "      <td>0.022773</td>\n",
       "      <td>-0.014434</td>\n",
       "      <td>0.007451</td>\n",
       "      <td>-0.000361</td>\n",
       "      <td>-0.002009</td>\n",
       "      <td>0.005700</td>\n",
       "      <td>0.001593</td>\n",
       "      <td>0.027547</td>\n",
       "    </tr>\n",
       "    <tr>\n",
       "      <th>2</th>\n",
       "      <td>0.014844</td>\n",
       "      <td>-0.015704</td>\n",
       "      <td>1.000000</td>\n",
       "      <td>-0.004661</td>\n",
       "      <td>0.016471</td>\n",
       "      <td>0.009584</td>\n",
       "      <td>0.002478</td>\n",
       "      <td>0.006501</td>\n",
       "      <td>0.007246</td>\n",
       "      <td>0.017844</td>\n",
       "      <td>...</td>\n",
       "      <td>-0.025357</td>\n",
       "      <td>0.024085</td>\n",
       "      <td>0.029386</td>\n",
       "      <td>-0.001027</td>\n",
       "      <td>-0.000620</td>\n",
       "      <td>-0.024635</td>\n",
       "      <td>0.010322</td>\n",
       "      <td>-0.018677</td>\n",
       "      <td>0.018156</td>\n",
       "      <td>0.020472</td>\n",
       "    </tr>\n",
       "    <tr>\n",
       "      <th>3</th>\n",
       "      <td>0.040653</td>\n",
       "      <td>-0.016865</td>\n",
       "      <td>-0.004661</td>\n",
       "      <td>1.000000</td>\n",
       "      <td>-0.022350</td>\n",
       "      <td>-0.012447</td>\n",
       "      <td>-0.003326</td>\n",
       "      <td>-0.007109</td>\n",
       "      <td>-0.024410</td>\n",
       "      <td>0.013939</td>\n",
       "      <td>...</td>\n",
       "      <td>0.008746</td>\n",
       "      <td>-0.035392</td>\n",
       "      <td>-0.008936</td>\n",
       "      <td>-0.013739</td>\n",
       "      <td>0.008452</td>\n",
       "      <td>-0.015007</td>\n",
       "      <td>-0.016738</td>\n",
       "      <td>0.027287</td>\n",
       "      <td>-0.028417</td>\n",
       "      <td>0.000103</td>\n",
       "    </tr>\n",
       "    <tr>\n",
       "      <th>4</th>\n",
       "      <td>0.003736</td>\n",
       "      <td>-0.018942</td>\n",
       "      <td>0.016471</td>\n",
       "      <td>-0.022350</td>\n",
       "      <td>1.000000</td>\n",
       "      <td>0.007698</td>\n",
       "      <td>-0.020197</td>\n",
       "      <td>0.008767</td>\n",
       "      <td>0.004048</td>\n",
       "      <td>-0.019598</td>\n",
       "      <td>...</td>\n",
       "      <td>0.033352</td>\n",
       "      <td>-0.016289</td>\n",
       "      <td>-0.028551</td>\n",
       "      <td>0.039381</td>\n",
       "      <td>0.026187</td>\n",
       "      <td>-0.033838</td>\n",
       "      <td>-0.010302</td>\n",
       "      <td>-0.012189</td>\n",
       "      <td>-0.005560</td>\n",
       "      <td>-0.001690</td>\n",
       "    </tr>\n",
       "  </tbody>\n",
       "</table>\n",
       "<p>5 rows × 31 columns</p>\n",
       "</div>"
      ],
      "text/plain": [
       "          0         1         2         3         4         5         6  \\\n",
       "0  1.000000  0.003398  0.014844  0.040653  0.003736 -0.030116 -0.068980   \n",
       "1  0.003398  1.000000 -0.015704 -0.016865 -0.018942  0.007860  0.021531   \n",
       "2  0.014844 -0.015704  1.000000 -0.004661  0.016471  0.009584  0.002478   \n",
       "3  0.040653 -0.016865 -0.004661  1.000000 -0.022350 -0.012447 -0.003326   \n",
       "4  0.003736 -0.018942  0.016471 -0.022350  1.000000  0.007698 -0.020197   \n",
       "\n",
       "          7         8         9  ...        21        22        23        24  \\\n",
       "0 -0.009995 -0.020736 -0.028767  ... -0.026284  0.011251 -0.014718  0.040500   \n",
       "1 -0.010649 -0.010605  0.018028  ...  0.012620 -0.005308  0.022773 -0.014434   \n",
       "2  0.006501  0.007246  0.017844  ... -0.025357  0.024085  0.029386 -0.001027   \n",
       "3 -0.007109 -0.024410  0.013939  ...  0.008746 -0.035392 -0.008936 -0.013739   \n",
       "4  0.008767  0.004048 -0.019598  ...  0.033352 -0.016289 -0.028551  0.039381   \n",
       "\n",
       "         25        26        27        28        29         y  \n",
       "0  0.000471 -0.005976  0.013629  0.011788  0.014517  0.357786  \n",
       "1  0.007451 -0.000361 -0.002009  0.005700  0.001593  0.027547  \n",
       "2 -0.000620 -0.024635  0.010322 -0.018677  0.018156  0.020472  \n",
       "3  0.008452 -0.015007 -0.016738  0.027287 -0.028417  0.000103  \n",
       "4  0.026187 -0.033838 -0.010302 -0.012189 -0.005560 -0.001690  \n",
       "\n",
       "[5 rows x 31 columns]"
      ]
     },
     "execution_count": 7,
     "metadata": {},
     "output_type": "execute_result"
    }
   ],
   "source": [
    "df.corr().head()"
   ]
  },
  {
   "cell_type": "code",
   "execution_count": 8,
   "metadata": {},
   "outputs": [
    {
     "data": {
      "text/html": [
       "<div>\n",
       "<style scoped>\n",
       "    .dataframe tbody tr th:only-of-type {\n",
       "        vertical-align: middle;\n",
       "    }\n",
       "\n",
       "    .dataframe tbody tr th {\n",
       "        vertical-align: top;\n",
       "    }\n",
       "\n",
       "    .dataframe thead th {\n",
       "        text-align: right;\n",
       "    }\n",
       "</style>\n",
       "<table border=\"1\" class=\"dataframe\">\n",
       "  <thead>\n",
       "    <tr style=\"text-align: right;\">\n",
       "      <th></th>\n",
       "      <th>0</th>\n",
       "      <th>1</th>\n",
       "      <th>2</th>\n",
       "      <th>3</th>\n",
       "      <th>4</th>\n",
       "      <th>5</th>\n",
       "      <th>6</th>\n",
       "      <th>7</th>\n",
       "      <th>8</th>\n",
       "      <th>9</th>\n",
       "      <th>...</th>\n",
       "      <th>21</th>\n",
       "      <th>22</th>\n",
       "      <th>23</th>\n",
       "      <th>24</th>\n",
       "      <th>25</th>\n",
       "      <th>26</th>\n",
       "      <th>27</th>\n",
       "      <th>28</th>\n",
       "      <th>29</th>\n",
       "      <th>y</th>\n",
       "    </tr>\n",
       "  </thead>\n",
       "  <tbody>\n",
       "    <tr>\n",
       "      <th>0</th>\n",
       "      <td>-1.122915</td>\n",
       "      <td>-0.855483</td>\n",
       "      <td>-2.722454</td>\n",
       "      <td>0.472815</td>\n",
       "      <td>-1.607641</td>\n",
       "      <td>-1.149741</td>\n",
       "      <td>-0.475534</td>\n",
       "      <td>-1.052329</td>\n",
       "      <td>0.699212</td>\n",
       "      <td>0.123419</td>\n",
       "      <td>...</td>\n",
       "      <td>-0.281204</td>\n",
       "      <td>-0.696461</td>\n",
       "      <td>1.017957</td>\n",
       "      <td>0.433835</td>\n",
       "      <td>1.864200</td>\n",
       "      <td>-1.193376</td>\n",
       "      <td>0.324346</td>\n",
       "      <td>2.503172</td>\n",
       "      <td>0.166141</td>\n",
       "      <td>74.795775</td>\n",
       "    </tr>\n",
       "    <tr>\n",
       "      <th>1</th>\n",
       "      <td>0.868964</td>\n",
       "      <td>-0.524431</td>\n",
       "      <td>1.343759</td>\n",
       "      <td>1.481668</td>\n",
       "      <td>-1.101839</td>\n",
       "      <td>0.430129</td>\n",
       "      <td>-0.292506</td>\n",
       "      <td>-0.274653</td>\n",
       "      <td>0.135688</td>\n",
       "      <td>1.078584</td>\n",
       "      <td>...</td>\n",
       "      <td>1.268543</td>\n",
       "      <td>-0.437597</td>\n",
       "      <td>-0.169456</td>\n",
       "      <td>0.314847</td>\n",
       "      <td>0.565243</td>\n",
       "      <td>0.996399</td>\n",
       "      <td>-1.218362</td>\n",
       "      <td>2.204999</td>\n",
       "      <td>-0.065408</td>\n",
       "      <td>165.976185</td>\n",
       "    </tr>\n",
       "    <tr>\n",
       "      <th>2</th>\n",
       "      <td>-0.060038</td>\n",
       "      <td>1.704592</td>\n",
       "      <td>1.768169</td>\n",
       "      <td>-1.349773</td>\n",
       "      <td>-0.541007</td>\n",
       "      <td>-1.406943</td>\n",
       "      <td>1.399486</td>\n",
       "      <td>0.976041</td>\n",
       "      <td>-0.850613</td>\n",
       "      <td>-0.612983</td>\n",
       "      <td>...</td>\n",
       "      <td>0.687933</td>\n",
       "      <td>-0.686050</td>\n",
       "      <td>-1.036309</td>\n",
       "      <td>1.183987</td>\n",
       "      <td>-0.617212</td>\n",
       "      <td>-0.628654</td>\n",
       "      <td>-0.441849</td>\n",
       "      <td>-0.601944</td>\n",
       "      <td>0.319965</td>\n",
       "      <td>-64.426650</td>\n",
       "    </tr>\n",
       "    <tr>\n",
       "      <th>3</th>\n",
       "      <td>-0.045123</td>\n",
       "      <td>-1.353755</td>\n",
       "      <td>1.272715</td>\n",
       "      <td>-0.432295</td>\n",
       "      <td>-0.165081</td>\n",
       "      <td>-0.720970</td>\n",
       "      <td>-0.235274</td>\n",
       "      <td>-2.077120</td>\n",
       "      <td>-0.143660</td>\n",
       "      <td>0.084094</td>\n",
       "      <td>...</td>\n",
       "      <td>-0.114559</td>\n",
       "      <td>1.318197</td>\n",
       "      <td>-1.981964</td>\n",
       "      <td>-0.444807</td>\n",
       "      <td>-1.358175</td>\n",
       "      <td>2.145825</td>\n",
       "      <td>2.779964</td>\n",
       "      <td>-0.925890</td>\n",
       "      <td>-1.169481</td>\n",
       "      <td>-111.960160</td>\n",
       "    </tr>\n",
       "    <tr>\n",
       "      <th>4</th>\n",
       "      <td>-1.272082</td>\n",
       "      <td>-0.026956</td>\n",
       "      <td>-0.454822</td>\n",
       "      <td>-0.120222</td>\n",
       "      <td>0.820197</td>\n",
       "      <td>0.915287</td>\n",
       "      <td>-1.392371</td>\n",
       "      <td>1.712903</td>\n",
       "      <td>-0.395730</td>\n",
       "      <td>0.183239</td>\n",
       "      <td>...</td>\n",
       "      <td>0.232989</td>\n",
       "      <td>-0.760987</td>\n",
       "      <td>1.188119</td>\n",
       "      <td>0.464170</td>\n",
       "      <td>0.121779</td>\n",
       "      <td>1.224855</td>\n",
       "      <td>2.510743</td>\n",
       "      <td>-2.109059</td>\n",
       "      <td>-0.609223</td>\n",
       "      <td>122.453633</td>\n",
       "    </tr>\n",
       "  </tbody>\n",
       "</table>\n",
       "<p>5 rows × 31 columns</p>\n",
       "</div>"
      ],
      "text/plain": [
       "          0         1         2         3         4         5         6  \\\n",
       "0 -1.122915 -0.855483 -2.722454  0.472815 -1.607641 -1.149741 -0.475534   \n",
       "1  0.868964 -0.524431  1.343759  1.481668 -1.101839  0.430129 -0.292506   \n",
       "2 -0.060038  1.704592  1.768169 -1.349773 -0.541007 -1.406943  1.399486   \n",
       "3 -0.045123 -1.353755  1.272715 -0.432295 -0.165081 -0.720970 -0.235274   \n",
       "4 -1.272082 -0.026956 -0.454822 -0.120222  0.820197  0.915287 -1.392371   \n",
       "\n",
       "          7         8         9  ...        21        22        23        24  \\\n",
       "0 -1.052329  0.699212  0.123419  ... -0.281204 -0.696461  1.017957  0.433835   \n",
       "1 -0.274653  0.135688  1.078584  ...  1.268543 -0.437597 -0.169456  0.314847   \n",
       "2  0.976041 -0.850613 -0.612983  ...  0.687933 -0.686050 -1.036309  1.183987   \n",
       "3 -2.077120 -0.143660  0.084094  ... -0.114559  1.318197 -1.981964 -0.444807   \n",
       "4  1.712903 -0.395730  0.183239  ...  0.232989 -0.760987  1.188119  0.464170   \n",
       "\n",
       "         25        26        27        28        29           y  \n",
       "0  1.864200 -1.193376  0.324346  2.503172  0.166141   74.795775  \n",
       "1  0.565243  0.996399 -1.218362  2.204999 -0.065408  165.976185  \n",
       "2 -0.617212 -0.628654 -0.441849 -0.601944  0.319965  -64.426650  \n",
       "3 -1.358175  2.145825  2.779964 -0.925890 -1.169481 -111.960160  \n",
       "4  0.121779  1.224855  2.510743 -2.109059 -0.609223  122.453633  \n",
       "\n",
       "[5 rows x 31 columns]"
      ]
     },
     "execution_count": 8,
     "metadata": {},
     "output_type": "execute_result"
    }
   ],
   "source": [
    "df.head()"
   ]
  },
  {
   "cell_type": "code",
   "execution_count": 9,
   "metadata": {},
   "outputs": [
    {
     "data": {
      "text/plain": [
       "array([[1.        , 0.07590268],\n",
       "       [0.07590268, 1.        ]])"
      ]
     },
     "execution_count": 9,
     "metadata": {},
     "output_type": "execute_result"
    }
   ],
   "source": [
    "import numpy as np\n",
    "\n",
    "np.corrcoef(df['y'], df['y']**2)"
   ]
  },
  {
   "cell_type": "code",
   "execution_count": 10,
   "metadata": {},
   "outputs": [
    {
     "data": {
      "text/plain": [
       "<matplotlib.collections.PathCollection at 0x29f75e90788>"
      ]
     },
     "execution_count": 10,
     "metadata": {},
     "output_type": "execute_result"
    },
    {
     "data": {
      "image/png": "[encoded data removed]",
      "text/plain": [
       "<Figure size 432x288 with 1 Axes>"
      ]
     },
     "metadata": {
      "needs_background": "light"
     },
     "output_type": "display_data"
    }
   ],
   "source": [
    "plt.scatter(df['y'], df['y']**2)"
   ]
  },
  {
   "cell_type": "code",
   "execution_count": 11,
   "metadata": {},
   "outputs": [],
   "source": [
    "from sklearn.model_selection import train_test_split"
   ]
  },
  {
   "cell_type": "code",
   "execution_count": 12,
   "metadata": {},
   "outputs": [],
   "source": [
    "X_train, X_test, y_train, y_test = train_test_split(X, y, test_size=0.2, random_state=42)"
   ]
  },
  {
   "cell_type": "code",
   "execution_count": null,
   "metadata": {},
   "outputs": [],
   "source": []
  },
  {
   "cell_type": "code",
   "execution_count": 13,
   "metadata": {},
   "outputs": [],
   "source": [
    "from sklearn.tree import DecisionTreeRegressor"
   ]
  },
  {
   "cell_type": "code",
   "execution_count": 14,
   "metadata": {},
   "outputs": [],
   "source": [
    "model = DecisionTreeRegressor()"
   ]
  },
  {
   "cell_type": "code",
   "execution_count": null,
   "metadata": {},
   "outputs": [],
   "source": []
  },
  {
   "cell_type": "code",
   "execution_count": 15,
   "metadata": {},
   "outputs": [
    {
     "data": {
      "text/plain": [
       "DecisionTreeRegressor(ccp_alpha=0.0, criterion='mse', max_depth=None,\n",
       "                      max_features=None, max_leaf_nodes=None,\n",
       "                      min_impurity_decrease=0.0, min_impurity_split=None,\n",
       "                      min_samples_leaf=1, min_samples_split=2,\n",
       "                      min_weight_fraction_leaf=0.0, presort='deprecated',\n",
       "                      random_state=None, splitter='best')"
      ]
     },
     "execution_count": 15,
     "metadata": {},
     "output_type": "execute_result"
    }
   ],
   "source": [
    "model.fit(X_train, y_train)"
   ]
  },
  {
   "cell_type": "code",
   "execution_count": 16,
   "metadata": {},
   "outputs": [
    {
     "name": "stdout",
     "output_type": "stream",
     "text": [
      "Train score: 1.0\n"
     ]
    }
   ],
   "source": [
    "print('Train score:', model.score(X_train, y_train))"
   ]
  },
  {
   "cell_type": "code",
   "execution_count": 17,
   "metadata": {},
   "outputs": [
    {
     "name": "stdout",
     "output_type": "stream",
     "text": [
      "Test score: 0.49805248691156945\n"
     ]
    }
   ],
   "source": [
    "print('Test score:', model.score(X_test, y_test))"
   ]
  },
  {
   "cell_type": "markdown",
   "metadata": {},
   "source": [
    "**Overfit!**"
   ]
  },
  {
   "cell_type": "markdown",
   "metadata": {},
   "source": [
    "## Manual olarak ensembling\n",
    "### Ornek boosting algoritmasi"
   ]
  },
  {
   "cell_type": "code",
   "execution_count": 21,
   "metadata": {},
   "outputs": [
    {
     "data": {
      "text/plain": [
       "(1600, 30)"
      ]
     },
     "execution_count": 21,
     "metadata": {},
     "output_type": "execute_result"
    }
   ],
   "source": [
    "X_train.shape"
   ]
  },
  {
   "cell_type": "code",
   "execution_count": 22,
   "metadata": {},
   "outputs": [
    {
     "data": {
      "text/plain": [
       "(1600,)"
      ]
     },
     "execution_count": 22,
     "metadata": {},
     "output_type": "execute_result"
    }
   ],
   "source": [
    "y_train.shape"
   ]
  },
  {
   "cell_type": "code",
   "execution_count": 23,
   "metadata": {},
   "outputs": [
    {
     "data": {
      "text/html": [
       "<div>\n",
       "<style scoped>\n",
       "    .dataframe tbody tr th:only-of-type {\n",
       "        vertical-align: middle;\n",
       "    }\n",
       "\n",
       "    .dataframe tbody tr th {\n",
       "        vertical-align: top;\n",
       "    }\n",
       "\n",
       "    .dataframe thead th {\n",
       "        text-align: right;\n",
       "    }\n",
       "</style>\n",
       "<table border=\"1\" class=\"dataframe\">\n",
       "  <thead>\n",
       "    <tr style=\"text-align: right;\">\n",
       "      <th></th>\n",
       "      <th>0</th>\n",
       "      <th>1</th>\n",
       "      <th>2</th>\n",
       "      <th>3</th>\n",
       "      <th>4</th>\n",
       "      <th>5</th>\n",
       "      <th>6</th>\n",
       "      <th>7</th>\n",
       "      <th>8</th>\n",
       "      <th>9</th>\n",
       "      <th>...</th>\n",
       "      <th>20</th>\n",
       "      <th>21</th>\n",
       "      <th>22</th>\n",
       "      <th>23</th>\n",
       "      <th>24</th>\n",
       "      <th>25</th>\n",
       "      <th>26</th>\n",
       "      <th>27</th>\n",
       "      <th>28</th>\n",
       "      <th>29</th>\n",
       "    </tr>\n",
       "  </thead>\n",
       "  <tbody>\n",
       "    <tr>\n",
       "      <th>0</th>\n",
       "      <td>0.042263</td>\n",
       "      <td>-0.519674</td>\n",
       "      <td>-0.259687</td>\n",
       "      <td>0.097417</td>\n",
       "      <td>2.842594</td>\n",
       "      <td>-1.084968</td>\n",
       "      <td>-0.038261</td>\n",
       "      <td>0.444858</td>\n",
       "      <td>1.741384</td>\n",
       "      <td>-1.769510</td>\n",
       "      <td>...</td>\n",
       "      <td>0.373122</td>\n",
       "      <td>-1.628254</td>\n",
       "      <td>-0.651952</td>\n",
       "      <td>-1.478674</td>\n",
       "      <td>-1.212741</td>\n",
       "      <td>-0.100028</td>\n",
       "      <td>1.346673</td>\n",
       "      <td>-1.135597</td>\n",
       "      <td>0.165385</td>\n",
       "      <td>-0.832070</td>\n",
       "    </tr>\n",
       "    <tr>\n",
       "      <th>1</th>\n",
       "      <td>-0.363354</td>\n",
       "      <td>-1.062335</td>\n",
       "      <td>-1.228459</td>\n",
       "      <td>-1.627072</td>\n",
       "      <td>0.898527</td>\n",
       "      <td>0.735537</td>\n",
       "      <td>1.217913</td>\n",
       "      <td>2.426472</td>\n",
       "      <td>1.399271</td>\n",
       "      <td>0.798908</td>\n",
       "      <td>...</td>\n",
       "      <td>0.339725</td>\n",
       "      <td>-1.289145</td>\n",
       "      <td>-0.788882</td>\n",
       "      <td>0.332491</td>\n",
       "      <td>0.914811</td>\n",
       "      <td>-2.033451</td>\n",
       "      <td>1.577304</td>\n",
       "      <td>0.279408</td>\n",
       "      <td>-0.288347</td>\n",
       "      <td>0.474555</td>\n",
       "    </tr>\n",
       "    <tr>\n",
       "      <th>2</th>\n",
       "      <td>0.138225</td>\n",
       "      <td>-0.204151</td>\n",
       "      <td>0.953842</td>\n",
       "      <td>0.856925</td>\n",
       "      <td>-1.091847</td>\n",
       "      <td>0.025668</td>\n",
       "      <td>-0.089813</td>\n",
       "      <td>0.878567</td>\n",
       "      <td>-0.984050</td>\n",
       "      <td>-0.161368</td>\n",
       "      <td>...</td>\n",
       "      <td>-1.207013</td>\n",
       "      <td>1.013004</td>\n",
       "      <td>0.697324</td>\n",
       "      <td>-0.491414</td>\n",
       "      <td>-1.659967</td>\n",
       "      <td>-0.592575</td>\n",
       "      <td>1.136854</td>\n",
       "      <td>1.064612</td>\n",
       "      <td>0.833987</td>\n",
       "      <td>0.047827</td>\n",
       "    </tr>\n",
       "    <tr>\n",
       "      <th>3</th>\n",
       "      <td>1.310192</td>\n",
       "      <td>1.441945</td>\n",
       "      <td>0.489255</td>\n",
       "      <td>-0.345165</td>\n",
       "      <td>1.311693</td>\n",
       "      <td>-0.838893</td>\n",
       "      <td>-0.309650</td>\n",
       "      <td>0.055864</td>\n",
       "      <td>1.635066</td>\n",
       "      <td>0.158089</td>\n",
       "      <td>...</td>\n",
       "      <td>-2.837506</td>\n",
       "      <td>-0.008113</td>\n",
       "      <td>-0.613588</td>\n",
       "      <td>-0.016610</td>\n",
       "      <td>1.291274</td>\n",
       "      <td>0.196241</td>\n",
       "      <td>1.146028</td>\n",
       "      <td>0.067839</td>\n",
       "      <td>-0.215961</td>\n",
       "      <td>0.686354</td>\n",
       "    </tr>\n",
       "    <tr>\n",
       "      <th>4</th>\n",
       "      <td>-0.392013</td>\n",
       "      <td>-1.522359</td>\n",
       "      <td>0.143388</td>\n",
       "      <td>-0.369277</td>\n",
       "      <td>-1.365956</td>\n",
       "      <td>0.408653</td>\n",
       "      <td>1.533728</td>\n",
       "      <td>-0.629263</td>\n",
       "      <td>0.683569</td>\n",
       "      <td>1.097153</td>\n",
       "      <td>...</td>\n",
       "      <td>-1.707358</td>\n",
       "      <td>-2.153343</td>\n",
       "      <td>0.698828</td>\n",
       "      <td>-1.116524</td>\n",
       "      <td>-0.862776</td>\n",
       "      <td>0.420973</td>\n",
       "      <td>-0.535801</td>\n",
       "      <td>-1.029372</td>\n",
       "      <td>1.059936</td>\n",
       "      <td>-1.776235</td>\n",
       "    </tr>\n",
       "    <tr>\n",
       "      <th>...</th>\n",
       "      <td>...</td>\n",
       "      <td>...</td>\n",
       "      <td>...</td>\n",
       "      <td>...</td>\n",
       "      <td>...</td>\n",
       "      <td>...</td>\n",
       "      <td>...</td>\n",
       "      <td>...</td>\n",
       "      <td>...</td>\n",
       "      <td>...</td>\n",
       "      <td>...</td>\n",
       "      <td>...</td>\n",
       "      <td>...</td>\n",
       "      <td>...</td>\n",
       "      <td>...</td>\n",
       "      <td>...</td>\n",
       "      <td>...</td>\n",
       "      <td>...</td>\n",
       "      <td>...</td>\n",
       "      <td>...</td>\n",
       "      <td>...</td>\n",
       "    </tr>\n",
       "    <tr>\n",
       "      <th>1595</th>\n",
       "      <td>-0.460874</td>\n",
       "      <td>0.602863</td>\n",
       "      <td>-1.373729</td>\n",
       "      <td>-2.059804</td>\n",
       "      <td>-1.502612</td>\n",
       "      <td>0.210512</td>\n",
       "      <td>0.699871</td>\n",
       "      <td>1.722232</td>\n",
       "      <td>-0.084065</td>\n",
       "      <td>0.953008</td>\n",
       "      <td>...</td>\n",
       "      <td>0.566588</td>\n",
       "      <td>0.889190</td>\n",
       "      <td>-0.123825</td>\n",
       "      <td>-0.399035</td>\n",
       "      <td>-0.335791</td>\n",
       "      <td>-0.922673</td>\n",
       "      <td>0.222105</td>\n",
       "      <td>0.788020</td>\n",
       "      <td>-1.364735</td>\n",
       "      <td>-0.700611</td>\n",
       "    </tr>\n",
       "    <tr>\n",
       "      <th>1596</th>\n",
       "      <td>0.004098</td>\n",
       "      <td>0.600884</td>\n",
       "      <td>1.037640</td>\n",
       "      <td>-0.312659</td>\n",
       "      <td>1.096547</td>\n",
       "      <td>-1.175133</td>\n",
       "      <td>-0.015959</td>\n",
       "      <td>-0.990828</td>\n",
       "      <td>-1.215361</td>\n",
       "      <td>-0.684058</td>\n",
       "      <td>...</td>\n",
       "      <td>-2.103050</td>\n",
       "      <td>0.317543</td>\n",
       "      <td>0.937448</td>\n",
       "      <td>-1.273489</td>\n",
       "      <td>-0.736428</td>\n",
       "      <td>-0.275948</td>\n",
       "      <td>0.806477</td>\n",
       "      <td>-0.293607</td>\n",
       "      <td>0.157771</td>\n",
       "      <td>-2.496798</td>\n",
       "    </tr>\n",
       "    <tr>\n",
       "      <th>1597</th>\n",
       "      <td>-0.239848</td>\n",
       "      <td>-0.049535</td>\n",
       "      <td>-0.142216</td>\n",
       "      <td>0.250284</td>\n",
       "      <td>0.718381</td>\n",
       "      <td>0.148041</td>\n",
       "      <td>-0.258399</td>\n",
       "      <td>-0.529286</td>\n",
       "      <td>1.074462</td>\n",
       "      <td>1.183143</td>\n",
       "      <td>...</td>\n",
       "      <td>-0.160022</td>\n",
       "      <td>0.999101</td>\n",
       "      <td>-0.100766</td>\n",
       "      <td>0.273241</td>\n",
       "      <td>-0.597246</td>\n",
       "      <td>1.272603</td>\n",
       "      <td>1.859715</td>\n",
       "      <td>-0.416154</td>\n",
       "      <td>-0.642971</td>\n",
       "      <td>-0.300029</td>\n",
       "    </tr>\n",
       "    <tr>\n",
       "      <th>1598</th>\n",
       "      <td>-0.141137</td>\n",
       "      <td>2.540992</td>\n",
       "      <td>-1.188291</td>\n",
       "      <td>-0.266956</td>\n",
       "      <td>-1.478855</td>\n",
       "      <td>0.460467</td>\n",
       "      <td>-1.400466</td>\n",
       "      <td>-1.817741</td>\n",
       "      <td>0.064956</td>\n",
       "      <td>0.178053</td>\n",
       "      <td>...</td>\n",
       "      <td>0.100666</td>\n",
       "      <td>-0.932904</td>\n",
       "      <td>1.765707</td>\n",
       "      <td>-0.587443</td>\n",
       "      <td>-0.340250</td>\n",
       "      <td>-0.580478</td>\n",
       "      <td>0.225904</td>\n",
       "      <td>-1.531903</td>\n",
       "      <td>1.799587</td>\n",
       "      <td>-0.071740</td>\n",
       "    </tr>\n",
       "    <tr>\n",
       "      <th>1599</th>\n",
       "      <td>1.783923</td>\n",
       "      <td>-1.567988</td>\n",
       "      <td>0.331918</td>\n",
       "      <td>0.811706</td>\n",
       "      <td>-0.680494</td>\n",
       "      <td>-1.027924</td>\n",
       "      <td>-0.922189</td>\n",
       "      <td>-1.001315</td>\n",
       "      <td>0.147298</td>\n",
       "      <td>1.197168</td>\n",
       "      <td>...</td>\n",
       "      <td>0.518219</td>\n",
       "      <td>-0.499139</td>\n",
       "      <td>0.568273</td>\n",
       "      <td>-0.506189</td>\n",
       "      <td>-0.223473</td>\n",
       "      <td>1.086381</td>\n",
       "      <td>-0.954618</td>\n",
       "      <td>-1.710603</td>\n",
       "      <td>1.681492</td>\n",
       "      <td>2.935406</td>\n",
       "    </tr>\n",
       "  </tbody>\n",
       "</table>\n",
       "<p>1600 rows × 30 columns</p>\n",
       "</div>"
      ],
      "text/plain": [
       "            0         1         2         3         4         5         6   \\\n",
       "0     0.042263 -0.519674 -0.259687  0.097417  2.842594 -1.084968 -0.038261   \n",
       "1    -0.363354 -1.062335 -1.228459 -1.627072  0.898527  0.735537  1.217913   \n",
       "2     0.138225 -0.204151  0.953842  0.856925 -1.091847  0.025668 -0.089813   \n",
       "3     1.310192  1.441945  0.489255 -0.345165  1.311693 -0.838893 -0.309650   \n",
       "4    -0.392013 -1.522359  0.143388 -0.369277 -1.365956  0.408653  1.533728   \n",
       "...        ...       ...       ...       ...       ...       ...       ...   \n",
       "1595 -0.460874  0.602863 -1.373729 -2.059804 -1.502612  0.210512  0.699871   \n",
       "1596  0.004098  0.600884  1.037640 -0.312659  1.096547 -1.175133 -0.015959   \n",
       "1597 -0.239848 -0.049535 -0.142216  0.250284  0.718381  0.148041 -0.258399   \n",
       "1598 -0.141137  2.540992 -1.188291 -0.266956 -1.478855  0.460467 -1.400466   \n",
       "1599  1.783923 -1.567988  0.331918  0.811706 -0.680494 -1.027924 -0.922189   \n",
       "\n",
       "            7         8         9   ...        20        21        22  \\\n",
       "0     0.444858  1.741384 -1.769510  ...  0.373122 -1.628254 -0.651952   \n",
       "1     2.426472  1.399271  0.798908  ...  0.339725 -1.289145 -0.788882   \n",
       "2     0.878567 -0.984050 -0.161368  ... -1.207013  1.013004  0.697324   \n",
       "3     0.055864  1.635066  0.158089  ... -2.837506 -0.008113 -0.613588   \n",
       "4    -0.629263  0.683569  1.097153  ... -1.707358 -2.153343  0.698828   \n",
       "...        ...       ...       ...  ...       ...       ...       ...   \n",
       "1595  1.722232 -0.084065  0.953008  ...  0.566588  0.889190 -0.123825   \n",
       "1596 -0.990828 -1.215361 -0.684058  ... -2.103050  0.317543  0.937448   \n",
       "1597 -0.529286  1.074462  1.183143  ... -0.160022  0.999101 -0.100766   \n",
       "1598 -1.817741  0.064956  0.178053  ...  0.100666 -0.932904  1.765707   \n",
       "1599 -1.001315  0.147298  1.197168  ...  0.518219 -0.499139  0.568273   \n",
       "\n",
       "            23        24        25        26        27        28        29  \n",
       "0    -1.478674 -1.212741 -0.100028  1.346673 -1.135597  0.165385 -0.832070  \n",
       "1     0.332491  0.914811 -2.033451  1.577304  0.279408 -0.288347  0.474555  \n",
       "2    -0.491414 -1.659967 -0.592575  1.136854  1.064612  0.833987  0.047827  \n",
       "3    -0.016610  1.291274  0.196241  1.146028  0.067839 -0.215961  0.686354  \n",
       "4    -1.116524 -0.862776  0.420973 -0.535801 -1.029372  1.059936 -1.776235  \n",
       "...        ...       ...       ...       ...       ...       ...       ...  \n",
       "1595 -0.399035 -0.335791 -0.922673  0.222105  0.788020 -1.364735 -0.700611  \n",
       "1596 -1.273489 -0.736428 -0.275948  0.806477 -0.293607  0.157771 -2.496798  \n",
       "1597  0.273241 -0.597246  1.272603  1.859715 -0.416154 -0.642971 -0.300029  \n",
       "1598 -0.587443 -0.340250 -0.580478  0.225904 -1.531903  1.799587 -0.071740  \n",
       "1599 -0.506189 -0.223473  1.086381 -0.954618 -1.710603  1.681492  2.935406  \n",
       "\n",
       "[1600 rows x 30 columns]"
      ]
     },
     "execution_count": 23,
     "metadata": {},
     "output_type": "execute_result"
    }
   ],
   "source": [
    "pd.DataFrame(X_train)"
   ]
  },
  {
   "cell_type": "code",
   "execution_count": null,
   "metadata": {},
   "outputs": [],
   "source": []
  },
  {
   "cell_type": "markdown",
   "metadata": {},
   "source": [
    "Random Forest'da bir agac icin ornek data olusturma:"
   ]
  },
  {
   "cell_type": "markdown",
   "metadata": {},
   "source": [
    "1. Bootstrapping: Tekrarli bir sekilde satirlari ornekleme"
   ]
  },
  {
   "cell_type": "code",
   "execution_count": 24,
   "metadata": {},
   "outputs": [
    {
     "data": {
      "text/plain": [
       "(2000, 31)"
      ]
     },
     "execution_count": 24,
     "metadata": {},
     "output_type": "execute_result"
    }
   ],
   "source": [
    "df.shape"
   ]
  },
  {
   "cell_type": "code",
   "execution_count": 25,
   "metadata": {},
   "outputs": [],
   "source": [
    "df_sample = df.sample(2000, replace=True)"
   ]
  },
  {
   "cell_type": "code",
   "execution_count": 26,
   "metadata": {},
   "outputs": [
    {
     "data": {
      "text/plain": [
       "(2000, 31)"
      ]
     },
     "execution_count": 26,
     "metadata": {},
     "output_type": "execute_result"
    }
   ],
   "source": [
    "df_sample.shape"
   ]
  },
  {
   "cell_type": "code",
   "execution_count": 27,
   "metadata": {},
   "outputs": [
    {
     "data": {
      "text/plain": [
       "(1253, 31)"
      ]
     },
     "execution_count": 27,
     "metadata": {},
     "output_type": "execute_result"
    }
   ],
   "source": [
    "df_sample.drop_duplicates().shape"
   ]
  },
  {
   "cell_type": "markdown",
   "metadata": {},
   "source": [
    "2. Rastgele kolonlar secme"
   ]
  },
  {
   "cell_type": "code",
   "execution_count": 33,
   "metadata": {},
   "outputs": [
    {
     "data": {
      "text/plain": [
       "[8, 1, 17, 7, 12, 2, 28, 5, 25, 29, 9, 24, 20, 27, 26]"
      ]
     },
     "execution_count": 33,
     "metadata": {},
     "output_type": "execute_result"
    }
   ],
   "source": [
    "np.random.choice(range(30), replace=False, size=15).tolist()"
   ]
  },
  {
   "cell_type": "code",
   "execution_count": null,
   "metadata": {},
   "outputs": [],
   "source": []
  },
  {
   "cell_type": "code",
   "execution_count": 29,
   "metadata": {},
   "outputs": [
    {
     "data": {
      "text/html": [
       "<div>\n",
       "<style scoped>\n",
       "    .dataframe tbody tr th:only-of-type {\n",
       "        vertical-align: middle;\n",
       "    }\n",
       "\n",
       "    .dataframe tbody tr th {\n",
       "        vertical-align: top;\n",
       "    }\n",
       "\n",
       "    .dataframe thead th {\n",
       "        text-align: right;\n",
       "    }\n",
       "</style>\n",
       "<table border=\"1\" class=\"dataframe\">\n",
       "  <thead>\n",
       "    <tr style=\"text-align: right;\">\n",
       "      <th></th>\n",
       "      <th>15</th>\n",
       "      <th>8</th>\n",
       "      <th>24</th>\n",
       "      <th>10</th>\n",
       "      <th>28</th>\n",
       "      <th>0</th>\n",
       "      <th>1</th>\n",
       "      <th>26</th>\n",
       "      <th>14</th>\n",
       "      <th>25</th>\n",
       "      <th>11</th>\n",
       "      <th>17</th>\n",
       "      <th>18</th>\n",
       "      <th>4</th>\n",
       "      <th>3</th>\n",
       "      <th>y</th>\n",
       "    </tr>\n",
       "  </thead>\n",
       "  <tbody>\n",
       "    <tr>\n",
       "      <th>1452</th>\n",
       "      <td>-1.625628</td>\n",
       "      <td>1.059427</td>\n",
       "      <td>-0.343927</td>\n",
       "      <td>1.066755</td>\n",
       "      <td>1.154957</td>\n",
       "      <td>0.690700</td>\n",
       "      <td>-1.682050</td>\n",
       "      <td>-0.603865</td>\n",
       "      <td>1.939086</td>\n",
       "      <td>-0.376745</td>\n",
       "      <td>-2.675054</td>\n",
       "      <td>-0.363701</td>\n",
       "      <td>0.269567</td>\n",
       "      <td>-0.849390</td>\n",
       "      <td>0.222803</td>\n",
       "      <td>113.325417</td>\n",
       "    </tr>\n",
       "    <tr>\n",
       "      <th>1407</th>\n",
       "      <td>-0.457302</td>\n",
       "      <td>-0.042823</td>\n",
       "      <td>-0.202981</td>\n",
       "      <td>-1.319247</td>\n",
       "      <td>1.237438</td>\n",
       "      <td>-0.063525</td>\n",
       "      <td>-0.635362</td>\n",
       "      <td>-0.604745</td>\n",
       "      <td>-0.800039</td>\n",
       "      <td>0.389159</td>\n",
       "      <td>-1.189667</td>\n",
       "      <td>-2.246889</td>\n",
       "      <td>1.274875</td>\n",
       "      <td>0.058023</td>\n",
       "      <td>-0.606700</td>\n",
       "      <td>-53.132758</td>\n",
       "    </tr>\n",
       "    <tr>\n",
       "      <th>785</th>\n",
       "      <td>1.399407</td>\n",
       "      <td>-0.860643</td>\n",
       "      <td>-0.684690</td>\n",
       "      <td>-1.165786</td>\n",
       "      <td>-1.420521</td>\n",
       "      <td>0.660106</td>\n",
       "      <td>1.103550</td>\n",
       "      <td>-0.237978</td>\n",
       "      <td>0.850261</td>\n",
       "      <td>-0.503844</td>\n",
       "      <td>-1.263231</td>\n",
       "      <td>-0.418378</td>\n",
       "      <td>-2.208500</td>\n",
       "      <td>0.358308</td>\n",
       "      <td>0.167534</td>\n",
       "      <td>-60.650145</td>\n",
       "    </tr>\n",
       "    <tr>\n",
       "      <th>16</th>\n",
       "      <td>-1.845005</td>\n",
       "      <td>0.985289</td>\n",
       "      <td>1.446910</td>\n",
       "      <td>-0.918727</td>\n",
       "      <td>0.803948</td>\n",
       "      <td>-1.213030</td>\n",
       "      <td>0.937014</td>\n",
       "      <td>-0.304491</td>\n",
       "      <td>1.139629</td>\n",
       "      <td>0.083893</td>\n",
       "      <td>-1.091881</td>\n",
       "      <td>-1.929510</td>\n",
       "      <td>0.912659</td>\n",
       "      <td>-0.696350</td>\n",
       "      <td>-1.198704</td>\n",
       "      <td>-25.729482</td>\n",
       "    </tr>\n",
       "    <tr>\n",
       "      <th>1413</th>\n",
       "      <td>1.552723</td>\n",
       "      <td>0.941972</td>\n",
       "      <td>0.835539</td>\n",
       "      <td>-0.008219</td>\n",
       "      <td>1.613158</td>\n",
       "      <td>-0.098336</td>\n",
       "      <td>-1.314054</td>\n",
       "      <td>-0.593954</td>\n",
       "      <td>-0.582514</td>\n",
       "      <td>-0.673647</td>\n",
       "      <td>-0.545505</td>\n",
       "      <td>0.370638</td>\n",
       "      <td>-0.064773</td>\n",
       "      <td>0.202418</td>\n",
       "      <td>-0.166927</td>\n",
       "      <td>-317.605549</td>\n",
       "    </tr>\n",
       "    <tr>\n",
       "      <th>...</th>\n",
       "      <td>...</td>\n",
       "      <td>...</td>\n",
       "      <td>...</td>\n",
       "      <td>...</td>\n",
       "      <td>...</td>\n",
       "      <td>...</td>\n",
       "      <td>...</td>\n",
       "      <td>...</td>\n",
       "      <td>...</td>\n",
       "      <td>...</td>\n",
       "      <td>...</td>\n",
       "      <td>...</td>\n",
       "      <td>...</td>\n",
       "      <td>...</td>\n",
       "      <td>...</td>\n",
       "      <td>...</td>\n",
       "    </tr>\n",
       "    <tr>\n",
       "      <th>349</th>\n",
       "      <td>0.142049</td>\n",
       "      <td>0.161221</td>\n",
       "      <td>-0.099186</td>\n",
       "      <td>0.896424</td>\n",
       "      <td>-0.181576</td>\n",
       "      <td>-0.106327</td>\n",
       "      <td>-0.264799</td>\n",
       "      <td>0.531687</td>\n",
       "      <td>0.150998</td>\n",
       "      <td>0.865923</td>\n",
       "      <td>0.602586</td>\n",
       "      <td>1.176540</td>\n",
       "      <td>-0.797647</td>\n",
       "      <td>1.263531</td>\n",
       "      <td>1.507042</td>\n",
       "      <td>60.219058</td>\n",
       "    </tr>\n",
       "    <tr>\n",
       "      <th>1523</th>\n",
       "      <td>0.337506</td>\n",
       "      <td>0.979465</td>\n",
       "      <td>-1.181936</td>\n",
       "      <td>0.982176</td>\n",
       "      <td>-0.118161</td>\n",
       "      <td>0.524399</td>\n",
       "      <td>1.358448</td>\n",
       "      <td>0.327446</td>\n",
       "      <td>-0.713770</td>\n",
       "      <td>-0.163094</td>\n",
       "      <td>0.530336</td>\n",
       "      <td>0.011844</td>\n",
       "      <td>1.959692</td>\n",
       "      <td>0.824028</td>\n",
       "      <td>-0.920823</td>\n",
       "      <td>273.782462</td>\n",
       "    </tr>\n",
       "    <tr>\n",
       "      <th>238</th>\n",
       "      <td>1.145464</td>\n",
       "      <td>-0.420683</td>\n",
       "      <td>0.461749</td>\n",
       "      <td>0.024759</td>\n",
       "      <td>0.360974</td>\n",
       "      <td>0.261893</td>\n",
       "      <td>1.005577</td>\n",
       "      <td>-0.529038</td>\n",
       "      <td>-0.487099</td>\n",
       "      <td>-1.259010</td>\n",
       "      <td>-0.042462</td>\n",
       "      <td>1.687502</td>\n",
       "      <td>0.103397</td>\n",
       "      <td>-1.139256</td>\n",
       "      <td>-1.763124</td>\n",
       "      <td>-99.353909</td>\n",
       "    </tr>\n",
       "    <tr>\n",
       "      <th>616</th>\n",
       "      <td>-0.747171</td>\n",
       "      <td>-1.004116</td>\n",
       "      <td>-1.052739</td>\n",
       "      <td>-1.091955</td>\n",
       "      <td>-0.182544</td>\n",
       "      <td>0.977614</td>\n",
       "      <td>1.281980</td>\n",
       "      <td>0.070274</td>\n",
       "      <td>-1.092113</td>\n",
       "      <td>-1.016937</td>\n",
       "      <td>-1.358740</td>\n",
       "      <td>-1.436566</td>\n",
       "      <td>0.859991</td>\n",
       "      <td>-1.344333</td>\n",
       "      <td>-0.434622</td>\n",
       "      <td>-313.084114</td>\n",
       "    </tr>\n",
       "    <tr>\n",
       "      <th>880</th>\n",
       "      <td>0.478504</td>\n",
       "      <td>0.544257</td>\n",
       "      <td>-0.072562</td>\n",
       "      <td>1.469591</td>\n",
       "      <td>1.668311</td>\n",
       "      <td>-1.998622</td>\n",
       "      <td>-0.742532</td>\n",
       "      <td>-1.704948</td>\n",
       "      <td>-1.397489</td>\n",
       "      <td>0.950316</td>\n",
       "      <td>-0.552017</td>\n",
       "      <td>-0.358601</td>\n",
       "      <td>0.497328</td>\n",
       "      <td>1.489648</td>\n",
       "      <td>-0.236070</td>\n",
       "      <td>252.340032</td>\n",
       "    </tr>\n",
       "  </tbody>\n",
       "</table>\n",
       "<p>2000 rows × 16 columns</p>\n",
       "</div>"
      ],
      "text/plain": [
       "            15         8        24        10        28         0         1  \\\n",
       "1452 -1.625628  1.059427 -0.343927  1.066755  1.154957  0.690700 -1.682050   \n",
       "1407 -0.457302 -0.042823 -0.202981 -1.319247  1.237438 -0.063525 -0.635362   \n",
       "785   1.399407 -0.860643 -0.684690 -1.165786 -1.420521  0.660106  1.103550   \n",
       "16   -1.845005  0.985289  1.446910 -0.918727  0.803948 -1.213030  0.937014   \n",
       "1413  1.552723  0.941972  0.835539 -0.008219  1.613158 -0.098336 -1.314054   \n",
       "...        ...       ...       ...       ...       ...       ...       ...   \n",
       "349   0.142049  0.161221 -0.099186  0.896424 -0.181576 -0.106327 -0.264799   \n",
       "1523  0.337506  0.979465 -1.181936  0.982176 -0.118161  0.524399  1.358448   \n",
       "238   1.145464 -0.420683  0.461749  0.024759  0.360974  0.261893  1.005577   \n",
       "616  -0.747171 -1.004116 -1.052739 -1.091955 -0.182544  0.977614  1.281980   \n",
       "880   0.478504  0.544257 -0.072562  1.469591  1.668311 -1.998622 -0.742532   \n",
       "\n",
       "            26        14        25        11        17        18         4  \\\n",
       "1452 -0.603865  1.939086 -0.376745 -2.675054 -0.363701  0.269567 -0.849390   \n",
       "1407 -0.604745 -0.800039  0.389159 -1.189667 -2.246889  1.274875  0.058023   \n",
       "785  -0.237978  0.850261 -0.503844 -1.263231 -0.418378 -2.208500  0.358308   \n",
       "16   -0.304491  1.139629  0.083893 -1.091881 -1.929510  0.912659 -0.696350   \n",
       "1413 -0.593954 -0.582514 -0.673647 -0.545505  0.370638 -0.064773  0.202418   \n",
       "...        ...       ...       ...       ...       ...       ...       ...   \n",
       "349   0.531687  0.150998  0.865923  0.602586  1.176540 -0.797647  1.263531   \n",
       "1523  0.327446 -0.713770 -0.163094  0.530336  0.011844  1.959692  0.824028   \n",
       "238  -0.529038 -0.487099 -1.259010 -0.042462  1.687502  0.103397 -1.139256   \n",
       "616   0.070274 -1.092113 -1.016937 -1.358740 -1.436566  0.859991 -1.344333   \n",
       "880  -1.704948 -1.397489  0.950316 -0.552017 -0.358601  0.497328  1.489648   \n",
       "\n",
       "             3           y  \n",
       "1452  0.222803  113.325417  \n",
       "1407 -0.606700  -53.132758  \n",
       "785   0.167534  -60.650145  \n",
       "16   -1.198704  -25.729482  \n",
       "1413 -0.166927 -317.605549  \n",
       "...        ...         ...  \n",
       "349   1.507042   60.219058  \n",
       "1523 -0.920823  273.782462  \n",
       "238  -1.763124  -99.353909  \n",
       "616  -0.434622 -313.084114  \n",
       "880  -0.236070  252.340032  \n",
       "\n",
       "[2000 rows x 16 columns]"
      ]
     },
     "execution_count": 29,
     "metadata": {},
     "output_type": "execute_result"
    }
   ],
   "source": [
    "df_sample[np.random.choice(range(30), replace=False, size=15).tolist() + ['y']]"
   ]
  },
  {
   "cell_type": "code",
   "execution_count": 30,
   "metadata": {},
   "outputs": [
    {
     "data": {
      "text/plain": [
       "DecisionTreeRegressor(ccp_alpha=0.0, criterion='mse', max_depth=None,\n",
       "                      max_features=None, max_leaf_nodes=None,\n",
       "                      min_impurity_decrease=0.0, min_impurity_split=None,\n",
       "                      min_samples_leaf=1, min_samples_split=2,\n",
       "                      min_weight_fraction_leaf=0.0, presort='deprecated',\n",
       "                      random_state=None, splitter='best')"
      ]
     },
     "execution_count": 30,
     "metadata": {},
     "output_type": "execute_result"
    }
   ],
   "source": [
    "karar1 = DecisionTreeRegressor()\n",
    "\n",
    "karar1.fit(df_sample.drop('y',1), df_sample['y'])"
   ]
  },
  {
   "cell_type": "code",
   "execution_count": 31,
   "metadata": {},
   "outputs": [],
   "source": [
    "features = []\n",
    "trees = []\n",
    "\n",
    "n_estimators = 40\n",
    "\n",
    "for i in range(n_estimators):\n",
    "    # 1. Ornekleme (Bootstrapping)\n",
    "    df_sample = df.sample(2000, replace=True)\n",
    "    \n",
    "    # 2. Rastgele kolon secme\n",
    "    sample_columns = np.random.choice(range(30), replace=False, size=15).tolist()\n",
    "    \n",
    "    features.append(sample_columns)\n",
    "    \n",
    "    # 3. Agac olusturma\n",
    "    tree = DecisionTreeRegressor()\n",
    "    \n",
    "    # 4. Agaci uydur\n",
    "    tree.fit(df_sample[sample_columns], df_sample['y'])\n",
    "    trees.append(tree)\n",
    "    \n",
    "    # 5. n_estimators kadar tekrar et"
   ]
  },
  {
   "cell_type": "code",
   "execution_count": 44,
   "metadata": {},
   "outputs": [
    {
     "data": {
      "text/html": [
       "<div>\n",
       "<style scoped>\n",
       "    .dataframe tbody tr th:only-of-type {\n",
       "        vertical-align: middle;\n",
       "    }\n",
       "\n",
       "    .dataframe tbody tr th {\n",
       "        vertical-align: top;\n",
       "    }\n",
       "\n",
       "    .dataframe thead th {\n",
       "        text-align: right;\n",
       "    }\n",
       "</style>\n",
       "<table border=\"1\" class=\"dataframe\">\n",
       "  <thead>\n",
       "    <tr style=\"text-align: right;\">\n",
       "      <th></th>\n",
       "      <th>0</th>\n",
       "      <th>1</th>\n",
       "      <th>2</th>\n",
       "      <th>3</th>\n",
       "      <th>4</th>\n",
       "      <th>5</th>\n",
       "      <th>6</th>\n",
       "      <th>7</th>\n",
       "      <th>8</th>\n",
       "      <th>9</th>\n",
       "      <th>...</th>\n",
       "      <th>20</th>\n",
       "      <th>21</th>\n",
       "      <th>22</th>\n",
       "      <th>23</th>\n",
       "      <th>24</th>\n",
       "      <th>25</th>\n",
       "      <th>26</th>\n",
       "      <th>27</th>\n",
       "      <th>28</th>\n",
       "      <th>29</th>\n",
       "    </tr>\n",
       "  </thead>\n",
       "  <tbody>\n",
       "    <tr>\n",
       "      <th>4</th>\n",
       "      <td>-1.272082</td>\n",
       "      <td>-0.026956</td>\n",
       "      <td>-0.454822</td>\n",
       "      <td>-0.120222</td>\n",
       "      <td>0.820197</td>\n",
       "      <td>0.915287</td>\n",
       "      <td>-1.392371</td>\n",
       "      <td>1.712903</td>\n",
       "      <td>-0.39573</td>\n",
       "      <td>0.183239</td>\n",
       "      <td>...</td>\n",
       "      <td>0.769682</td>\n",
       "      <td>0.232989</td>\n",
       "      <td>-0.760987</td>\n",
       "      <td>1.188119</td>\n",
       "      <td>0.46417</td>\n",
       "      <td>0.121779</td>\n",
       "      <td>1.224855</td>\n",
       "      <td>2.510743</td>\n",
       "      <td>-2.109059</td>\n",
       "      <td>-0.609223</td>\n",
       "    </tr>\n",
       "  </tbody>\n",
       "</table>\n",
       "<p>1 rows × 30 columns</p>\n",
       "</div>"
      ],
      "text/plain": [
       "         0         1         2         3         4         5         6   \\\n",
       "4 -1.272082 -0.026956 -0.454822 -0.120222  0.820197  0.915287 -1.392371   \n",
       "\n",
       "         7        8         9   ...        20        21        22        23  \\\n",
       "4  1.712903 -0.39573  0.183239  ...  0.769682  0.232989 -0.760987  1.188119   \n",
       "\n",
       "        24        25        26        27        28        29  \n",
       "4  0.46417  0.121779  1.224855  2.510743 -2.109059 -0.609223  \n",
       "\n",
       "[1 rows x 30 columns]"
      ]
     },
     "execution_count": 44,
     "metadata": {},
     "output_type": "execute_result"
    }
   ],
   "source": [
    "yeni_data = df.iloc[4:5, :-1]\n",
    "yeni_data"
   ]
  },
  {
   "cell_type": "code",
   "execution_count": 45,
   "metadata": {},
   "outputs": [],
   "source": [
    "predictions = []\n",
    "for i in range(len(trees)):\n",
    "    prediction = trees[i].predict(yeni_data[features[i]])\n",
    "    predictions.append(prediction)"
   ]
  },
  {
   "cell_type": "code",
   "execution_count": 46,
   "metadata": {},
   "outputs": [
    {
     "data": {
      "text/plain": [
       "[array([81.45946101]),\n",
       " array([122.45363297]),\n",
       " array([-117.11300603]),\n",
       " array([129.34780169]),\n",
       " array([122.45363297]),\n",
       " array([122.45363297]),\n",
       " array([-174.69934632]),\n",
       " array([122.45363297]),\n",
       " array([-151.33222298]),\n",
       " array([122.45363297]),\n",
       " array([17.45266932]),\n",
       " array([122.45363297]),\n",
       " array([122.45363297]),\n",
       " array([122.45363297]),\n",
       " array([33.57439872]),\n",
       " array([122.45363297]),\n",
       " array([86.95321451]),\n",
       " array([122.45363297]),\n",
       " array([145.15561178]),\n",
       " array([-275.01225343])]"
      ]
     },
     "execution_count": 46,
     "metadata": {},
     "output_type": "execute_result"
    }
   ],
   "source": [
    "predictions[:20]"
   ]
  },
  {
   "cell_type": "code",
   "execution_count": 47,
   "metadata": {},
   "outputs": [
    {
     "data": {
      "text/plain": [
       "65.07862909037783"
      ]
     },
     "execution_count": 47,
     "metadata": {},
     "output_type": "execute_result"
    }
   ],
   "source": [
    "np.mean(predictions)"
   ]
  },
  {
   "cell_type": "code",
   "execution_count": 48,
   "metadata": {},
   "outputs": [
    {
     "data": {
      "text/plain": [
       "4    122.453633\n",
       "Name: y, dtype: float64"
      ]
     },
     "execution_count": 48,
     "metadata": {},
     "output_type": "execute_result"
    }
   ],
   "source": [
    "df.iloc[4:5, -1]"
   ]
  },
  {
   "cell_type": "code",
   "execution_count": 49,
   "metadata": {},
   "outputs": [
    {
     "data": {
      "text/plain": [
       "40"
      ]
     },
     "execution_count": 49,
     "metadata": {},
     "output_type": "execute_result"
    }
   ],
   "source": [
    "len(trees)"
   ]
  },
  {
   "cell_type": "code",
   "execution_count": 50,
   "metadata": {},
   "outputs": [
    {
     "data": {
      "text/plain": [
       "RandomForestRegressor(bootstrap=True, ccp_alpha=0.0, criterion='mse',\n",
       "                      max_depth=None, max_features=15, max_leaf_nodes=None,\n",
       "                      max_samples=None, min_impurity_decrease=0.0,\n",
       "                      min_impurity_split=None, min_samples_leaf=1,\n",
       "                      min_samples_split=2, min_weight_fraction_leaf=0.0,\n",
       "                      n_estimators=40, n_jobs=None, oob_score=False,\n",
       "                      random_state=None, verbose=0, warm_start=False)"
      ]
     },
     "execution_count": 50,
     "metadata": {},
     "output_type": "execute_result"
    }
   ],
   "source": [
    "forest = RandomForestRegressor(n_estimators=40, max_features=15)\n",
    "forest.fit(df.drop('y', 1), df['y'])"
   ]
  },
  {
   "cell_type": "code",
   "execution_count": 51,
   "metadata": {},
   "outputs": [
    {
     "data": {
      "text/plain": [
       "array([0.10235193, 0.00711389, 0.00712649, 0.00732825, 0.00722736,\n",
       "       0.00722576, 0.00707085, 0.00679299, 0.00646842, 0.06451821,\n",
       "       0.18140702, 0.00628121, 0.21091408, 0.00668687, 0.00775889,\n",
       "       0.00752453, 0.06360381, 0.00695702, 0.00659746, 0.0067203 ,\n",
       "       0.00608481, 0.00855874, 0.0114259 , 0.00715225, 0.02128124,\n",
       "       0.18990446, 0.00596922, 0.00696442, 0.00741766, 0.00756598])"
      ]
     },
     "execution_count": 51,
     "metadata": {},
     "output_type": "execute_result"
    }
   ],
   "source": [
    "forest.feature_importances_"
   ]
  },
  {
   "cell_type": "code",
   "execution_count": 52,
   "metadata": {},
   "outputs": [
    {
     "data": {
      "text/plain": [
       "array([127.27416182])"
      ]
     },
     "execution_count": 52,
     "metadata": {},
     "output_type": "execute_result"
    }
   ],
   "source": [
    "forest.predict(yeni_data)"
   ]
  },
  {
   "cell_type": "markdown",
   "metadata": {},
   "source": [
    "## Alternatif: Ensembling"
   ]
  },
  {
   "cell_type": "code",
   "execution_count": 56,
   "metadata": {},
   "outputs": [],
   "source": [
    "from sklearn.ensemble import RandomForestRegressor"
   ]
  },
  {
   "cell_type": "code",
   "execution_count": 57,
   "metadata": {},
   "outputs": [],
   "source": [
    "model = RandomForestRegressor(n_estimators=200, n_jobs=-1)"
   ]
  },
  {
   "cell_type": "code",
   "execution_count": null,
   "metadata": {},
   "outputs": [],
   "source": []
  },
  {
   "cell_type": "code",
   "execution_count": 58,
   "metadata": {},
   "outputs": [
    {
     "data": {
      "text/plain": [
       "RandomForestRegressor(bootstrap=True, ccp_alpha=0.0, criterion='mse',\n",
       "                      max_depth=None, max_features='auto', max_leaf_nodes=None,\n",
       "                      max_samples=None, min_impurity_decrease=0.0,\n",
       "                      min_impurity_split=None, min_samples_leaf=1,\n",
       "                      min_samples_split=2, min_weight_fraction_leaf=0.0,\n",
       "                      n_estimators=200, n_jobs=-1, oob_score=False,\n",
       "                      random_state=None, verbose=0, warm_start=False)"
      ]
     },
     "execution_count": 58,
     "metadata": {},
     "output_type": "execute_result"
    }
   ],
   "source": [
    "model.fit(X_train, y_train)"
   ]
  },
  {
   "cell_type": "code",
   "execution_count": 59,
   "metadata": {},
   "outputs": [
    {
     "name": "stdout",
     "output_type": "stream",
     "text": [
      "Train score: 0.9728891051611728\n"
     ]
    }
   ],
   "source": [
    "print('Train score:', model.score(X_train, y_train))"
   ]
  },
  {
   "cell_type": "code",
   "execution_count": 60,
   "metadata": {},
   "outputs": [
    {
     "name": "stdout",
     "output_type": "stream",
     "text": [
      "Test score: 0.8045408050688488\n"
     ]
    }
   ],
   "source": [
    "print('Test score:', model.score(X_test, y_test))"
   ]
  },
  {
   "cell_type": "markdown",
   "metadata": {},
   "source": [
    "## Feature Importances"
   ]
  },
  {
   "cell_type": "code",
   "execution_count": 61,
   "metadata": {},
   "outputs": [
    {
     "data": {
      "text/plain": [
       "array([0.10217593, 0.00595347, 0.00605551, 0.00628968, 0.00607608,\n",
       "       0.0057659 , 0.0059102 , 0.00604475, 0.00558013, 0.06317942,\n",
       "       0.18160721, 0.00518166, 0.22710062, 0.00591571, 0.00631479,\n",
       "       0.0064435 , 0.0652257 , 0.00521488, 0.00584478, 0.00485186,\n",
       "       0.00563228, 0.00840785, 0.00836807, 0.00545936, 0.01943435,\n",
       "       0.20295441, 0.00574918, 0.00539686, 0.00546217, 0.00640369])"
      ]
     },
     "execution_count": 61,
     "metadata": {},
     "output_type": "execute_result"
    }
   ],
   "source": [
    "importances = model.feature_importances_\n",
    "importances"
   ]
  },
  {
   "cell_type": "code",
   "execution_count": 74,
   "metadata": {},
   "outputs": [
    {
     "data": {
      "text/plain": [
       "RandomForestRegressor(bootstrap=True, ccp_alpha=0.0, criterion='mse',\n",
       "                      max_depth=None, max_features='auto', max_leaf_nodes=None,\n",
       "                      max_samples=None, min_impurity_decrease=0.0,\n",
       "                      min_impurity_split=None, min_samples_leaf=1,\n",
       "                      min_samples_split=2, min_weight_fraction_leaf=0.0,\n",
       "                      n_estimators=200, n_jobs=-1, oob_score=False,\n",
       "                      random_state=None, verbose=0, warm_start=False)"
      ]
     },
     "execution_count": 74,
     "metadata": {},
     "output_type": "execute_result"
    }
   ],
   "source": [
    "model.fit(X_train[:, importances > 0.01], y_train)"
   ]
  },
  {
   "cell_type": "code",
   "execution_count": 75,
   "metadata": {},
   "outputs": [
    {
     "data": {
      "text/plain": [
       "0.8506762284227175"
      ]
     },
     "execution_count": 75,
     "metadata": {},
     "output_type": "execute_result"
    }
   ],
   "source": [
    "model.score(X_test[:, importances > 0.01], y_test)"
   ]
  },
  {
   "cell_type": "markdown",
   "metadata": {},
   "source": [
    "## Ornek Boosting Algoritmasi"
   ]
  },
  {
   "cell_type": "code",
   "execution_count": 79,
   "metadata": {},
   "outputs": [],
   "source": [
    "x, y = make_regression(n_samples=900, n_features=5)"
   ]
  },
  {
   "cell_type": "code",
   "execution_count": 80,
   "metadata": {},
   "outputs": [],
   "source": [
    "df = pd.DataFrame(x)\n",
    "df['y'] = y"
   ]
  },
  {
   "cell_type": "code",
   "execution_count": 81,
   "metadata": {},
   "outputs": [
    {
     "data": {
      "text/html": [
       "<div>\n",
       "<style scoped>\n",
       "    .dataframe tbody tr th:only-of-type {\n",
       "        vertical-align: middle;\n",
       "    }\n",
       "\n",
       "    .dataframe tbody tr th {\n",
       "        vertical-align: top;\n",
       "    }\n",
       "\n",
       "    .dataframe thead th {\n",
       "        text-align: right;\n",
       "    }\n",
       "</style>\n",
       "<table border=\"1\" class=\"dataframe\">\n",
       "  <thead>\n",
       "    <tr style=\"text-align: right;\">\n",
       "      <th></th>\n",
       "      <th>0</th>\n",
       "      <th>1</th>\n",
       "      <th>2</th>\n",
       "      <th>3</th>\n",
       "      <th>4</th>\n",
       "      <th>y</th>\n",
       "    </tr>\n",
       "  </thead>\n",
       "  <tbody>\n",
       "    <tr>\n",
       "      <th>0</th>\n",
       "      <td>1.922800</td>\n",
       "      <td>1.483813</td>\n",
       "      <td>-1.252466</td>\n",
       "      <td>1.085380</td>\n",
       "      <td>0.611793</td>\n",
       "      <td>191.266250</td>\n",
       "    </tr>\n",
       "    <tr>\n",
       "      <th>1</th>\n",
       "      <td>-0.907701</td>\n",
       "      <td>-0.966732</td>\n",
       "      <td>-0.960279</td>\n",
       "      <td>1.094938</td>\n",
       "      <td>2.668647</td>\n",
       "      <td>128.306042</td>\n",
       "    </tr>\n",
       "    <tr>\n",
       "      <th>2</th>\n",
       "      <td>0.994677</td>\n",
       "      <td>1.288382</td>\n",
       "      <td>-0.922408</td>\n",
       "      <td>1.542033</td>\n",
       "      <td>-0.897449</td>\n",
       "      <td>108.079061</td>\n",
       "    </tr>\n",
       "    <tr>\n",
       "      <th>3</th>\n",
       "      <td>-0.158555</td>\n",
       "      <td>1.768622</td>\n",
       "      <td>0.618272</td>\n",
       "      <td>0.156558</td>\n",
       "      <td>1.978170</td>\n",
       "      <td>366.833210</td>\n",
       "    </tr>\n",
       "    <tr>\n",
       "      <th>4</th>\n",
       "      <td>-1.069922</td>\n",
       "      <td>-0.038743</td>\n",
       "      <td>0.473152</td>\n",
       "      <td>0.714673</td>\n",
       "      <td>-0.801264</td>\n",
       "      <td>15.256386</td>\n",
       "    </tr>\n",
       "  </tbody>\n",
       "</table>\n",
       "</div>"
      ],
      "text/plain": [
       "          0         1         2         3         4           y\n",
       "0  1.922800  1.483813 -1.252466  1.085380  0.611793  191.266250\n",
       "1 -0.907701 -0.966732 -0.960279  1.094938  2.668647  128.306042\n",
       "2  0.994677  1.288382 -0.922408  1.542033 -0.897449  108.079061\n",
       "3 -0.158555  1.768622  0.618272  0.156558  1.978170  366.833210\n",
       "4 -1.069922 -0.038743  0.473152  0.714673 -0.801264   15.256386"
      ]
     },
     "execution_count": 81,
     "metadata": {},
     "output_type": "execute_result"
    }
   ],
   "source": [
    "df.head()"
   ]
  },
  {
   "cell_type": "code",
   "execution_count": null,
   "metadata": {},
   "outputs": [],
   "source": []
  },
  {
   "cell_type": "code",
   "execution_count": 95,
   "metadata": {},
   "outputs": [
    {
     "name": "stdout",
     "output_type": "stream",
     "text": [
      "21536.57933390883\n",
      "38092.422055445655\n"
     ]
    }
   ],
   "source": [
    "trees = []\n",
    "weights = [1/900] * 900\n",
    "\n",
    "for i in range(2):\n",
    "    indices = np.random.choice(range(900), p=weights, size=900)\n",
    "    \n",
    "    df_sample = df.iloc[indices]\n",
    "    x = df_sample.drop('y', 1)\n",
    "    y = df_sample['y']\n",
    "    \n",
    "    tree = DecisionTreeRegressor(max_depth=1)\n",
    "    tree.fit(x, y)\n",
    "    \n",
    "    trees.append(tree)\n",
    "    \n",
    "    y_pred = tree.predict(df.drop('y', 1))\n",
    "    y_true = df['y']\n",
    "    \n",
    "    hata = (y_pred - y_true)**2 # squared error\n",
    "    print(hata.mean())\n",
    "    \n",
    "    weights = (hata.abs() / hata.abs().sum()).tolist()\n"
   ]
  },
  {
   "cell_type": "code",
   "execution_count": 102,
   "metadata": {},
   "outputs": [
    {
     "data": {
      "text/plain": [
       "(363, 6)"
      ]
     },
     "execution_count": 102,
     "metadata": {},
     "output_type": "execute_result"
    }
   ],
   "source": [
    "df_sample.drop_duplicates().shape"
   ]
  },
  {
   "cell_type": "code",
   "execution_count": 300,
   "metadata": {},
   "outputs": [
    {
     "data": {
      "text/plain": [
       "0      1.301648e-04\n",
       "1      3.334396e-05\n",
       "2      5.358149e-07\n",
       "3      1.141205e-04\n",
       "4      1.500299e-03\n",
       "           ...     \n",
       "895    6.733171e-05\n",
       "896    9.473890e-04\n",
       "897    1.070708e-03\n",
       "898    3.711128e-03\n",
       "899    3.112628e-03\n",
       "Name: y, Length: 900, dtype: float64"
      ]
     },
     "execution_count": 300,
     "metadata": {},
     "output_type": "execute_result"
    }
   ],
   "source": [
    "(hata.abs() / hata.abs().sum())"
   ]
  },
  {
   "cell_type": "code",
   "execution_count": 291,
   "metadata": {},
   "outputs": [
    {
     "data": {
      "text/plain": [
       "0.9999999999999992"
      ]
     },
     "execution_count": 291,
     "metadata": {},
     "output_type": "execute_result"
    }
   ],
   "source": [
    "sum(weights)"
   ]
  },
  {
   "cell_type": "code",
   "execution_count": 292,
   "metadata": {},
   "outputs": [
    {
     "data": {
      "text/html": [
       "<div>\n",
       "<style scoped>\n",
       "    .dataframe tbody tr th:only-of-type {\n",
       "        vertical-align: middle;\n",
       "    }\n",
       "\n",
       "    .dataframe tbody tr th {\n",
       "        vertical-align: top;\n",
       "    }\n",
       "\n",
       "    .dataframe thead th {\n",
       "        text-align: right;\n",
       "    }\n",
       "</style>\n",
       "<table border=\"1\" class=\"dataframe\">\n",
       "  <thead>\n",
       "    <tr style=\"text-align: right;\">\n",
       "      <th></th>\n",
       "      <th>0</th>\n",
       "      <th>1</th>\n",
       "      <th>2</th>\n",
       "      <th>3</th>\n",
       "      <th>4</th>\n",
       "    </tr>\n",
       "  </thead>\n",
       "  <tbody>\n",
       "    <tr>\n",
       "      <td>4</td>\n",
       "      <td>-0.270794</td>\n",
       "      <td>0.400247</td>\n",
       "      <td>0.565578</td>\n",
       "      <td>0.857212</td>\n",
       "      <td>-1.204248</td>\n",
       "    </tr>\n",
       "  </tbody>\n",
       "</table>\n",
       "</div>"
      ],
      "text/plain": [
       "          0         1         2         3         4\n",
       "4 -0.270794  0.400247  0.565578  0.857212 -1.204248"
      ]
     },
     "execution_count": 292,
     "metadata": {},
     "output_type": "execute_result"
    }
   ],
   "source": [
    "yeni = df.iloc[4:5].drop('y', 1)\n",
    "yeni"
   ]
  },
  {
   "cell_type": "code",
   "execution_count": 294,
   "metadata": {},
   "outputs": [
    {
     "data": {
      "text/plain": [
       "14.817952727279698"
      ]
     },
     "execution_count": 294,
     "metadata": {},
     "output_type": "execute_result"
    }
   ],
   "source": [
    "np.mean([tree.predict(yeni) for tree in trees])"
   ]
  },
  {
   "cell_type": "code",
   "execution_count": 295,
   "metadata": {},
   "outputs": [
    {
     "data": {
      "text/plain": [
       "4    12.28062\n",
       "Name: y, dtype: float64"
      ]
     },
     "execution_count": 295,
     "metadata": {},
     "output_type": "execute_result"
    }
   ],
   "source": [
    "df.iloc[4:5, -1]"
   ]
  },
  {
   "cell_type": "code",
   "execution_count": 247,
   "metadata": {},
   "outputs": [
    {
     "data": {
      "text/html": [
       "<div>\n",
       "<style scoped>\n",
       "    .dataframe tbody tr th:only-of-type {\n",
       "        vertical-align: middle;\n",
       "    }\n",
       "\n",
       "    .dataframe tbody tr th {\n",
       "        vertical-align: top;\n",
       "    }\n",
       "\n",
       "    .dataframe thead th {\n",
       "        text-align: right;\n",
       "    }\n",
       "</style>\n",
       "<table border=\"1\" class=\"dataframe\">\n",
       "  <thead>\n",
       "    <tr style=\"text-align: right;\">\n",
       "      <th></th>\n",
       "      <th>0</th>\n",
       "      <th>1</th>\n",
       "      <th>y</th>\n",
       "    </tr>\n",
       "  </thead>\n",
       "  <tbody>\n",
       "    <tr>\n",
       "      <td>0</td>\n",
       "      <td>-0.063941</td>\n",
       "      <td>0.326760</td>\n",
       "      <td>16.440063</td>\n",
       "    </tr>\n",
       "    <tr>\n",
       "      <td>3</td>\n",
       "      <td>1.486097</td>\n",
       "      <td>-0.126469</td>\n",
       "      <td>84.959652</td>\n",
       "    </tr>\n",
       "    <tr>\n",
       "      <td>3</td>\n",
       "      <td>1.486097</td>\n",
       "      <td>-0.126469</td>\n",
       "      <td>84.959652</td>\n",
       "    </tr>\n",
       "    <tr>\n",
       "      <td>2</td>\n",
       "      <td>-0.419529</td>\n",
       "      <td>0.719930</td>\n",
       "      <td>18.807848</td>\n",
       "    </tr>\n",
       "    <tr>\n",
       "      <td>1</td>\n",
       "      <td>2.079265</td>\n",
       "      <td>-1.021470</td>\n",
       "      <td>66.053720</td>\n",
       "    </tr>\n",
       "    <tr>\n",
       "      <td>2</td>\n",
       "      <td>-0.419529</td>\n",
       "      <td>0.719930</td>\n",
       "      <td>18.807848</td>\n",
       "    </tr>\n",
       "    <tr>\n",
       "      <td>0</td>\n",
       "      <td>-0.063941</td>\n",
       "      <td>0.326760</td>\n",
       "      <td>16.440063</td>\n",
       "    </tr>\n",
       "    <tr>\n",
       "      <td>0</td>\n",
       "      <td>-0.063941</td>\n",
       "      <td>0.326760</td>\n",
       "      <td>16.440063</td>\n",
       "    </tr>\n",
       "    <tr>\n",
       "      <td>6</td>\n",
       "      <td>0.940865</td>\n",
       "      <td>-0.952604</td>\n",
       "      <td>-0.780185</td>\n",
       "    </tr>\n",
       "    <tr>\n",
       "      <td>4</td>\n",
       "      <td>0.217931</td>\n",
       "      <td>1.116922</td>\n",
       "      <td>83.472197</td>\n",
       "    </tr>\n",
       "  </tbody>\n",
       "</table>\n",
       "</div>"
      ],
      "text/plain": [
       "          0         1          y\n",
       "0 -0.063941  0.326760  16.440063\n",
       "3  1.486097 -0.126469  84.959652\n",
       "3  1.486097 -0.126469  84.959652\n",
       "2 -0.419529  0.719930  18.807848\n",
       "1  2.079265 -1.021470  66.053720\n",
       "2 -0.419529  0.719930  18.807848\n",
       "0 -0.063941  0.326760  16.440063\n",
       "0 -0.063941  0.326760  16.440063\n",
       "6  0.940865 -0.952604  -0.780185\n",
       "4  0.217931  1.116922  83.472197"
      ]
     },
     "execution_count": 247,
     "metadata": {},
     "output_type": "execute_result"
    }
   ],
   "source": [
    "df_sample"
   ]
  },
  {
   "cell_type": "code",
   "execution_count": null,
   "metadata": {},
   "outputs": [],
   "source": []
  }
 ],
 "metadata": {
  "kernelspec": {
   "display_name": "Python 3",
   "language": "python",
   "name": "python3"
  },
  "language_info": {
   "codemirror_mode": {
    "name": "ipython",
    "version": 3
   },
   "file_extension": ".py",
   "mimetype": "text/x-python",
   "name": "python",
   "nbconvert_exporter": "python",
   "pygments_lexer": "ipython3",
   "version": "3.7.4"
  }
 },
 "nbformat": 4,
 "nbformat_minor": 2
}
